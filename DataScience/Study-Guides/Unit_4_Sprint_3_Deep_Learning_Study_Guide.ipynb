{
  "nbformat": 4,
  "nbformat_minor": 0,
  "metadata": {
    "colab": {
      "name": "Unit_4_Sprint_3_Deep_Learning_Study_Guide.ipynb",
      "provenance": [],
      "authorship_tag": "ABX9TyOsAxWSxlK1v+P51Sj51oWp",
      "include_colab_link": true
    },
    "kernelspec": {
      "name": "python3",
      "display_name": "Python 3"
    },
    "accelerator": "GPU"
  },
  "cells": [
    {
      "cell_type": "markdown",
      "metadata": {
        "id": "view-in-github",
        "colab_type": "text"
      },
      "source": [
        "<a href=\"https://colab.research.google.com/github/bundickm/Study-Guides/blob/master/Unit_4_Sprint_3_Deep_Learning_Study_Guide.ipynb\" target=\"_parent\"><img src=\"https://colab.research.google.com/assets/colab-badge.svg\" alt=\"Open In Colab\"/></a>"
      ]
    },
    {
      "cell_type": "markdown",
      "metadata": {
        "id": "enodNfbMIxzN",
        "colab_type": "text"
      },
      "source": [
        "This study guide should reinforce and provide practice for all of the concepts you have seen in the past week. There are a mix of written questions and coding exercises, both are equally important to prepare you for the sprint challenge as well as to be able to speak on these topics comfortably in interviews and on the job.\n",
        "\n",
        "If you get stuck or are unsure of something remember the 20 minute rule. If that doesn't help, then research a solution with google and stackoverflow. Only once you have exausted these methods should you turn to your Team Lead - they won't be there on your SC or during an interview. That being said, don't hesitate to ask for help if you truly are stuck.\n",
        "\n",
        "Have fun studying!"
      ]
    },
    {
      "cell_type": "markdown",
      "metadata": {
        "id": "nvKGmIjuneEd",
        "colab_type": "text"
      },
      "source": [
        "# Deep Learning Architectures"
      ]
    },
    {
      "cell_type": "markdown",
      "metadata": {
        "id": "DBeXaA-Dnjdk",
        "colab_type": "text"
      },
      "source": [
        "## Definitions"
      ]
    },
    {
      "cell_type": "markdown",
      "metadata": {
        "id": "tsaLULTSnmVm",
        "colab_type": "text"
      },
      "source": [
        "Define the following terms in your own words, do not simply copy and paste a definition found elsewhere but reword it to be understandable and memorable to you. *Double click the markdown to add your definitions.*"
      ]
    },
    {
      "cell_type": "markdown",
      "metadata": {
        "id": "xnZfttoInsIb",
        "colab_type": "text"
      },
      "source": [
        "**Recurrent Neural Network:** `Your Answer Here`\n",
        "\n",
        "**Long Short Term Memory:** `Your Answer Here`\n",
        "\n",
        "**Convolution:** `Your Answer Here`\n",
        "\n",
        "**Convolutional Neural Network:** `Your Answer Here`\n",
        "\n",
        "**Transfer Learning:** `Your Answer Here`\n",
        "\n",
        "**Autoencoder:** `Your Answer Here`\n",
        "\n",
        "**Generative Adversarial Network:** `Your Answer Here`"
      ]
    },
    {
      "cell_type": "markdown",
      "metadata": {
        "id": "2rtdfOjas4AJ",
        "colab_type": "text"
      },
      "source": [
        "# Questions of Understanding"
      ]
    },
    {
      "cell_type": "markdown",
      "metadata": {
        "id": "1cSX9IQ5s6ku",
        "colab_type": "text"
      },
      "source": [
        "1. What is the \"deep\" in Deep Learning refer to?\n",
        "```\n",
        "Your Answer Here\n",
        "```\n",
        "\n",
        "2. Name at least two types of problems that RNN's/LSTM's are good for. Why are RNN's particularly suited for these problems?\n",
        "```\n",
        "Your Answer Here\n",
        "```\n",
        "\n",
        "3. What weakness in RNN's does an LSTM help to address?\n",
        "```\n",
        "Your Answer Here\n",
        "```\n",
        "\n",
        "4. Name at least two types of problems that CNN's are good for. Why are CNN's particularly suited for these problems?\n",
        "```\n",
        "Your Answer Here\n",
        "```\n",
        "\n",
        "5. What are the advantages of transfer learning?\n",
        "```\n",
        "Your Answer Here\n",
        "```\n",
        "\n",
        "6. Name at least two types of problems that autoencoders are good for. Why are autoencoders particularly suited for these problems?\n",
        "```\n",
        "Your Answer Here\n",
        "```"
      ]
    },
    {
      "cell_type": "markdown",
      "metadata": {
        "id": "dPzD9SMUzqR2",
        "colab_type": "text"
      },
      "source": [
        "## Practice Problems"
      ]
    },
    {
      "cell_type": "markdown",
      "metadata": {
        "id": "uXtmktahzszZ",
        "colab_type": "text"
      },
      "source": [
        "### RNN's"
      ]
    },
    {
      "cell_type": "markdown",
      "metadata": {
        "id": "O6PDp1ad1-Ep",
        "colab_type": "text"
      },
      "source": [
        "Run the code below to create a dummy dataset. Then build a Neural Network in Keras using at least one LSTM layer."
      ]
    },
    {
      "cell_type": "code",
      "metadata": {
        "id": "hfYSiiVOmDWc",
        "colab_type": "code",
        "colab": {}
      },
      "source": [
        "# Starter code for dummy data\n",
        "from numpy import array\n",
        " \n",
        "def split_sequence(sequence, n_steps):\n",
        "\tX, y = list(), list()\n",
        "\tfor i in range(len(sequence)):\n",
        "\t\tend_ix = i + n_steps\n",
        "\t\tif end_ix > len(sequence)-1:\n",
        "\t\t\tbreak\n",
        "\t\tseq_x, seq_y = sequence[i:end_ix], sequence[end_ix]\n",
        "\t\tX.append(seq_x)\n",
        "\t\ty.append(seq_y)\n",
        "\treturn array(X), array(y)\n",
        " \n",
        "raw_seq = [10, 20, 30, 40, 50, 60, 70, 80, 90, 100, 110, 120]\n",
        "X, y = split_sequence(raw_seq, 3)\n",
        "n_features = 1\n",
        "X = X.reshape((X.shape[0], X.shape[1], n_features))"
      ],
      "execution_count": 0,
      "outputs": []
    },
    {
      "cell_type": "code",
      "metadata": {
        "id": "d3B4-0iyzmUf",
        "colab_type": "code",
        "colab": {}
      },
      "source": [
        "# define model\n",
        "\n",
        "\n",
        "# fit model\n"
      ],
      "execution_count": 0,
      "outputs": []
    },
    {
      "cell_type": "markdown",
      "metadata": {
        "id": "xZo2kgFq0GxI",
        "colab_type": "text"
      },
      "source": [
        "Once you have trained your model, run the code below to test it. The predicted output should be near `130` and the rounded output should be exactly `130`. We can round our prediction because we know our sequence only deals in increments of 10, with real data this would be a bad idea."
      ]
    },
    {
      "cell_type": "code",
      "metadata": {
        "id": "EM7qFhDOx8Hg",
        "colab_type": "code",
        "outputId": "6c2e98d2-a180-4230-9a98-bb2874ba1606",
        "colab": {
          "base_uri": "https://localhost:8080/",
          "height": 53
        }
      },
      "source": [
        "# demonstrate prediction\n",
        "x_input = array([100, 110, 120])\n",
        "x_input = x_input.reshape((1, n_steps, n_features))\n",
        "yhat = model.predict(x_input, verbose=0)[0][0]\n",
        "\n",
        "print('Prediction:', yhat)\n",
        "print('Rounded to Nearest 10:', int((10 * round(yhat/10))))"
      ],
      "execution_count": 0,
      "outputs": [
        {
          "output_type": "stream",
          "text": [
            "Prediction: 132.06418\n",
            "Rounded to Nearest 10: 130\n"
          ],
          "name": "stdout"
        }
      ]
    },
    {
      "cell_type": "markdown",
      "metadata": {
        "id": "pcTffzWm2xFj",
        "colab_type": "text"
      },
      "source": [
        "### CNN's"
      ]
    },
    {
      "cell_type": "markdown",
      "metadata": {
        "id": "xhUwcHtI4beu",
        "colab_type": "text"
      },
      "source": [
        "[Jian-Yang](https://www.youtube.com/watch?v=ACmydtFDTGs) from Silicon Valley might be on to the next billion dollar company. Beat him to market by creating your own hotdog detector using a pretrained model from TensorFlow Hub. You should be able to feed your model an image final output should be either \"Hotdog\" or \"Not hotdog\"."
      ]
    },
    {
      "cell_type": "code",
      "metadata": {
        "id": "10TSJxDl06B1",
        "colab_type": "code",
        "colab": {}
      },
      "source": [
        ""
      ],
      "execution_count": 0,
      "outputs": []
    },
    {
      "cell_type": "markdown",
      "metadata": {
        "id": "HQ25yIiz5WEU",
        "colab_type": "text"
      },
      "source": [
        "Once complete, test out your model with random hotdog and non-hotdog related images."
      ]
    },
    {
      "cell_type": "code",
      "metadata": {
        "id": "MB4UqarA5VeI",
        "colab_type": "code",
        "colab": {}
      },
      "source": [
        ""
      ],
      "execution_count": 0,
      "outputs": []
    },
    {
      "cell_type": "markdown",
      "metadata": {
        "id": "n2VrTjGdWkJS",
        "colab_type": "text"
      },
      "source": [
        "# Artificial Intelligence"
      ]
    },
    {
      "cell_type": "markdown",
      "metadata": {
        "id": "93x_dWAaWnkS",
        "colab_type": "text"
      },
      "source": [
        "1. What is General Artificial Intelligence?\n",
        "```\n",
        "Your Answer Here\n",
        "```\n",
        "\n",
        "2. Is General Artificial Intelligence possible? Why or Why not?\n",
        "```\n",
        "Your Answer Here\n",
        "```\n",
        "\n",
        "3. As data science improves, what positive and negative impacts do you think it will have on our society?\n",
        "```\n",
        "Your Answer Here\n",
        "```\n",
        "\n",
        "4. What are the benefits and dangers of pursuing AI? Does the good outweigh the bad?\n",
        "```\n",
        "Your Answer Here\n",
        "```\n",
        "\n",
        "5. The world is unlikely to stop pursuing the goal of thinking machines, so what steps/precautions can we take to approach the challenge in a safe and ethical way?\n",
        "```\n",
        "Your Answer Here\n",
        "```\n",
        "\n",
        "6. Automation is now getting to the point of impacting fields that have been traditionally safe from such concerns such as transportation, machine learning, and healthcare. What impact do you think this will have on these professions? Will these jobs simply shift to accomodate the automation or will the automation eliminate the jobs?\n",
        "```\n",
        "Your Answer Here\n",
        "```"
      ]
    },
    {
      "cell_type": "markdown",
      "metadata": {
        "id": "TZAlI0A36_OT",
        "colab_type": "text"
      },
      "source": [
        "## Practice Problem"
      ]
    },
    {
      "cell_type": "markdown",
      "metadata": {
        "id": "2QSA_BC76aP0",
        "colab_type": "text"
      },
      "source": [
        "Try using AutoML on the dataset below. It's great if you can get it working but don't spend too much time struggling with it. If you get stuck, move on to the next question."
      ]
    },
    {
      "cell_type": "code",
      "metadata": {
        "id": "ew7GT97X66qD",
        "colab_type": "code",
        "colab": {}
      },
      "source": [
        "data_url = 'https://github.com/bundickm/Study-Guides/blob/master/data/hearts.csv'"
      ],
      "execution_count": 0,
      "outputs": []
    },
    {
      "cell_type": "code",
      "metadata": {
        "id": "Ei9YWRPv6-OU",
        "colab_type": "code",
        "colab": {}
      },
      "source": [
        ""
      ],
      "execution_count": 0,
      "outputs": []
    },
    {
      "cell_type": "markdown",
      "metadata": {
        "id": "_bjhojqi7D7E",
        "colab_type": "text"
      },
      "source": [
        "What are some of the uses and limitations of AutoML and other similar tools?\n",
        "```\n",
        "Your Answer Here\n",
        "```"
      ]
    }
  ]
}