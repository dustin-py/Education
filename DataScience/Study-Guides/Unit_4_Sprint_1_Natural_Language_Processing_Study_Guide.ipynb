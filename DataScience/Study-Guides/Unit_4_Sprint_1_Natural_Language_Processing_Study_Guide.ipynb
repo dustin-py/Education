{
  "nbformat": 4,
  "nbformat_minor": 0,
  "metadata": {
    "colab": {
      "name": "Unit_4_Sprint_1_Natural_Language_Processing_Study_Guide.ipynb",
      "provenance": [],
      "authorship_tag": "ABX9TyP7Vt8lDCIgxOEDbGD4VUNE",
      "include_colab_link": true
    },
    "kernelspec": {
      "name": "python3",
      "display_name": "Python 3"
    }
  },
  "cells": [
    {
      "cell_type": "markdown",
      "metadata": {
        "id": "view-in-github",
        "colab_type": "text"
      },
      "source": [
        "<a href=\"https://colab.research.google.com/github/bundickm/Study-Guides/blob/master/Unit_4_Sprint_1_Natural_Language_Processing_Study_Guide.ipynb\" target=\"_parent\"><img src=\"https://colab.research.google.com/assets/colab-badge.svg\" alt=\"Open In Colab\"/></a>"
      ]
    },
    {
      "cell_type": "markdown",
      "metadata": {
        "id": "enodNfbMIxzN",
        "colab_type": "text"
      },
      "source": [
        "This study guide should reinforce and provide practice for all of the concepts you have seen in the past week. There are a mix of written questions and coding exercises, both are equally important to prepare you for the sprint challenge as well as to be able to speak on these topics comfortably in interviews and on the job.\n",
        "\n",
        "If you get stuck or are unsure of something remember the 20 minute rule. If that doesn't help, then research a solution with google and stackoverflow. Only once you have exausted these methods should you turn to your Team Lead - they won't be there on your SC or during an interview. That being said, don't hesitate to ask for help if you truly are stuck.\n",
        "\n",
        "Have fun studying!"
      ]
    },
    {
      "cell_type": "code",
      "metadata": {
        "id": "mjVNoILlDD83",
        "colab_type": "code",
        "colab": {}
      },
      "source": [
        "import pandas as pd"
      ],
      "execution_count": 0,
      "outputs": []
    },
    {
      "cell_type": "code",
      "metadata": {
        "id": "LMQBp_ddC9CX",
        "colab_type": "code",
        "outputId": "688a6986-7a3c-4a90-9a7d-c93f36cf7bb0",
        "colab": {
          "base_uri": "https://localhost:8080/",
          "height": 242
        }
      },
      "source": [
        "df = pd.read_csv('https://raw.githubusercontent.com/bundickm/Study-Guides/master/data/cannabis.csv')\n",
        "print('Shape:', df.shape, '\\n')\n",
        "df.head()"
      ],
      "execution_count": 13,
      "outputs": [
        {
          "output_type": "stream",
          "text": [
            "Shape: (2351, 6) \n",
            "\n"
          ],
          "name": "stdout"
        },
        {
          "output_type": "execute_result",
          "data": {
            "text/html": [
              "<div>\n",
              "<style scoped>\n",
              "    .dataframe tbody tr th:only-of-type {\n",
              "        vertical-align: middle;\n",
              "    }\n",
              "\n",
              "    .dataframe tbody tr th {\n",
              "        vertical-align: top;\n",
              "    }\n",
              "\n",
              "    .dataframe thead th {\n",
              "        text-align: right;\n",
              "    }\n",
              "</style>\n",
              "<table border=\"1\" class=\"dataframe\">\n",
              "  <thead>\n",
              "    <tr style=\"text-align: right;\">\n",
              "      <th></th>\n",
              "      <th>Strain</th>\n",
              "      <th>Type</th>\n",
              "      <th>Rating</th>\n",
              "      <th>Effects</th>\n",
              "      <th>Flavor</th>\n",
              "      <th>Description</th>\n",
              "    </tr>\n",
              "  </thead>\n",
              "  <tbody>\n",
              "    <tr>\n",
              "      <th>0</th>\n",
              "      <td>100-Og</td>\n",
              "      <td>hybrid</td>\n",
              "      <td>4.0</td>\n",
              "      <td>Creative,Energetic,Tingly,Euphoric,Relaxed</td>\n",
              "      <td>Earthy,Sweet,Citrus</td>\n",
              "      <td>$100 OG is a 50/50 hybrid strain that packs a ...</td>\n",
              "    </tr>\n",
              "    <tr>\n",
              "      <th>1</th>\n",
              "      <td>98-White-Widow</td>\n",
              "      <td>hybrid</td>\n",
              "      <td>4.7</td>\n",
              "      <td>Relaxed,Aroused,Creative,Happy,Energetic</td>\n",
              "      <td>Flowery,Violet,Diesel</td>\n",
              "      <td>The ‘98 Aloha White Widow is an especially pot...</td>\n",
              "    </tr>\n",
              "    <tr>\n",
              "      <th>2</th>\n",
              "      <td>1024</td>\n",
              "      <td>sativa</td>\n",
              "      <td>4.4</td>\n",
              "      <td>Uplifted,Happy,Relaxed,Energetic,Creative</td>\n",
              "      <td>Spicy/Herbal,Sage,Woody</td>\n",
              "      <td>1024 is a sativa-dominant hybrid bred in Spain...</td>\n",
              "    </tr>\n",
              "    <tr>\n",
              "      <th>3</th>\n",
              "      <td>13-Dawgs</td>\n",
              "      <td>hybrid</td>\n",
              "      <td>4.2</td>\n",
              "      <td>Tingly,Creative,Hungry,Relaxed,Uplifted</td>\n",
              "      <td>Apricot,Citrus,Grapefruit</td>\n",
              "      <td>13 Dawgs is a hybrid of G13 and Chemdawg genet...</td>\n",
              "    </tr>\n",
              "    <tr>\n",
              "      <th>4</th>\n",
              "      <td>24K-Gold</td>\n",
              "      <td>hybrid</td>\n",
              "      <td>4.6</td>\n",
              "      <td>Happy,Relaxed,Euphoric,Uplifted,Talkative</td>\n",
              "      <td>Citrus,Earthy,Orange</td>\n",
              "      <td>Also known as Kosher Tangie, 24k Gold is a 60%...</td>\n",
              "    </tr>\n",
              "  </tbody>\n",
              "</table>\n",
              "</div>"
            ],
            "text/plain": [
              "           Strain  ...                                        Description\n",
              "0          100-Og  ...  $100 OG is a 50/50 hybrid strain that packs a ...\n",
              "1  98-White-Widow  ...  The ‘98 Aloha White Widow is an especially pot...\n",
              "2            1024  ...  1024 is a sativa-dominant hybrid bred in Spain...\n",
              "3        13-Dawgs  ...  13 Dawgs is a hybrid of G13 and Chemdawg genet...\n",
              "4        24K-Gold  ...  Also known as Kosher Tangie, 24k Gold is a 60%...\n",
              "\n",
              "[5 rows x 6 columns]"
            ]
          },
          "metadata": {
            "tags": []
          },
          "execution_count": 13
        }
      ]
    },
    {
      "cell_type": "markdown",
      "metadata": {
        "id": "Zbpf-sf-DjRi",
        "colab_type": "text"
      },
      "source": [
        "# Tokens"
      ]
    },
    {
      "cell_type": "markdown",
      "metadata": {
        "id": "S8pe3aGUJUkI",
        "colab_type": "text"
      },
      "source": [
        "## Definitions"
      ]
    },
    {
      "cell_type": "markdown",
      "metadata": {
        "id": "C3GHPBZ4I3h5",
        "colab_type": "text"
      },
      "source": [
        "Define the following terms in your own words, do not simply copy and paste a definition found elsewhere but reword it to be understandable and memorable to you. *Double click the markdown to add your definitions.*\n",
        "<br/><br/>\n",
        "\n",
        "**Natural Language Processing**: `Your Answer Here`\n",
        "\n",
        "**Token**: `Your Answer Here`\n",
        "\n",
        "**Corpus**: `Your Answer Here`\n",
        "\n",
        "**Stopwords**: `Your Answer Here`\n",
        "\n",
        "**Statistical Trimming**: `Your Answer Here`\n",
        "\n",
        "**Stemming**: `Your Answer Here`\n",
        "\n",
        "**Lemmatization**: `Your Answer Here`\n",
        "\n",
        "**Vectorization**: `Your Answer Here`"
      ]
    },
    {
      "cell_type": "markdown",
      "metadata": {
        "id": "jbXlWbA3JWuU",
        "colab_type": "text"
      },
      "source": [
        "## Questions of Understanding"
      ]
    },
    {
      "cell_type": "markdown",
      "metadata": {
        "id": "yjm-Ab4sJaOs",
        "colab_type": "text"
      },
      "source": [
        "1. What are at least 4 common cleaning tasks you need to do when creating tokens?\n",
        " 1. `Your Answer Here`\n",
        " 2. `Your Answer Here`\n",
        " 3. `Your Answer Here`\n",
        " 4. `Your Answer Here`\n",
        "\n",
        "2. Why is it important to apply custom stopwords to our dataset in addition to the ones that come in a library like spaCy?\n",
        "```\n",
        "Your Answer Here\n",
        "```\n",
        "\n",
        "3. Explain the tradeoffs between statistical trimming, stemming, and lemmatizing.\n",
        "```\n",
        "Your Answer Here\n",
        "```\n",
        "\n",
        "4. Why do we need to vectorize our documents?\n",
        "```\n",
        "Your Answer Here\n",
        "```"
      ]
    },
    {
      "cell_type": "markdown",
      "metadata": {
        "id": "fn3Z587YMwnE",
        "colab_type": "text"
      },
      "source": [
        "## Practice Problems"
      ]
    },
    {
      "cell_type": "markdown",
      "metadata": {
        "id": "Ii_LYpeoDrTp",
        "colab_type": "text"
      },
      "source": [
        "Write a function to tokenize the `Description` column. Make sure to include the following:\n",
        "- Return the tokens in an iterable structure\n",
        "- Normalize the case\n",
        "- Remove non-alphanumeric characters such as punctuation, whitespace, unicode, etc.\n",
        "- Apply stopwords and make sure to add stopwords specific to this dataset\n",
        "- Lemmatize the tokens before returning them"
      ]
    },
    {
      "cell_type": "code",
      "metadata": {
        "id": "rgt9aT-TDFcq",
        "colab_type": "code",
        "colab": {}
      },
      "source": [
        ""
      ],
      "execution_count": 0,
      "outputs": []
    },
    {
      "cell_type": "markdown",
      "metadata": {
        "id": "pX8ZRE7fFqcw",
        "colab_type": "text"
      },
      "source": [
        "Apply your function to `Description` and save the resulting tokens in a new column, `Tokens`"
      ]
    },
    {
      "cell_type": "code",
      "metadata": {
        "id": "S9pQJYfZFxd1",
        "colab_type": "code",
        "colab": {}
      },
      "source": [
        ""
      ],
      "execution_count": 0,
      "outputs": []
    },
    {
      "cell_type": "markdown",
      "metadata": {
        "id": "M4x9xuBVF4Nh",
        "colab_type": "text"
      },
      "source": [
        "Use the function below to create a `word_count` dataframe based off the `df['Tokens']` column you created."
      ]
    },
    {
      "cell_type": "code",
      "metadata": {
        "id": "6zu2dfbcGz2Y",
        "colab_type": "code",
        "colab": {}
      },
      "source": [
        "def count(docs):\n",
        "        word_counts = Counter()\n",
        "        appears_in = Counter()\n",
        "        total_docs = len(docs)\n",
        "\n",
        "        for doc in docs:\n",
        "            word_counts.update(doc)\n",
        "            appears_in.update(set(doc))\n",
        "\n",
        "        temp = zip(word_counts.keys(), word_counts.values())\n",
        "        wc = pd.DataFrame(temp, columns = ['word', 'count'])\n",
        "\n",
        "        wc['rank'] = wc['count'].rank(method='first', ascending=False)\n",
        "        total = wc['count'].sum()\n",
        "\n",
        "        wc['pct_total'] = wc['count'].apply(lambda x: x / total)\n",
        "        \n",
        "        wc = wc.sort_values(by='rank')\n",
        "        wc['cul_pct_total'] = wc['pct_total'].cumsum()\n",
        "\n",
        "        t2 = zip(appears_in.keys(), appears_in.values())\n",
        "        ac = pd.DataFrame(t2, columns=['word', 'appears_in'])\n",
        "        wc = ac.merge(wc, on='word')\n",
        "\n",
        "        wc['appears_in_pct'] = wc['appears_in'].apply(lambda x: x / total_docs)\n",
        "        \n",
        "        return wc.sort_values(by='rank')"
      ],
      "execution_count": 0,
      "outputs": []
    },
    {
      "cell_type": "code",
      "metadata": {
        "id": "94lL-w_uGzzm",
        "colab_type": "code",
        "colab": {}
      },
      "source": [
        ""
      ],
      "execution_count": 0,
      "outputs": []
    },
    {
      "cell_type": "markdown",
      "metadata": {
        "id": "JPPxVzGIHUF8",
        "colab_type": "text"
      },
      "source": [
        "Run the line of code below, and then explain how to interpret the graph.\n",
        "\n",
        "```\n",
        "Your Answer Here\n",
        "```"
      ]
    },
    {
      "cell_type": "code",
      "metadata": {
        "id": "DWqbuy68Ib0S",
        "colab_type": "code",
        "colab": {}
      },
      "source": [
        "sns.lineplot(x='rank', y='cul_pct_total', data=word_count);"
      ],
      "execution_count": 0,
      "outputs": []
    },
    {
      "cell_type": "markdown",
      "metadata": {
        "id": "I-_e03NrMjIO",
        "colab_type": "text"
      },
      "source": [
        "# Vectorization"
      ]
    },
    {
      "cell_type": "markdown",
      "metadata": {
        "colab_type": "text",
        "id": "tQRlWI7UM4ah"
      },
      "source": [
        "## Definitions"
      ]
    },
    {
      "cell_type": "markdown",
      "metadata": {
        "colab_type": "text",
        "id": "djODVPGjM4ao"
      },
      "source": [
        "Define the following terms in your own words, do not simply copy and paste a definition found elsewhere but reword it to be understandable and memorable to you. *Double click the markdown to add your definitions.*\n",
        "<br/><br/>\n",
        "\n",
        "**Vectorization**: `Your Answer Here`\n",
        "\n",
        "**Document Term Matrix (DTM)**: `Your Answer Here`\n",
        "\n",
        "**Latent Semantic Analysis**: `Your Answer Here`\n",
        "\n",
        "**Term Frequency - Inverse Document Frequency (TF-IDF)**: `Your Answer Here`\n",
        "\n",
        "**Word Embedding**: `Your Answer Here`\n",
        "\n",
        "**N-Gram**: `Your Answer Here`\n",
        "\n",
        "**Skip-Gram**: `Your Answer Here`"
      ]
    },
    {
      "cell_type": "markdown",
      "metadata": {
        "colab_type": "text",
        "id": "lOsi6xE4M-cS"
      },
      "source": [
        "## Questions of Understanding"
      ]
    },
    {
      "cell_type": "markdown",
      "metadata": {
        "colab_type": "text",
        "id": "3_Atsw1bM-cY"
      },
      "source": [
        "1. Why do we need to vectorize our documents?\n",
        "```\n",
        "Your Answer Here\n",
        "```\n",
        "\n",
        "2. How is TF-IDF different from simple word frequency? Why do we use TF-IDF over word frequency?\n",
        "```\n",
        "Your Answer Here\n",
        "```\n",
        "\n",
        "3. Why might we choose a word embedding approach over a bag-of-words approach when it comes to vectorization?\n",
        "```\n",
        "Your Answer Here\n",
        "```"
      ]
    },
    {
      "cell_type": "markdown",
      "metadata": {
        "id": "SogHDgfhMTsc",
        "colab_type": "text"
      },
      "source": [
        "## Practice Problems"
      ]
    },
    {
      "cell_type": "markdown",
      "metadata": {
        "id": "a7QrjSwIMYzB",
        "colab_type": "text"
      },
      "source": [
        "Use the dataframe `df` above to complete the following."
      ]
    },
    {
      "cell_type": "markdown",
      "metadata": {
        "id": "1BTQbHxIMeQN",
        "colab_type": "text"
      },
      "source": [
        "Vectorize the `Tokens` column."
      ]
    },
    {
      "cell_type": "code",
      "metadata": {
        "id": "Ka0AywjNMBMI",
        "colab_type": "code",
        "colab": {}
      },
      "source": [
        ""
      ],
      "execution_count": 0,
      "outputs": []
    },
    {
      "cell_type": "markdown",
      "metadata": {
        "id": "B26eq5wKMrF4",
        "colab_type": "text"
      },
      "source": [
        "Build a Nearest Neighbors model from your dataframe and then find the 5 nearest neighbors to the strain \"100-OG\""
      ]
    },
    {
      "cell_type": "code",
      "metadata": {
        "id": "JcwURJatMp7B",
        "colab_type": "code",
        "colab": {}
      },
      "source": [
        ""
      ],
      "execution_count": 0,
      "outputs": []
    },
    {
      "cell_type": "markdown",
      "metadata": {
        "id": "PvGLfBxDW6D7",
        "colab_type": "text"
      },
      "source": [
        "You will be putting together a classification model below, but before you do you'll need a baseline. Run the line of code below and then find the normalized value counts for the `Rating` column in `df`."
      ]
    },
    {
      "cell_type": "code",
      "metadata": {
        "id": "6zsEPQgRZKmH",
        "colab_type": "code",
        "colab": {}
      },
      "source": [
        "df['Rating'] = df['Rating'].round().astype(int)"
      ],
      "execution_count": 0,
      "outputs": []
    },
    {
      "cell_type": "code",
      "metadata": {
        "id": "RCPof-7VZOMt",
        "colab_type": "code",
        "colab": {}
      },
      "source": [
        ""
      ],
      "execution_count": 0,
      "outputs": []
    },
    {
      "cell_type": "markdown",
      "metadata": {
        "id": "hboaEX03Z_w5",
        "colab_type": "text"
      },
      "source": [
        "What is the baseline accuracy?\n",
        "```\n",
        "Your Answer Here\n",
        "```\n",
        "\n",
        "Visualize the rating counts from above"
      ]
    },
    {
      "cell_type": "code",
      "metadata": {
        "id": "9PGmJSMqZxo0",
        "colab_type": "code",
        "colab": {}
      },
      "source": [
        ""
      ],
      "execution_count": 0,
      "outputs": []
    },
    {
      "cell_type": "markdown",
      "metadata": {
        "id": "WwPg1cpShKNA",
        "colab_type": "text"
      },
      "source": [
        "Use your vectorized tokens in the `df` dataframe to train a classification model"
      ]
    },
    {
      "cell_type": "code",
      "metadata": {
        "id": "awu-ujvvhips",
        "colab_type": "code",
        "colab": {}
      },
      "source": [
        ""
      ],
      "execution_count": 0,
      "outputs": []
    },
    {
      "cell_type": "markdown",
      "metadata": {
        "id": "kGhSLJ5Fhlg9",
        "colab_type": "text"
      },
      "source": [
        "Predict the score of the fake strain description below.\n",
        "\n",
        "```\n",
        "'Afgooey, also known as Afgoo, is a potent indica strain that is believed to descend from an Afghani indica and Maui Haze. \n",
        "Its sativa parent may lend Afgoo some uplifting, creative qualities, but this strain undoubtedly takes after its indica \n",
        "parent as it primarily delivers relaxing, sleepy effects alongside its earthy pine flavor. Growers hoping to cultivate Afgoo \n",
        "may have a better chance of success indoors, but this indica can also thrive in Mediterranean climates outdoors.'\n",
        "```"
      ]
    },
    {
      "cell_type": "code",
      "metadata": {
        "id": "rAHaMGjBiG-h",
        "colab_type": "code",
        "colab": {}
      },
      "source": [
        ""
      ],
      "execution_count": 0,
      "outputs": []
    },
    {
      "cell_type": "markdown",
      "metadata": {
        "id": "RGnLTUL8ik4V",
        "colab_type": "text"
      },
      "source": [
        "# Topic Modeling"
      ]
    },
    {
      "cell_type": "markdown",
      "metadata": {
        "colab_type": "text",
        "id": "rfXxSZSDk-Sh"
      },
      "source": [
        "## Questions of Understanding"
      ]
    },
    {
      "cell_type": "markdown",
      "metadata": {
        "colab_type": "text",
        "id": "hlcEfmnyk-St"
      },
      "source": [
        "1. What is Latent Dirichlet Allocation? What is another name for LDA in NLP?\n",
        "```\n",
        "Your Answer Here\n",
        "```\n",
        "\n",
        "2. How do interpret the results of a topic modeling output?\n",
        "```\n",
        "Your Answer Here\n",
        "```"
      ]
    },
    {
      "cell_type": "markdown",
      "metadata": {
        "colab_type": "text",
        "id": "lAf8cmNFl_n5"
      },
      "source": [
        "## Practice Problems"
      ]
    },
    {
      "cell_type": "markdown",
      "metadata": {
        "id": "RIeP8NyHmAU8",
        "colab_type": "text"
      },
      "source": [
        "Find the top 5 topics of the `Description` column using LDA"
      ]
    },
    {
      "cell_type": "code",
      "metadata": {
        "id": "e-8zDKA_mAba",
        "colab_type": "code",
        "colab": {}
      },
      "source": [
        ""
      ],
      "execution_count": 0,
      "outputs": []
    },
    {
      "cell_type": "markdown",
      "metadata": {
        "id": "ADcqbM9FmiVg",
        "colab_type": "text"
      },
      "source": [
        "In a short paragraph, explain how to interpret the first topic your model came up with. If your topic words are difficult to interpret, explain how you could clean up the descriptions to improve your topics\n",
        "\n",
        "```\n",
        "Your Answer Here\n",
        "```"
      ]
    },
    {
      "cell_type": "markdown",
      "metadata": {
        "id": "suchG0sEm8lU",
        "colab_type": "text"
      },
      "source": [
        "Use `pyLDAvis` to create a visualization to help you interpret your topic modeling results"
      ]
    },
    {
      "cell_type": "code",
      "metadata": {
        "id": "3f5LbisKnRPV",
        "colab_type": "code",
        "colab": {}
      },
      "source": [
        ""
      ],
      "execution_count": 0,
      "outputs": []
    },
    {
      "cell_type": "markdown",
      "metadata": {
        "id": "HafoLqwHnR5M",
        "colab_type": "text"
      },
      "source": [
        "Explain how to interpret the results of `pyLDAvis`\n",
        "\n",
        "```\n",
        "Your Answer Here\n",
        "```"
      ]
    },
    {
      "cell_type": "markdown",
      "metadata": {
        "id": "ANxVUGU2nYsB",
        "colab_type": "text"
      },
      "source": [
        "Create at least 1 more visualization to help you interpret the results of your topic modeling"
      ]
    },
    {
      "cell_type": "code",
      "metadata": {
        "id": "WEsF_ZMIm7mC",
        "colab_type": "code",
        "colab": {}
      },
      "source": [
        ""
      ],
      "execution_count": 0,
      "outputs": []
    }
  ]
}
