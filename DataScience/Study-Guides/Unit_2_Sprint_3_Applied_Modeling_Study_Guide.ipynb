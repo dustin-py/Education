{
  "nbformat": 4,
  "nbformat_minor": 0,
  "metadata": {
    "colab": {
      "name": "Unit 2 Sprint 3 - Applied Modeling - Study Guide.ipynb",
      "provenance": [],
      "authorship_tag": "ABX9TyMT66uA6ieYjGfBIbza6+fl",
      "include_colab_link": true
    },
    "kernelspec": {
      "name": "python3",
      "display_name": "Python 3"
    }
  },
  "cells": [
    {
      "cell_type": "markdown",
      "metadata": {
        "id": "view-in-github",
        "colab_type": "text"
      },
      "source": [
        "<a href=\"https://colab.research.google.com/github/bundickm/Study-Guides/blob/master/Unit_2_Sprint_3_Applied_Modeling_Study_Guide.ipynb\" target=\"_parent\"><img src=\"https://colab.research.google.com/assets/colab-badge.svg\" alt=\"Open In Colab\"/></a>"
      ]
    },
    {
      "cell_type": "markdown",
      "metadata": {
        "id": "vARcu2lBUpwi",
        "colab_type": "text"
      },
      "source": [
        "This study guide should reinforce and provide practice for all of the concepts you have seen in the past week. There are a mix of written questions and coding exercises, both are equally important to prepare you for the sprint challenge as well as to be able to speak on these topics comfortably in interviews and on the job.\n",
        "\n",
        "If you get stuck or are unsure of something remember the 20 minute rule. If that doesn't help, then research a solution with google and stackoverflow. Only once you have exausted these methods should you turn to your Team Lead - they won't be there on your SC or during an interview. That being said, don't hesitate to ask for help if you truly are stuck.\n",
        "\n",
        "Have fun studying!"
      ]
    },
    {
      "cell_type": "markdown",
      "metadata": {
        "id": "ePzmZOuzUwgK",
        "colab_type": "text"
      },
      "source": [
        "# Resources"
      ]
    },
    {
      "cell_type": "markdown",
      "metadata": {
        "id": "4H3Tu38vUxxP",
        "colab_type": "text"
      },
      "source": [
        "[XGBoost](https://xgboost.readthedocs.io/en/latest/)\n",
        "\n",
        "[Shapley Values](https://shap.readthedocs.io/en/latest/)\n",
        "\n",
        "[eli5](https://eli5.readthedocs.io/en/latest/overview.html)\n",
        "\n",
        "[Partial Dependence Plot](https://scikit-learn.org/stable/modules/partial_dependence.html)"
      ]
    },
    {
      "cell_type": "markdown",
      "metadata": {
        "id": "gHy-Hs8kvLP9",
        "colab_type": "text"
      },
      "source": [
        "Use the dataset below to complete the coding challenges throughout the notebook unless otherwise specified."
      ]
    },
    {
      "cell_type": "code",
      "metadata": {
        "id": "HwWHWP6n89tH",
        "colab_type": "code",
        "colab": {}
      },
      "source": [
        "!pip install category_encoders\n",
        "import warnings\n",
        "import category_encoders as ce\n",
        "import pandas as pd\n",
        "from sklearn.linear_model import LogisticRegression\n",
        "from sklearn.model_selection import cross_val_score, train_test_split\n",
        "from sklearn.pipeline import make_pipeline\n",
        "from sklearn.exceptions import DataConversionWarning\n",
        "from sklearn.preprocessing import StandardScaler\n",
        "from sklearn.model_selection import cross_val_predict\n",
        "warnings.filterwarnings(action='ignore', category=DataConversionWarning)"
      ],
      "execution_count": 0,
      "outputs": []
    },
    {
      "cell_type": "code",
      "metadata": {
        "id": "LiqN-4Jttjkj",
        "colab_type": "code",
        "colab": {}
      },
      "source": [
        "auto_url = 'https://archive.ics.uci.edu/ml/machine-learning-databases/autos/imports-85.data'\n",
        "columns = ['symboling','norm_loss','make','fuel','aspiration','doors',\n",
        "           'bod_style','drv_wheels','eng_loc','wheel_base','length','width',\n",
        "           'height','curb_weight','engine','cylinders','engine_size',\n",
        "           'fuel_system','bore','stroke','compression','hp','peak_rpm',\n",
        "           'city_mpg','hgwy_mpg','price']\n",
        "df = pd.read_csv(auto_url, header=None, names=columns)\n",
        "\n",
        "df.head()"
      ],
      "execution_count": 0,
      "outputs": []
    },
    {
      "cell_type": "markdown",
      "metadata": {
        "id": "6CPxvpcDdxe2",
        "colab_type": "text"
      },
      "source": [
        "# Data Cleaning and Exploring"
      ]
    },
    {
      "cell_type": "markdown",
      "metadata": {
        "id": "nOdH4j2Td71z",
        "colab_type": "text"
      },
      "source": [
        "Define the following terms in your own words, do not simply copy and paste a definition found elsewhere but reword it to be understandable and memorable to you. *Double click the markdown to add your definitions.*\n",
        "<br/><br/>\n",
        "\n",
        "**Outliers** - `Your Answer Here`\n",
        "\n",
        "**Skew** - `Your Answer Here`\n",
        "\n",
        "**Log Transformation** - `Your Answer Here`\n",
        "\n",
        "**Leakage** - `Your Answer Here`"
      ]
    },
    {
      "cell_type": "markdown",
      "metadata": {
        "id": "KQfiHjTnf-mY",
        "colab_type": "text"
      },
      "source": [
        "Throughout this unit we have been building predictive models and consistently doing certain steps such as loading data, and train-test split. In the space below, list out the steps needed to build a machine learning model. Make sure to include all major steps from sourcing and loading data all the way to scoring on your test set. Greater detail than just the major steps is encouraged if time permits you. Feel free too look back at assignments/lecture notebooks or use google to see the workflow steps others use and adapt it for you.\n",
        "\n",
        "```\n",
        "Your Answer Here\n",
        "```"
      ]
    },
    {
      "cell_type": "markdown",
      "metadata": {
        "id": "lSNE9pHsQhOV",
        "colab_type": "text"
      },
      "source": [
        "How do we detect leakage and what are some examples?\n",
        "\n",
        "```\n",
        "Your Answer Here\n",
        "```"
      ]
    },
    {
      "cell_type": "markdown",
      "metadata": {
        "id": "4J0ryXKrvenI",
        "colab_type": "text"
      },
      "source": [
        "Use your Machine Learning Workflow above to load and prep the dataframe above. When you get to feature selection, choose a subset to include in your model, justify why you kept/dropped the features you chose with code comments."
      ]
    },
    {
      "cell_type": "code",
      "metadata": {
        "id": "YTey7jWAv_HL",
        "colab_type": "code",
        "colab": {}
      },
      "source": [
        ""
      ],
      "execution_count": 0,
      "outputs": []
    },
    {
      "cell_type": "markdown",
      "metadata": {
        "id": "27WffCRfwj2W",
        "colab_type": "text"
      },
      "source": [
        "# Model Building"
      ]
    },
    {
      "cell_type": "markdown",
      "metadata": {
        "id": "aHfHMxluw170",
        "colab_type": "text"
      },
      "source": [
        "**Bagging** - `Your Answer Here`\n",
        "\n",
        "**Boosting** - `Your Answer Here`\n",
        "\n",
        "**Gradient Boosting** - `Your Answer Here`\n",
        "\n",
        "**Monotonic Function** - `Your Answer Here`\n",
        "\n",
        "**Hyperparameter Tuning** - `Your Answer Here`\n",
        "\n",
        "**Pipeline** - `Your Answer Here`\n",
        "\n",
        "**Overfitting** - `Your Answer Here`"
      ]
    },
    {
      "cell_type": "markdown",
      "metadata": {
        "id": "r60lx5Ohxh3g",
        "colab_type": "text"
      },
      "source": [
        "Using your cleaned up dataframe above, build a model and score it with an appropriate metric and cross validation."
      ]
    },
    {
      "cell_type": "code",
      "metadata": {
        "id": "t6vpq4ECyUbS",
        "colab_type": "code",
        "colab": {}
      },
      "source": [
        ""
      ],
      "execution_count": 0,
      "outputs": []
    },
    {
      "cell_type": "markdown",
      "metadata": {
        "id": "lP_dfkJ_0xIx",
        "colab_type": "text"
      },
      "source": [
        "How do you know if your model is overfitting?\n",
        "\n",
        "```\n",
        "Your Answer Here\n",
        "```"
      ]
    },
    {
      "cell_type": "markdown",
      "metadata": {
        "id": "vQ4hFlg6yVDt",
        "colab_type": "text"
      },
      "source": [
        "# Model Interpretation"
      ]
    },
    {
      "cell_type": "markdown",
      "metadata": {
        "id": "nBTAS3aHybAH",
        "colab_type": "text"
      },
      "source": [
        "**Confusion Matrix** - `Your Answer Here`\n",
        "\n",
        "**Permutation Importance** - `Your Answer Here`\n",
        "\n",
        "**Partial Dependence Plot** - `Your Answer Here`\n",
        "\n",
        "**Shapley Values** - `Your Answer Here`\n",
        "\n",
        "**Drop Column Importance** - `Your Answer Here`"
      ]
    },
    {
      "cell_type": "markdown",
      "metadata": {
        "id": "Pf_KSdzazg5y",
        "colab_type": "text"
      },
      "source": [
        "Use the model you trained above or the classification model provided to complete the following. Create each of the visuals below and then explain how they help you interpret and/or refine your model."
      ]
    },
    {
      "cell_type": "code",
      "metadata": {
        "id": "WkEx71wz8jfp",
        "colab_type": "code",
        "colab": {}
      },
      "source": [
        "bank = pd.read_csv('https://raw.githubusercontent.com/bundickm/Study-Guides/master/data/bank.csv')\n",
        "bank.head()\n",
        "\n",
        "# Assign to X, y\n",
        "X = bank.drop(columns='y')\n",
        "y = bank['y'] == 'yes'\n",
        "\n",
        "# Drop leaky feature\n",
        "X = X.drop(columns='duration')\n",
        "\n",
        "# Split Train, Test\n",
        "X_train, X_test, y_train, y_test = train_test_split(\n",
        "    X, y, test_size=0.2, random_state=42, stratify=y)\n",
        "\n",
        "# Make pipeline\n",
        "pipeline = make_pipeline(\n",
        "    ce.OneHotEncoder(use_cat_names=True), \n",
        "    StandardScaler(), \n",
        "    LogisticRegression(solver='lbfgs', max_iter=1000)\n",
        ")\n",
        "\n",
        "# Predict\n",
        "y_pred_proba = cross_val_predict(pipeline, X_train, y_train, cv=3, n_jobs=-1, \n",
        "                                 method='predict_proba')[:,1]"
      ],
      "execution_count": 0,
      "outputs": []
    },
    {
      "cell_type": "markdown",
      "metadata": {
        "id": "ljfGic1p26_-",
        "colab_type": "text"
      },
      "source": [
        "### Shapley Values"
      ]
    },
    {
      "cell_type": "code",
      "metadata": {
        "id": "8MrXtM0Y21U5",
        "colab_type": "code",
        "colab": {}
      },
      "source": [
        ""
      ],
      "execution_count": 0,
      "outputs": []
    },
    {
      "cell_type": "markdown",
      "metadata": {
        "id": "nVGlDZCN3FlN",
        "colab_type": "text"
      },
      "source": [
        "How does the above visual help you to interpret or refine your model?\n",
        "\n",
        "```\n",
        "Your Answer Here\n",
        "```"
      ]
    },
    {
      "cell_type": "markdown",
      "metadata": {
        "id": "3azurg3h3PjV",
        "colab_type": "text"
      },
      "source": [
        "### Partial Dependence Plot"
      ]
    },
    {
      "cell_type": "code",
      "metadata": {
        "id": "qGGkwDJj3Te2",
        "colab_type": "code",
        "colab": {}
      },
      "source": [
        "# PDP, 1 Feature Isolation"
      ],
      "execution_count": 0,
      "outputs": []
    },
    {
      "cell_type": "code",
      "metadata": {
        "id": "r8j-eQW53YlU",
        "colab_type": "code",
        "colab": {}
      },
      "source": [
        "# PDP, 2 Feature Interaction"
      ],
      "execution_count": 0,
      "outputs": []
    },
    {
      "cell_type": "markdown",
      "metadata": {
        "colab_type": "text",
        "id": "FBNRqOkq3hVt"
      },
      "source": [
        "How does the above visual help you to interpret or refine your model?\n",
        "\n",
        "```\n",
        "Your Answer Here\n",
        "```"
      ]
    },
    {
      "cell_type": "markdown",
      "metadata": {
        "id": "sNK09t-33kE8",
        "colab_type": "text"
      },
      "source": [
        "### Confusion Matrix"
      ]
    },
    {
      "cell_type": "code",
      "metadata": {
        "id": "VjdiG-kB3mTF",
        "colab_type": "code",
        "colab": {}
      },
      "source": [
        ""
      ],
      "execution_count": 0,
      "outputs": []
    },
    {
      "cell_type": "markdown",
      "metadata": {
        "colab_type": "text",
        "id": "WdhdUV2Q3nHN"
      },
      "source": [
        "How does the above visual help you to interpret or refine your model?\n",
        "\n",
        "```\n",
        "Your Answer Here\n",
        "```"
      ]
    },
    {
      "cell_type": "markdown",
      "metadata": {
        "id": "tSJN7v4k3qnc",
        "colab_type": "text"
      },
      "source": [
        "### Permutation Importance"
      ]
    },
    {
      "cell_type": "code",
      "metadata": {
        "id": "m2J3AOTO3tH3",
        "colab_type": "code",
        "colab": {}
      },
      "source": [
        ""
      ],
      "execution_count": 0,
      "outputs": []
    },
    {
      "cell_type": "markdown",
      "metadata": {
        "colab_type": "text",
        "id": "IThHJqTa3tX7"
      },
      "source": [
        "How does the above visual help you to interpret or refine your model?\n",
        "\n",
        "```\n",
        "Your Answer Here\n",
        "```"
      ]
    },
    {
      "cell_type": "markdown",
      "metadata": {
        "id": "64IKiuYLzxfR",
        "colab_type": "text"
      },
      "source": [
        "Use some of the visuals above to further refine your model and rescore. Once you have validation score you are happy with, use your test set to get a final score for your model."
      ]
    },
    {
      "cell_type": "code",
      "metadata": {
        "id": "8FcTeJNh0wzX",
        "colab_type": "code",
        "colab": {}
      },
      "source": [
        ""
      ],
      "execution_count": 0,
      "outputs": []
    }
  ]
}