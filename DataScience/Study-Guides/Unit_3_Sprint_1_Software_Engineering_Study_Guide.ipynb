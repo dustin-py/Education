{
  "nbformat": 4,
  "nbformat_minor": 0,
  "metadata": {
    "colab": {
      "name": "Unit 3 Sprint 1 - Software Engineering - Study Guide.ipynb",
      "provenance": [],
      "collapsed_sections": [],
      "include_colab_link": true
    },
    "kernelspec": {
      "name": "python3",
      "display_name": "Python 3"
    }
  },
  "cells": [
    {
      "cell_type": "markdown",
      "metadata": {
        "id": "view-in-github",
        "colab_type": "text"
      },
      "source": [
        "<a href=\"https://colab.research.google.com/github/bundickm/Study-Guides/blob/master/Unit_3_Sprint_1_Software_Engineering_Study_Guide.ipynb\" target=\"_parent\"><img src=\"https://colab.research.google.com/assets/colab-badge.svg\" alt=\"Open In Colab\"/></a>"
      ]
    },
    {
      "cell_type": "markdown",
      "metadata": {
        "id": "Nd2OOOVXxXS1",
        "colab_type": "text"
      },
      "source": [
        "This study guide should reinforce and provide practice for all of the concepts you have seen in the past week. There are a mix of written questions and coding exercises, both are equally important to prepare you for the sprint challenge as well as to be able to speak on these topics comfortably in interviews and on the job.\n",
        "\n",
        "If you get stuck or are unsure of something remember the 20 minute rule. If that doesn't help, then research a solution with google and stackoverflow. Only once you have exausted these methods should you turn to your Team Lead - they won't be there on your SC or during an interview. That being said, don't hesitate to ask for help if you truly are stuck.\n",
        "\n",
        "Have fun studying!"
      ]
    },
    {
      "cell_type": "markdown",
      "metadata": {
        "id": "YbwATE4qeJx7",
        "colab_type": "text"
      },
      "source": [
        "# Object Oriented Programming"
      ]
    },
    {
      "cell_type": "markdown",
      "metadata": {
        "id": "fpvInKdXekFi",
        "colab_type": "text"
      },
      "source": [
        "## Questions"
      ]
    },
    {
      "cell_type": "markdown",
      "metadata": {
        "id": "Q6bS8AhBZ86H",
        "colab_type": "text"
      },
      "source": [
        "When completing this section, try to limit your answers to 2-3 sentences max and use plain english as much as possible. It's very easy to hide incomplete knowledge and understanding behind fancy or technical words, so imagine you are explaining these things to a non-technical interviewer.\n",
        "\n",
        "1. What is OOP?\n",
        "```\n",
        "Put your answer here\n",
        "```\n",
        "\n",
        "2. What is an object?\n",
        "```\n",
        "Put your answer here\n",
        "```\n",
        "\n",
        "3. What is a class?\n",
        "```\n",
        "Put your answer here\n",
        "```\n",
        "\n",
        "4. What is inheritance?\n",
        "```\n",
        "Put your answer here\n",
        "```\n",
        "\n",
        "5. What does it mean to \"instantiate an object\"?\n",
        "```\n",
        "Put your answer here\n",
        "```\n",
        "\n",
        "6. What is a dunder method (aka magic method)? What dunder method is called when you instantiate an object?\n",
        "```\n",
        "Put your answer here\n",
        "```\n",
        "\n",
        "7. What is the super method and when is it used?\n",
        "```\n",
        "Put your answer here\n",
        "```\n",
        "\n",
        "8. What are two other programming paradigms?\n",
        "```\n",
        "Put your answer here\n",
        "```"
      ]
    },
    {
      "cell_type": "markdown",
      "metadata": {
        "id": "dUQaIwbceohq",
        "colab_type": "text"
      },
      "source": [
        "## Practice Problems"
      ]
    },
    {
      "cell_type": "markdown",
      "metadata": {
        "id": "gzQyr1iPfJBH",
        "colab_type": "text"
      },
      "source": [
        "Create a `Person` class with the following attributes and methods\n",
        "\n",
        "`Instance Attributes`\n",
        "- name\n",
        "- age - age should be between 0 and 120, if the age is outside of this range at the time of instantiation, set it to 21\n",
        "- add 2 more instance attributes\n",
        "\n",
        "`Methods`\n",
        "- greets - a method that takes in a name and returns `'Hello, [INPUT NAME]! My name is [INSTANCE NAME], nice to meet you!'`\n",
        "- had_birthday - a method that increments age by 1\n",
        "- Write a method that uses one of the instance attributes you added"
      ]
    },
    {
      "cell_type": "code",
      "metadata": {
        "id": "e5hj6Jjwen3J",
        "colab_type": "code",
        "colab": {}
      },
      "source": [
        ""
      ],
      "execution_count": 0,
      "outputs": []
    },
    {
      "cell_type": "markdown",
      "metadata": {
        "id": "rq6bizULj6YF",
        "colab_type": "text"
      },
      "source": [
        "Instantiate your person class, the instance name should be the same as whatever is passed into the name attribute. Make sure you can access all attributes and all methods work as expected."
      ]
    },
    {
      "cell_type": "code",
      "metadata": {
        "id": "1jSaglmDkEZ7",
        "colab_type": "code",
        "colab": {}
      },
      "source": [
        ""
      ],
      "execution_count": 0,
      "outputs": []
    },
    {
      "cell_type": "markdown",
      "metadata": {
        "id": "i2dHVZXjhlJS",
        "colab_type": "text"
      },
      "source": [
        "Create a `worker` class that inherits from `person`. It should have another dunder method besides `__init__` and have the following attributes and method\n",
        "\n",
        "`Instance Attributes`\n",
        "- All of the attributes from person\n",
        "- company\n",
        "- job_title\n",
        "- personal_title (mrs, mr, Dr., etc.)\n",
        "- Add 2 more attributes relevant to just the worker class\n",
        "\n",
        "`Methods`\n",
        "- All of the methods from person\n",
        "- Override the greets class to now take in a personal title and name and returns `'Hello, [INPUT PERSONAL TITLE][INPUT NAME]! My name is [INSTANCE NAME], I work for [INSTANCE COMPANY].'`\n",
        "- Add a new methods relevant to just the worker class that uses at least 2 attributes"
      ]
    },
    {
      "cell_type": "code",
      "metadata": {
        "id": "bnt4a3p9ZYFz",
        "colab_type": "code",
        "colab": {}
      },
      "source": [
        ""
      ],
      "execution_count": 0,
      "outputs": []
    },
    {
      "cell_type": "markdown",
      "metadata": {
        "id": "QMlNQIUUkbSs",
        "colab_type": "text"
      },
      "source": [
        "Instantiate your worker class, the instance name should be the same as whatever is passed into the name attribute. Make sure you can access all attributes and all methods work as expected."
      ]
    },
    {
      "cell_type": "code",
      "metadata": {
        "id": "aeVIWEMAkvTM",
        "colab_type": "code",
        "colab": {}
      },
      "source": [
        ""
      ],
      "execution_count": 0,
      "outputs": []
    },
    {
      "cell_type": "markdown",
      "metadata": {
        "id": "TB0FEyf9-Kjk",
        "colab_type": "text"
      },
      "source": [
        "Write a loop to instantiate 10 `workers` in a list, all with [random](https://docs.python.org/3/library/random.html) values."
      ]
    },
    {
      "cell_type": "code",
      "metadata": {
        "id": "RG8OoaXC-bvS",
        "colab_type": "code",
        "colab": {}
      },
      "source": [
        ""
      ],
      "execution_count": 0,
      "outputs": []
    },
    {
      "cell_type": "markdown",
      "metadata": {
        "id": "1PK2d0Ou-b7O",
        "colab_type": "text"
      },
      "source": [
        "Programatically figure out which `worker` in the list is oldest."
      ]
    },
    {
      "cell_type": "code",
      "metadata": {
        "id": "NxA6Cl6s_If1",
        "colab_type": "code",
        "colab": {}
      },
      "source": [
        ""
      ],
      "execution_count": 0,
      "outputs": []
    },
    {
      "cell_type": "markdown",
      "metadata": {
        "id": "5CdB5tYilNNi",
        "colab_type": "text"
      },
      "source": [
        "Verify all of your code above is PEP8 Compliant"
      ]
    },
    {
      "cell_type": "markdown",
      "metadata": {
        "id": "B6jwRAUH7rV4",
        "colab_type": "text"
      },
      "source": [
        "[More OOP practice if you want it](https://github.com/LambdaSchool/DS-OOP-Review)"
      ]
    },
    {
      "cell_type": "markdown",
      "metadata": {
        "id": "dcWZeuPvmGvg",
        "colab_type": "text"
      },
      "source": [
        "# Code Review"
      ]
    },
    {
      "cell_type": "markdown",
      "metadata": {
        "id": "ijwt2MNXmONV",
        "colab_type": "text"
      },
      "source": [
        "## Questions"
      ]
    },
    {
      "cell_type": "markdown",
      "metadata": {
        "id": "igFiqkERmWSk",
        "colab_type": "text"
      },
      "source": [
        "When completing this section, try to limit your answers to 2-3 sentences max and use plain english as much as possible. It's very easy to hide incomplete knowledge and understanding behind fancy or technical words, so imagine you are explaining these things to a non-technical interviewer.\n",
        "\n",
        "1. What is a style guide? Why does it matter?\n",
        "```\n",
        "Put your answer here\n",
        "```\n",
        "\n",
        "2. What is the style guide for Python called? Name 3 conventions in the style guide.\n",
        "```\n",
        "Put your answer here\n",
        "```\n",
        "\n",
        "3. What are we looking for in a code review?\n",
        "```\n",
        "Put your answer here\n",
        "```\n",
        "\n",
        "4. Of the items listed in question 3, which do you find to be the most important one and why?\n",
        "```\n",
        "Put your answer here\n",
        "```\n",
        "\n",
        "5. Of the items listed in question 3, make a case for another item to be the most important.\n",
        "```\n",
        "Put your answer here\n",
        "```\n",
        "\n",
        "6. What are some non-code considerations when giving a code review?\n",
        "```\n",
        "Put your answer here\n",
        "```"
      ]
    },
    {
      "cell_type": "markdown",
      "metadata": {
        "id": "TfGAb--lmTS1",
        "colab_type": "text"
      },
      "source": [
        "## Practice Problems"
      ]
    },
    {
      "cell_type": "markdown",
      "metadata": {
        "id": "8r525vW1o8RI",
        "colab_type": "text"
      },
      "source": [
        "Use the code below to answer the following questions"
      ]
    },
    {
      "cell_type": "code",
      "metadata": {
        "id": "K6X-1BM8mSJV",
        "colab_type": "code",
        "colab": {}
      },
      "source": [
        "def sumMult35(n):\n",
        "  #This function finds checks to see if all numbers between 1 and n are a multiple of 3 or five and then adds those ones up. After that it returns that total.\n",
        "  t = 0\n",
        "  for i in range(1, n):\n",
        "    if ((i%3==0)): #mult of 3?\n",
        "      if (i%5==0): '''multiple of 5?'''\n",
        "        t=t+i #add up\n",
        "  return t\n",
        "\n",
        "sumMult35(16)"
      ],
      "execution_count": 0,
      "outputs": []
    },
    {
      "cell_type": "markdown",
      "metadata": {
        "id": "6Y52bPq0pBm7",
        "colab_type": "text"
      },
      "source": [
        "Write a short code review for the code above, that your coworker (the author of the code) will read. Remember two things: they are a fellow human, and also that you are not rewriting it for them, simply giving critique so that they can fix it later.\n",
        "\n",
        "```\n",
        "Put your answer here\n",
        "```"
      ]
    },
    {
      "cell_type": "markdown",
      "metadata": {
        "id": "cFVnDJSDpz5S",
        "colab_type": "text"
      },
      "source": [
        "Oh, no! You've swapped bodies with your coworker and now have to fix the code. Use your code review to rewrite the function, and make sure it is PEP8 compliant."
      ]
    },
    {
      "cell_type": "code",
      "metadata": {
        "id": "WLyoAK5RqL9B",
        "colab_type": "code",
        "colab": {}
      },
      "source": [
        ""
      ],
      "execution_count": 0,
      "outputs": []
    },
    {
      "cell_type": "markdown",
      "metadata": {
        "id": "MT4KnnBdrwCh",
        "colab_type": "text"
      },
      "source": [
        "# Containers"
      ]
    },
    {
      "cell_type": "markdown",
      "metadata": {
        "id": "alRbvYkBr2UE",
        "colab_type": "text"
      },
      "source": [
        "## Questions"
      ]
    },
    {
      "cell_type": "markdown",
      "metadata": {
        "id": "4HwVuidTr4TT",
        "colab_type": "text"
      },
      "source": [
        "1. What is a container? Why are they used?\n",
        "```\n",
        "Put your answer here\n",
        "```\n",
        "\n",
        "2. From lecture we know Docker is software to create containers. Name 2 Docker competitors.\n",
        "```\n",
        "Put your answer here\n",
        "```"
      ]
    },
    {
      "cell_type": "markdown",
      "metadata": {
        "id": "P8HQI4R5steC",
        "colab_type": "text"
      },
      "source": [
        "# Software Testing"
      ]
    },
    {
      "cell_type": "markdown",
      "metadata": {
        "id": "mslC0tl-tPUZ",
        "colab_type": "text"
      },
      "source": [
        "## Questions"
      ]
    },
    {
      "cell_type": "markdown",
      "metadata": {
        "id": "9d8MIl9dtRMA",
        "colab_type": "text"
      },
      "source": [
        "When completing this section, try to limit your answers to 2-3 sentences max and use plain english as much as possible. It's very easy to hide incomplete knowledge and understanding behind fancy or technical words, so imagine you are explaining these things to a non-technical interviewer.\n",
        "\n",
        "1. What is unit testing and why do we do it?\n",
        "```\n",
        "Put your answer here\n",
        "```\n",
        "\n",
        "2. When writing unit tests, what should we consider? Why?\n",
        "```\n",
        "Put your answer here\n",
        "```\n",
        "\n",
        "3. How many unit tests should we have?\n",
        "```\n",
        "Put your answer here\n",
        "```"
      ]
    },
    {
      "cell_type": "markdown",
      "metadata": {
        "id": "Z7mPWVQhuEcY",
        "colab_type": "text"
      },
      "source": [
        "## Practice Problems"
      ]
    },
    {
      "cell_type": "markdown",
      "metadata": {
        "id": "OEoaQiBbuHuH",
        "colab_type": "text"
      },
      "source": [
        "For the following problems you'll need to move your `Person` and `Worker` classes to `.py` files.\n",
        "\n",
        "Write the following unit tests in a third `.py` file. Verify they work by running the file, and then copy and paste the code into the cell below.\n",
        "- Verify that an instance of person has an age between 0 and 120 when first instantiated\n",
        "- Verify the same thing with a worker instance\n",
        "- Verify the worker `greet` method uses the `personal_title` of the person passed to it.\n",
        "- Write your own unit test"
      ]
    },
    {
      "cell_type": "code",
      "metadata": {
        "id": "fFuP-ZfKv8h1",
        "colab_type": "code",
        "colab": {}
      },
      "source": [
        ""
      ],
      "execution_count": 0,
      "outputs": []
    },
    {
      "cell_type": "markdown",
      "metadata": {
        "id": "QQQopcNseCeT",
        "colab_type": "text"
      },
      "source": [
        "The code in all 3 `.py` files should be PEP8 compliant"
      ]
    },
    {
      "cell_type": "markdown",
      "metadata": {
        "id": "RvdEFbjMwZTx",
        "colab_type": "text"
      },
      "source": [
        "# Git Commands"
      ]
    },
    {
      "cell_type": "markdown",
      "metadata": {
        "id": "yjAVDrQuwcZQ",
        "colab_type": "text"
      },
      "source": [
        "1. What is the command to make a local copy of one of your repos?\n",
        "```\n",
        "Put your answer here\n",
        "```\n",
        "\n",
        "2. What does the command `git status` do?\n",
        "```\n",
        "Put your answer here\n",
        "```\n",
        "\n",
        "3. How do you add the changes made in a local repo to your repo on github?\n",
        "```\n",
        "Put your answer here\n",
        "```\n",
        "\n",
        "4. What is a branch? Why is it used?\n",
        "```\n",
        "Put your answer here\n",
        "```"
      ]
    }
  ]
}