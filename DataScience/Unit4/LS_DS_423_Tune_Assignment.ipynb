{
  "nbformat": 4,
  "nbformat_minor": 0,
  "metadata": {
    "colab": {
      "name": "LS_DS_423_Tune_Assignment.ipynb",
      "provenance": [],
      "collapsed_sections": []
    },
    "kernelspec": {
      "display_name": "Python 3",
      "language": "python",
      "name": "python3"
    },
    "language_info": {
      "codemirror_mode": {
        "name": "ipython",
        "version": 3
      },
      "file_extension": ".py",
      "mimetype": "text/x-python",
      "name": "python",
      "nbconvert_exporter": "python",
      "pygments_lexer": "ipython3",
      "version": "3.7.3"
    },
    "nteract": {
      "version": "0.22.4"
    }
  },
  "cells": [
    {
      "cell_type": "markdown",
      "metadata": {
        "id": "NGGrt9EYlCqY"
      },
      "source": [
        "<img align=\"left\" src=\"https://lever-client-logos.s3.amazonaws.com/864372b1-534c-480e-acd5-9711f850815c-1524247202159.png\" width=200>\n",
        "<br></br>\n",
        "<br></br>\n",
        "\n",
        "# Train Practice\n",
        "\n",
        "## *Data Science Unit 4 Sprint 2 Assignment 3*\n",
        "\n",
        "Continue to use TensorFlow Keras & a sample of the [Quickdraw dataset](https://github.com/googlecreativelab/quickdraw-dataset) to build a sketch classification model. The dataset has been sampled to only 10 classes and 10000 observations per class. Using your baseline model from yesterday, hyperparameter tune it and report on your highest validation accuracy. Your singular goal today is to achieve the highest accuracy possible.\n",
        "\n",
        "*Don't forgot to switch to GPU on Colab!*"
      ]
    },
    {
      "cell_type": "markdown",
      "metadata": {
        "id": "ptJ2b3wk62Ud"
      },
      "source": [
        "### Hyperparameters to Tune\n",
        "\n",
        "At a minimum, tune each of these hyperparameters using any strategy we discussed during lecture today: \n",
        "- Optimizer\n",
        "- Learning Rate\n",
        "- Activiation Function\n",
        "  - At least 1 subparameter within the Relu activation function\n",
        "- Number of Neurons in Hidden Layers\n",
        "- Number of Hidden Layers\n",
        "- Weight Initialization"
      ]
    },
    {
      "cell_type": "code",
      "metadata": {
        "id": "pbxJvInYaSxJ",
        "outputId": "858eb746-c767-4b63-e014-37a29df22849",
        "colab": {
          "base_uri": "https://localhost:8080/"
        }
      },
      "source": [
        "%load_ext tensorboard\n",
        "\n",
        "import tensorflow as tf\n",
        "import numpy as np\n",
        "import seaborn as sns\n",
        "import pandas as pd\n",
        "\n",
        "from tensorboard.plugins.hparams import api as hp\n",
        "\n",
        "import os\n",
        "import datetime\n",
        "\n",
        "from sklearn.model_selection import train_test_split\n",
        "\n",
        "from tensorflow.keras.models import Sequential\n",
        "from tensorflow.keras.layers import Dense, Flatten, Input\n",
        "from tensorflow.keras import Sequential\n",
        "from tensorflow.keras.layers import Dense\n",
        "from tensorflow.keras import optimizers"
      ],
      "execution_count": null,
      "outputs": [
        {
          "output_type": "stream",
          "text": [
            "The tensorboard extension is already loaded. To reload it, use:\n",
            "  %reload_ext tensorboard\n"
          ],
          "name": "stdout"
        }
      ]
    },
    {
      "cell_type": "code",
      "metadata": {
        "id": "MyK3OZwhaUIW"
      },
      "source": [
        "def load_quickdraw10(path):\n",
        "    data = np.load(path)\n",
        "    X = data['arr_0']\n",
        "    y = data['arr_1']\n",
        "    X_norm = X.astype('float32')/255\n",
        "    y_norm = y.astype('float32')/255\n",
        "    X_train, X_test, y_train, y_test = train_test_split(\n",
        "        X_norm,\n",
        "        y,\n",
        "        test_size=0.20,\n",
        "        shuffle=True,\n",
        "        random_state=42)\n",
        "    \n",
        "    return X_train, y_train, X_test, y_test\n",
        "\n",
        "\n",
        "def train_test_model(hparams):\n",
        "  model = Sequential([\n",
        "    Dense(hparams[HP_NUM_UNITS], activation='relu', input_dim=784),\n",
        "    Dense(10, activation='softmax')\n",
        "  ])\n",
        "  opt_name = hparams[HP_OPTIMIZER]\n",
        "  lr = hparams[HP_LEARNING_RATE]\n",
        "\n",
        "  if opt_name == 'sgd':\n",
        "    opt = optimizers.SGD(learning_rate=lr)\n",
        "  elif opt_name == 'adam':\n",
        "    opt = optimizers.Adam(learning_rate=lr)\n",
        "  else:\n",
        "    raise Exception(\"Unrecognized optimizer. Must be either 'sgd' or 'adam'\")\n",
        "\n",
        "  model.compile(optimizer=opt,\n",
        "                loss='sparse_categorical_crossentropy',\n",
        "                metrics=['accuracy'])\n",
        "  model.fit(X_train, y_train, \n",
        "            epochs=5)\n",
        "\n",
        "  _, val_acc = model.evaluate(X_test, y_test)\n",
        "\n",
        "  return val_acc\n",
        "\n",
        "\n",
        "def run(run_dir, hparams):\n",
        "  with tf.summary.create_file_writer(run_dir).as_default():\n",
        "    hp.hparams(hparams)  # record the values used in this trial\n",
        "    accuracy = train_test_model(hparams)\n",
        "    tf.summary.scalar(METRIC_ACCURACY, accuracy, step=1)\n",
        "\n",
        "\n",
        "def create_model(\n",
        "    lr=0.01,\n",
        "    opt=optimizers.SGD,\n",
        "    act_func='relu',\n",
        "    output_act_func='softmax',\n",
        "    input_dim=784,\n",
        "    neurons_per_layer=(32, 32, 10)):\n",
        "\n",
        "    model = Sequential([\n",
        "        Dense(neurons_per_layer[0], activation=act_func, input_dim=input_dim),\n",
        "        Dense(neurons_per_layer[1], activation=act_func),\n",
        "        Dense(neurons_per_layer[2], activation=output_act_func)\n",
        "    ])\n",
        "\n",
        "    model.compile(\n",
        "        optimizer=opt(learning_rate=lr),\n",
        "        loss='sparse_categorical_crossentropy',\n",
        "        metrics=['accuracy']\n",
        "    )\n",
        "\n",
        "    return model"
      ],
      "execution_count": null,
      "outputs": []
    },
    {
      "cell_type": "code",
      "metadata": {
        "id": "s8eZYp-caTg5"
      },
      "source": [
        "data_path = r'./quickdraw10.npz'\n",
        "\n",
        "X_train, y_train, X_test, y_test = load_quickdraw10(data_path)\n",
        "\n",
        "HP_NUM_UNITS = hp.HParam('num_units', hp.Discrete([32,64]))\n",
        "HP_LEARNING_RATE = hp.HParam('learning_rate', hp.RealInterval(0.001,.01))\n",
        "HP_OPTIMIZER = hp.HParam('optimizer', hp.Discrete(['adam', 'sgd']))\n",
        "\n",
        "METRIC_ACCURACY = 'accuracy'\n",
        "\n",
        "with tf.summary.create_file_writer('logs/hparam_tuning').as_default():\n",
        "  hp.hparams_config(\n",
        "      hparams=[HP_NUM_UNITS, HP_LEARNING_RATE, HP_OPTIMIZER],\n",
        "      metrics=[hp.Metric(METRIC_ACCURACY, display_name='Accuracy')]\n",
        "  )"
      ],
      "execution_count": null,
      "outputs": []
    },
    {
      "cell_type": "code",
      "metadata": {
        "id": "USXjs7Hk71Hy"
      },
      "source": [
        "%%time\n",
        "session_num = 0 \n",
        "\n",
        "for num_units in HP_NUM_UNITS.domain.values:\n",
        "  for learning_rate in tf.linspace(HP_LEARNING_RATE.domain.min_value, HP_LEARNING_RATE.domain.max_value, num=3):\n",
        "    for optimizer in HP_OPTIMIZER.domain.values:\n",
        "      hparams = {\n",
        "          HP_NUM_UNITS: num_units,\n",
        "          HP_LEARNING_RATE:  float(learning_rate),\n",
        "          HP_OPTIMIZER: optimizer\n",
        "      }\n",
        "\n",
        "      run_name = f\"run-{session_num}\"\n",
        "      print(f\"--- Starting trial: {run_name}\")\n",
        "      print({h.name: hparams[h] for h in hparams})\n",
        "      run('logs/hparam_tuning/' + run_name, hparams)\n",
        "      session_num += 1"
      ],
      "execution_count": null,
      "outputs": []
    },
    {
      "cell_type": "code",
      "metadata": {
        "id": "rhJxzqjydSOM"
      },
      "source": [
        "%tensorboard --logdir logs/hparam_tuning"
      ],
      "execution_count": null,
      "outputs": []
    },
    {
      "cell_type": "markdown",
      "metadata": {
        "id": "YwTLyW68fyGG"
      },
      "source": [
        "## **W&B hyper param tuning:**"
      ]
    },
    {
      "cell_type": "code",
      "metadata": {
        "id": "-pDRdJCkdry7"
      },
      "source": [
        "!pip install --upgrade wandb"
      ],
      "execution_count": null,
      "outputs": []
    },
    {
      "cell_type": "code",
      "metadata": {
        "id": "-vTrQNaBdy7k",
        "outputId": "66ccd588-a3a7-4f3b-9ce1-72d1d00cb869",
        "colab": {
          "base_uri": "https://localhost:8080/"
        }
      },
      "source": [
        "!wandb login 826a25d09072881b40c973726c383743f778ddd9"
      ],
      "execution_count": null,
      "outputs": [
        {
          "output_type": "stream",
          "text": [
            "\u001b[34m\u001b[1mwandb\u001b[0m: Appending key for api.wandb.ai to your netrc file: /root/.netrc\n"
          ],
          "name": "stdout"
        }
      ]
    },
    {
      "cell_type": "code",
      "metadata": {
        "id": "YiqlWq6idzSJ"
      },
      "source": [
        "wandb_group = 'dustindotpy'\n",
        "wandb_project = 'quickdraw_data'"
      ],
      "execution_count": null,
      "outputs": []
    },
    {
      "cell_type": "code",
      "metadata": {
        "id": "zbUqljGgdzgl"
      },
      "source": [
        "import wandb\n",
        "from wandb.keras import WandbCallback\n",
        "\n",
        "wandb.init(project=wandb_project, entity=wandb_group)\n",
        "wandb.config.epochs = 20\n",
        "wandb.config.batch_size = 32\n",
        "wandb.config.n_neurons = 64\n",
        "wandb.config.lr = 0.0010000\n",
        "wandb.config.n_layers = 5\n",
        "\n",
        "# Create Model\n",
        "model = Sequential()\n",
        "for _ in range(wandb.config.n_layers):\n",
        "  model.add(Dense(wandb.config.n_neurons, activation='relu'))\n",
        "model.add(Dense(10, activation='softmax'))\n",
        "\n",
        "# Compile Model\n",
        "opt = tf.keras.optimizers.Adam(learning_rate=wandb.config.lr)\n",
        "model.compile(\n",
        "  optimizer='adam',\n",
        "  loss='sparse_categorical_crossentropy',\n",
        "  metrics=['accuracy']\n",
        ")\n",
        "\n",
        "# Fit Model\n",
        "model.fit(X_train, y_train, \n",
        "          validation_data=(X_test, y_test), \n",
        "          epochs=wandb.config.epochs, \n",
        "          batch_size=wandb.config.batch_size, \n",
        "          callbacks=[WandbCallback()])"
      ],
      "execution_count": null,
      "outputs": []
    },
    {
      "cell_type": "markdown",
      "metadata": {
        "id": "-gBTkYlKdztQ"
      },
      "source": [
        "## **Keras hyper parameter tuning:**"
      ]
    },
    {
      "cell_type": "code",
      "metadata": {
        "id": "gBu5N9osdz7t"
      },
      "source": [
        "!pip install keras-tuner"
      ],
      "execution_count": null,
      "outputs": []
    },
    {
      "cell_type": "code",
      "metadata": {
        "id": "YSrZiAE5d0J8"
      },
      "source": [
        "from tensorflow import keras\n",
        "from tensorflow.keras import layers\n",
        "from kerastuner.tuners import RandomSearch\n",
        "\n",
        "\"\"\"\n",
        "This model Tunes:\n",
        "- Number of Neurons in the Hidden Layer\n",
        "- Learning Rate in Adam\n",
        "\n",
        "\"\"\"\n",
        "\n",
        "def build_model(hp):\n",
        "    model = keras.Sequential()\n",
        "    model.add(Dense(units=hp.Int('units',\n",
        "                                        min_value=32,\n",
        "                                        max_value=512,\n",
        "                                        step=32),\n",
        "                           activation='relu'))\n",
        "    model.add(Dense(10, activation='softmax'))\n",
        "    model.compile(\n",
        "        optimizer=keras.optimizers.Adam(\n",
        "            hp.Choice('learning_rate',\n",
        "                      values=[1e-2, 1e-3, 1e-4])),\n",
        "        loss='sparse_categorical_crossentropy',\n",
        "        metrics=['accuracy'])\n",
        "    return model"
      ],
      "execution_count": null,
      "outputs": []
    },
    {
      "cell_type": "code",
      "metadata": {
        "id": "pSA5-PXqd0YZ"
      },
      "source": [
        "tuner = RandomSearch(\n",
        "    build_model,\n",
        "    objective='val_accuracy',\n",
        "    max_trials=5,\n",
        "    executions_per_trial=3,\n",
        "    directory='./keras-tuner-trial',\n",
        "    project_name='helloworld')"
      ],
      "execution_count": null,
      "outputs": []
    },
    {
      "cell_type": "code",
      "metadata": {
        "id": "wLFCV_Grd0qe"
      },
      "source": [
        "tuner.search_space_summary()"
      ],
      "execution_count": null,
      "outputs": []
    },
    {
      "cell_type": "code",
      "metadata": {
        "id": "oKSVuKQdd04w",
        "outputId": "cb64cb06-ef1c-4237-bb70-e93b87b4d7f5",
        "colab": {
          "base_uri": "https://localhost:8080/",
          "height": 1000
        }
      },
      "source": [
        "tuner.search(X_train, y_train,\n",
        "             epochs=5,\n",
        "             validation_data=(X_test, y_test))"
      ],
      "execution_count": null,
      "outputs": [
        {
          "output_type": "stream",
          "text": [
            "Epoch 1/5\n",
            "2500/2500 [==============================] - 9s 4ms/step - loss: 0.7195 - accuracy: 0.7846 - val_loss: 0.6731 - val_accuracy: 0.8037\n",
            "Epoch 2/5\n",
            "2500/2500 [==============================] - 8s 3ms/step - loss: 0.6201 - accuracy: 0.8194 - val_loss: 0.6548 - val_accuracy: 0.8116\n",
            "Epoch 3/5\n",
            "2500/2500 [==============================] - 8s 3ms/step - loss: 0.5874 - accuracy: 0.8305 - val_loss: 0.6284 - val_accuracy: 0.8209\n",
            "Epoch 4/5\n",
            "2500/2500 [==============================] - 8s 3ms/step - loss: 0.5710 - accuracy: 0.8367 - val_loss: 0.6228 - val_accuracy: 0.8256\n",
            "Epoch 5/5\n",
            "2500/2500 [==============================] - 8s 3ms/step - loss: 0.5491 - accuracy: 0.8421 - val_loss: 0.6473 - val_accuracy: 0.8289\n",
            "Epoch 1/5\n",
            "2500/2500 [==============================] - 8s 3ms/step - loss: 0.7094 - accuracy: 0.7883 - val_loss: 0.6405 - val_accuracy: 0.8023\n",
            "Epoch 2/5\n",
            "2500/2500 [==============================] - 8s 3ms/step - loss: 0.6188 - accuracy: 0.8185 - val_loss: 0.6403 - val_accuracy: 0.8146\n",
            "Epoch 3/5\n",
            "2500/2500 [==============================] - 8s 3ms/step - loss: 0.5883 - accuracy: 0.8286 - val_loss: 0.6540 - val_accuracy: 0.8199\n",
            "Epoch 4/5\n",
            "2500/2500 [==============================] - 8s 3ms/step - loss: 0.5631 - accuracy: 0.8356 - val_loss: 0.6648 - val_accuracy: 0.8181\n",
            "Epoch 5/5\n",
            "2500/2500 [==============================] - 8s 3ms/step - loss: 0.5508 - accuracy: 0.8414 - val_loss: 0.6536 - val_accuracy: 0.8201\n",
            "Epoch 1/5\n",
            "2500/2500 [==============================] - 8s 3ms/step - loss: 0.7222 - accuracy: 0.7853 - val_loss: 0.6617 - val_accuracy: 0.8059\n",
            "Epoch 2/5\n",
            "2500/2500 [==============================] - 8s 3ms/step - loss: 0.6154 - accuracy: 0.8190 - val_loss: 0.6261 - val_accuracy: 0.8173\n",
            "Epoch 3/5\n",
            "2500/2500 [==============================] - 8s 3ms/step - loss: 0.5911 - accuracy: 0.8304 - val_loss: 0.6349 - val_accuracy: 0.8206\n",
            "Epoch 4/5\n",
            "2500/2500 [==============================] - 8s 3ms/step - loss: 0.5666 - accuracy: 0.8354 - val_loss: 0.6322 - val_accuracy: 0.8267\n",
            "Epoch 5/5\n",
            "2500/2500 [==============================] - 8s 3ms/step - loss: 0.5508 - accuracy: 0.8410 - val_loss: 0.6577 - val_accuracy: 0.8185\n"
          ],
          "name": "stdout"
        },
        {
          "output_type": "display_data",
          "data": {
            "text/html": [
              "<span style=\"color:#4527A0\"><h1 style=\"font-size:18px\">Trial complete</h1></span>"
            ],
            "text/plain": [
              "<IPython.core.display.HTML object>"
            ]
          },
          "metadata": {
            "tags": []
          }
        },
        {
          "output_type": "display_data",
          "data": {
            "text/html": [
              "<span style=\"color:#4527A0\"><h1 style=\"font-size:18px\">Trial summary</h1></span>"
            ],
            "text/plain": [
              "<IPython.core.display.HTML object>"
            ]
          },
          "metadata": {
            "tags": []
          }
        },
        {
          "output_type": "display_data",
          "data": {
            "text/html": [
              "<span style=\"color:cyan\"> |-Trial ID: 4310a4162eb92553197a185298b8c9a3</span>"
            ],
            "text/plain": [
              "<IPython.core.display.HTML object>"
            ]
          },
          "metadata": {
            "tags": []
          }
        },
        {
          "output_type": "display_data",
          "data": {
            "text/html": [
              "<span style=\"color:cyan\"> |-Score: 0.8252166708310446</span>"
            ],
            "text/plain": [
              "<IPython.core.display.HTML object>"
            ]
          },
          "metadata": {
            "tags": []
          }
        },
        {
          "output_type": "display_data",
          "data": {
            "text/html": [
              "<span style=\"color:cyan\"> |-Best step: 0</span>"
            ],
            "text/plain": [
              "<IPython.core.display.HTML object>"
            ]
          },
          "metadata": {
            "tags": []
          }
        },
        {
          "output_type": "display_data",
          "data": {
            "text/html": [
              "<span style=\"color:#7E57C2\"><h2 style=\"font-size:16px\">Hyperparameters:</h2></span>"
            ],
            "text/plain": [
              "<IPython.core.display.HTML object>"
            ]
          },
          "metadata": {
            "tags": []
          }
        },
        {
          "output_type": "display_data",
          "data": {
            "text/html": [
              "<span style=\"color:cyan\"> |-learning_rate: 0.01</span>"
            ],
            "text/plain": [
              "<IPython.core.display.HTML object>"
            ]
          },
          "metadata": {
            "tags": []
          }
        },
        {
          "output_type": "display_data",
          "data": {
            "text/html": [
              "<span style=\"color:blue\"> |-units: 288</span>"
            ],
            "text/plain": [
              "<IPython.core.display.HTML object>"
            ]
          },
          "metadata": {
            "tags": []
          }
        },
        {
          "output_type": "stream",
          "text": [
            "Epoch 1/5\n",
            "2500/2500 [==============================] - 6s 2ms/step - loss: 0.7013 - accuracy: 0.7925 - val_loss: 0.5553 - val_accuracy: 0.8360\n",
            "Epoch 2/5\n",
            "2500/2500 [==============================] - 6s 2ms/step - loss: 0.5123 - accuracy: 0.8491 - val_loss: 0.5151 - val_accuracy: 0.8457\n",
            "Epoch 3/5\n",
            "2500/2500 [==============================] - 6s 2ms/step - loss: 0.4532 - accuracy: 0.8659 - val_loss: 0.4836 - val_accuracy: 0.8554\n",
            "Epoch 4/5\n",
            "2500/2500 [==============================] - 6s 2ms/step - loss: 0.4123 - accuracy: 0.8785 - val_loss: 0.4754 - val_accuracy: 0.8605\n",
            "Epoch 5/5\n",
            "2500/2500 [==============================] - 6s 2ms/step - loss: 0.3822 - accuracy: 0.8861 - val_loss: 0.4717 - val_accuracy: 0.8612\n",
            "Epoch 1/5\n",
            "2500/2500 [==============================] - 6s 2ms/step - loss: 0.6999 - accuracy: 0.7929 - val_loss: 0.5517 - val_accuracy: 0.8378\n",
            "Epoch 2/5\n",
            "2500/2500 [==============================] - 5s 2ms/step - loss: 0.5053 - accuracy: 0.8513 - val_loss: 0.4966 - val_accuracy: 0.8534\n",
            "Epoch 3/5\n",
            "2500/2500 [==============================] - 5s 2ms/step - loss: 0.4458 - accuracy: 0.8692 - val_loss: 0.4790 - val_accuracy: 0.8601\n",
            "Epoch 4/5\n",
            "2500/2500 [==============================] - 6s 2ms/step - loss: 0.4058 - accuracy: 0.8800 - val_loss: 0.4816 - val_accuracy: 0.8621\n",
            "Epoch 5/5\n",
            "2500/2500 [==============================] - 5s 2ms/step - loss: 0.3788 - accuracy: 0.8872 - val_loss: 0.4612 - val_accuracy: 0.8684\n",
            "Epoch 1/5\n",
            "2500/2500 [==============================] - 6s 2ms/step - loss: 0.6978 - accuracy: 0.7942 - val_loss: 0.5540 - val_accuracy: 0.8367\n",
            "Epoch 2/5\n",
            "2500/2500 [==============================] - 6s 2ms/step - loss: 0.5100 - accuracy: 0.8491 - val_loss: 0.5070 - val_accuracy: 0.8504\n",
            "Epoch 3/5\n",
            "2500/2500 [==============================] - 5s 2ms/step - loss: 0.4486 - accuracy: 0.8656 - val_loss: 0.4866 - val_accuracy: 0.8547\n",
            "Epoch 4/5\n",
            "2500/2500 [==============================] - 6s 2ms/step - loss: 0.4094 - accuracy: 0.8774 - val_loss: 0.4855 - val_accuracy: 0.8589\n",
            "Epoch 5/5\n",
            "2500/2500 [==============================] - 6s 2ms/step - loss: 0.3804 - accuracy: 0.8857 - val_loss: 0.4716 - val_accuracy: 0.8608\n"
          ],
          "name": "stdout"
        },
        {
          "output_type": "display_data",
          "data": {
            "text/html": [
              "<span style=\"color:#4527A0\"><h1 style=\"font-size:18px\">Trial complete</h1></span>"
            ],
            "text/plain": [
              "<IPython.core.display.HTML object>"
            ]
          },
          "metadata": {
            "tags": []
          }
        },
        {
          "output_type": "display_data",
          "data": {
            "text/html": [
              "<span style=\"color:#4527A0\"><h1 style=\"font-size:18px\">Trial summary</h1></span>"
            ],
            "text/plain": [
              "<IPython.core.display.HTML object>"
            ]
          },
          "metadata": {
            "tags": []
          }
        },
        {
          "output_type": "display_data",
          "data": {
            "text/html": [
              "<span style=\"color:cyan\"> |-Trial ID: cc98f8fa47a5b55d783517397736229b</span>"
            ],
            "text/plain": [
              "<IPython.core.display.HTML object>"
            ]
          },
          "metadata": {
            "tags": []
          }
        },
        {
          "output_type": "display_data",
          "data": {
            "text/html": [
              "<span style=\"color:cyan\"> |-Score: 0.8634666601816813</span>"
            ],
            "text/plain": [
              "<IPython.core.display.HTML object>"
            ]
          },
          "metadata": {
            "tags": []
          }
        },
        {
          "output_type": "display_data",
          "data": {
            "text/html": [
              "<span style=\"color:cyan\"> |-Best step: 0</span>"
            ],
            "text/plain": [
              "<IPython.core.display.HTML object>"
            ]
          },
          "metadata": {
            "tags": []
          }
        },
        {
          "output_type": "display_data",
          "data": {
            "text/html": [
              "<span style=\"color:#7E57C2\"><h2 style=\"font-size:16px\">Hyperparameters:</h2></span>"
            ],
            "text/plain": [
              "<IPython.core.display.HTML object>"
            ]
          },
          "metadata": {
            "tags": []
          }
        },
        {
          "output_type": "display_data",
          "data": {
            "text/html": [
              "<span style=\"color:cyan\"> |-learning_rate: 0.001</span>"
            ],
            "text/plain": [
              "<IPython.core.display.HTML object>"
            ]
          },
          "metadata": {
            "tags": []
          }
        },
        {
          "output_type": "display_data",
          "data": {
            "text/html": [
              "<span style=\"color:blue\"> |-units: 96</span>"
            ],
            "text/plain": [
              "<IPython.core.display.HTML object>"
            ]
          },
          "metadata": {
            "tags": []
          }
        },
        {
          "output_type": "stream",
          "text": [
            "Epoch 1/5\n",
            "2500/2500 [==============================] - 7s 3ms/step - loss: 0.6564 - accuracy: 0.8064 - val_loss: 0.5065 - val_accuracy: 0.8515\n",
            "Epoch 2/5\n",
            "2500/2500 [==============================] - 7s 3ms/step - loss: 0.4609 - accuracy: 0.8640 - val_loss: 0.4541 - val_accuracy: 0.8651\n",
            "Epoch 3/5\n",
            "2500/2500 [==============================] - 7s 3ms/step - loss: 0.3939 - accuracy: 0.8818 - val_loss: 0.4392 - val_accuracy: 0.8716\n",
            "Epoch 4/5\n",
            "2500/2500 [==============================] - 7s 3ms/step - loss: 0.3456 - accuracy: 0.8965 - val_loss: 0.4374 - val_accuracy: 0.8740\n",
            "Epoch 5/5\n",
            "2500/2500 [==============================] - 7s 3ms/step - loss: 0.3076 - accuracy: 0.9082 - val_loss: 0.4346 - val_accuracy: 0.8780\n",
            "Epoch 1/5\n",
            "2500/2500 [==============================] - 7s 3ms/step - loss: 0.6507 - accuracy: 0.8080 - val_loss: 0.5234 - val_accuracy: 0.8417\n",
            "Epoch 2/5\n",
            "2500/2500 [==============================] - 7s 3ms/step - loss: 0.4619 - accuracy: 0.8638 - val_loss: 0.4790 - val_accuracy: 0.8554\n",
            "Epoch 3/5\n",
            "2500/2500 [==============================] - 7s 3ms/step - loss: 0.3915 - accuracy: 0.8832 - val_loss: 0.4510 - val_accuracy: 0.8648\n",
            "Epoch 4/5\n",
            "2500/2500 [==============================] - 7s 3ms/step - loss: 0.3448 - accuracy: 0.8966 - val_loss: 0.4391 - val_accuracy: 0.8710\n",
            "Epoch 5/5\n",
            "2500/2500 [==============================] - 7s 3ms/step - loss: 0.3067 - accuracy: 0.9079 - val_loss: 0.4515 - val_accuracy: 0.8716\n",
            "Epoch 1/5\n",
            "2500/2500 [==============================] - 7s 3ms/step - loss: 0.6547 - accuracy: 0.8063 - val_loss: 0.5105 - val_accuracy: 0.8490\n",
            "Epoch 2/5\n",
            "2500/2500 [==============================] - 7s 3ms/step - loss: 0.4644 - accuracy: 0.8642 - val_loss: 0.4631 - val_accuracy: 0.8647\n",
            "Epoch 3/5\n",
            "2500/2500 [==============================] - 7s 3ms/step - loss: 0.4004 - accuracy: 0.8822 - val_loss: 0.4543 - val_accuracy: 0.8658\n",
            "Epoch 4/5\n",
            "2500/2500 [==============================] - 7s 3ms/step - loss: 0.3534 - accuracy: 0.8953 - val_loss: 0.4482 - val_accuracy: 0.8696\n",
            "Epoch 5/5\n",
            "2500/2500 [==============================] - 8s 3ms/step - loss: 0.3151 - accuracy: 0.9059 - val_loss: 0.4510 - val_accuracy: 0.8707\n"
          ],
          "name": "stdout"
        },
        {
          "output_type": "display_data",
          "data": {
            "text/html": [
              "<span style=\"color:#4527A0\"><h1 style=\"font-size:18px\">Trial complete</h1></span>"
            ],
            "text/plain": [
              "<IPython.core.display.HTML object>"
            ]
          },
          "metadata": {
            "tags": []
          }
        },
        {
          "output_type": "display_data",
          "data": {
            "text/html": [
              "<span style=\"color:#4527A0\"><h1 style=\"font-size:18px\">Trial summary</h1></span>"
            ],
            "text/plain": [
              "<IPython.core.display.HTML object>"
            ]
          },
          "metadata": {
            "tags": []
          }
        },
        {
          "output_type": "display_data",
          "data": {
            "text/html": [
              "<span style=\"color:cyan\"> |-Trial ID: 32c829dd7f81df951b43bb1b414d47eb</span>"
            ],
            "text/plain": [
              "<IPython.core.display.HTML object>"
            ]
          },
          "metadata": {
            "tags": []
          }
        },
        {
          "output_type": "display_data",
          "data": {
            "text/html": [
              "<span style=\"color:cyan\"> |-Score: 0.8734333316485087</span>"
            ],
            "text/plain": [
              "<IPython.core.display.HTML object>"
            ]
          },
          "metadata": {
            "tags": []
          }
        },
        {
          "output_type": "display_data",
          "data": {
            "text/html": [
              "<span style=\"color:cyan\"> |-Best step: 0</span>"
            ],
            "text/plain": [
              "<IPython.core.display.HTML object>"
            ]
          },
          "metadata": {
            "tags": []
          }
        },
        {
          "output_type": "display_data",
          "data": {
            "text/html": [
              "<span style=\"color:#7E57C2\"><h2 style=\"font-size:16px\">Hyperparameters:</h2></span>"
            ],
            "text/plain": [
              "<IPython.core.display.HTML object>"
            ]
          },
          "metadata": {
            "tags": []
          }
        },
        {
          "output_type": "display_data",
          "data": {
            "text/html": [
              "<span style=\"color:cyan\"> |-learning_rate: 0.001</span>"
            ],
            "text/plain": [
              "<IPython.core.display.HTML object>"
            ]
          },
          "metadata": {
            "tags": []
          }
        },
        {
          "output_type": "display_data",
          "data": {
            "text/html": [
              "<span style=\"color:blue\"> |-units: 192</span>"
            ],
            "text/plain": [
              "<IPython.core.display.HTML object>"
            ]
          },
          "metadata": {
            "tags": []
          }
        },
        {
          "output_type": "stream",
          "text": [
            "Epoch 1/5\n",
            "2500/2500 [==============================] - 9s 4ms/step - loss: 0.7143 - accuracy: 0.7852 - val_loss: 0.6277 - val_accuracy: 0.8147\n",
            "Epoch 2/5\n",
            "2500/2500 [==============================] - 9s 4ms/step - loss: 0.6168 - accuracy: 0.8203 - val_loss: 0.6578 - val_accuracy: 0.8169\n",
            "Epoch 3/5\n",
            "2500/2500 [==============================] - 9s 4ms/step - loss: 0.5854 - accuracy: 0.8291 - val_loss: 0.6382 - val_accuracy: 0.8214\n",
            "Epoch 4/5\n",
            "2500/2500 [==============================] - 9s 4ms/step - loss: 0.5661 - accuracy: 0.8371 - val_loss: 0.6492 - val_accuracy: 0.8159\n",
            "Epoch 5/5\n",
            "2500/2500 [==============================] - 9s 4ms/step - loss: 0.5497 - accuracy: 0.8407 - val_loss: 0.6524 - val_accuracy: 0.8201\n",
            "Epoch 1/5\n",
            "2500/2500 [==============================] - 9s 4ms/step - loss: 0.7155 - accuracy: 0.7883 - val_loss: 0.6459 - val_accuracy: 0.8133\n",
            "Epoch 2/5\n",
            "2500/2500 [==============================] - 9s 3ms/step - loss: 0.6184 - accuracy: 0.8203 - val_loss: 0.6484 - val_accuracy: 0.8152\n",
            "Epoch 3/5\n",
            "2500/2500 [==============================] - 9s 4ms/step - loss: 0.5841 - accuracy: 0.8319 - val_loss: 0.6281 - val_accuracy: 0.8234\n",
            "Epoch 4/5\n",
            "2500/2500 [==============================] - 9s 4ms/step - loss: 0.5668 - accuracy: 0.8365 - val_loss: 0.6729 - val_accuracy: 0.8141\n",
            "Epoch 5/5\n",
            "2500/2500 [==============================] - 9s 4ms/step - loss: 0.5500 - accuracy: 0.8415 - val_loss: 0.6531 - val_accuracy: 0.8237\n",
            "Epoch 1/5\n",
            "2500/2500 [==============================] - 9s 3ms/step - loss: 0.7210 - accuracy: 0.7849 - val_loss: 0.6607 - val_accuracy: 0.8005\n",
            "Epoch 2/5\n",
            "2500/2500 [==============================] - 9s 4ms/step - loss: 0.6107 - accuracy: 0.8222 - val_loss: 0.6874 - val_accuracy: 0.8100\n",
            "Epoch 3/5\n",
            "2500/2500 [==============================] - 9s 3ms/step - loss: 0.5846 - accuracy: 0.8311 - val_loss: 0.6179 - val_accuracy: 0.8298\n",
            "Epoch 4/5\n",
            "2500/2500 [==============================] - 9s 4ms/step - loss: 0.5664 - accuracy: 0.8366 - val_loss: 0.6441 - val_accuracy: 0.8201\n",
            "Epoch 5/5\n",
            "2500/2500 [==============================] - 9s 4ms/step - loss: 0.5461 - accuracy: 0.8436 - val_loss: 0.6939 - val_accuracy: 0.8188\n"
          ],
          "name": "stdout"
        },
        {
          "output_type": "display_data",
          "data": {
            "text/html": [
              "<span style=\"color:#4527A0\"><h1 style=\"font-size:18px\">Trial complete</h1></span>"
            ],
            "text/plain": [
              "<IPython.core.display.HTML object>"
            ]
          },
          "metadata": {
            "tags": []
          }
        },
        {
          "output_type": "display_data",
          "data": {
            "text/html": [
              "<span style=\"color:#4527A0\"><h1 style=\"font-size:18px\">Trial summary</h1></span>"
            ],
            "text/plain": [
              "<IPython.core.display.HTML object>"
            ]
          },
          "metadata": {
            "tags": []
          }
        },
        {
          "output_type": "display_data",
          "data": {
            "text/html": [
              "<span style=\"color:cyan\"> |-Trial ID: 772a6cb1d0ec59f09adf494b937c8387</span>"
            ],
            "text/plain": [
              "<IPython.core.display.HTML object>"
            ]
          },
          "metadata": {
            "tags": []
          }
        },
        {
          "output_type": "display_data",
          "data": {
            "text/html": [
              "<span style=\"color:cyan\"> |-Score: 0.8249499996503195</span>"
            ],
            "text/plain": [
              "<IPython.core.display.HTML object>"
            ]
          },
          "metadata": {
            "tags": []
          }
        },
        {
          "output_type": "display_data",
          "data": {
            "text/html": [
              "<span style=\"color:cyan\"> |-Best step: 0</span>"
            ],
            "text/plain": [
              "<IPython.core.display.HTML object>"
            ]
          },
          "metadata": {
            "tags": []
          }
        },
        {
          "output_type": "display_data",
          "data": {
            "text/html": [
              "<span style=\"color:#7E57C2\"><h2 style=\"font-size:16px\">Hyperparameters:</h2></span>"
            ],
            "text/plain": [
              "<IPython.core.display.HTML object>"
            ]
          },
          "metadata": {
            "tags": []
          }
        },
        {
          "output_type": "display_data",
          "data": {
            "text/html": [
              "<span style=\"color:cyan\"> |-learning_rate: 0.01</span>"
            ],
            "text/plain": [
              "<IPython.core.display.HTML object>"
            ]
          },
          "metadata": {
            "tags": []
          }
        },
        {
          "output_type": "display_data",
          "data": {
            "text/html": [
              "<span style=\"color:blue\"> |-units: 352</span>"
            ],
            "text/plain": [
              "<IPython.core.display.HTML object>"
            ]
          },
          "metadata": {
            "tags": []
          }
        },
        {
          "output_type": "stream",
          "text": [
            "Epoch 1/5\n",
            "2500/2500 [==============================] - 11s 5ms/step - loss: 0.6115 - accuracy: 0.8188 - val_loss: 0.4722 - val_accuracy: 0.8594\n",
            "Epoch 2/5\n",
            "2500/2500 [==============================] - 11s 4ms/step - loss: 0.4256 - accuracy: 0.8745 - val_loss: 0.4327 - val_accuracy: 0.8727\n",
            "Epoch 3/5\n",
            "2500/2500 [==============================] - 11s 5ms/step - loss: 0.3483 - accuracy: 0.8956 - val_loss: 0.4223 - val_accuracy: 0.8778\n",
            "Epoch 4/5\n",
            "2500/2500 [==============================] - 11s 4ms/step - loss: 0.2907 - accuracy: 0.9116 - val_loss: 0.4146 - val_accuracy: 0.8828\n",
            "Epoch 5/5\n",
            "2500/2500 [==============================] - 11s 4ms/step - loss: 0.2398 - accuracy: 0.9276 - val_loss: 0.4405 - val_accuracy: 0.8785\n",
            "Epoch 1/5\n",
            "2500/2500 [==============================] - 11s 4ms/step - loss: 0.6106 - accuracy: 0.8175 - val_loss: 0.4877 - val_accuracy: 0.8543\n",
            "Epoch 2/5\n",
            "2500/2500 [==============================] - 11s 4ms/step - loss: 0.4233 - accuracy: 0.8747 - val_loss: 0.4391 - val_accuracy: 0.8709\n",
            "Epoch 3/5\n",
            "2500/2500 [==============================] - 11s 5ms/step - loss: 0.3477 - accuracy: 0.8967 - val_loss: 0.4245 - val_accuracy: 0.8763\n",
            "Epoch 4/5\n",
            "2500/2500 [==============================] - 11s 4ms/step - loss: 0.2892 - accuracy: 0.9133 - val_loss: 0.4400 - val_accuracy: 0.8745\n",
            "Epoch 5/5\n",
            "2500/2500 [==============================] - 11s 4ms/step - loss: 0.2415 - accuracy: 0.9273 - val_loss: 0.4508 - val_accuracy: 0.8748\n",
            "Epoch 1/5\n",
            "2500/2500 [==============================] - 11s 4ms/step - loss: 0.6069 - accuracy: 0.8192 - val_loss: 0.4838 - val_accuracy: 0.8566\n",
            "Epoch 2/5\n",
            "2500/2500 [==============================] - 11s 4ms/step - loss: 0.4206 - accuracy: 0.8759 - val_loss: 0.4358 - val_accuracy: 0.8717\n",
            "Epoch 3/5\n",
            "2500/2500 [==============================] - 12s 5ms/step - loss: 0.3455 - accuracy: 0.8970 - val_loss: 0.4197 - val_accuracy: 0.8773\n",
            "Epoch 4/5\n",
            "2500/2500 [==============================] - 12s 5ms/step - loss: 0.2886 - accuracy: 0.9132 - val_loss: 0.4256 - val_accuracy: 0.8785\n",
            "Epoch 5/5\n",
            "2500/2500 [==============================] - 12s 5ms/step - loss: 0.2392 - accuracy: 0.9272 - val_loss: 0.4582 - val_accuracy: 0.8766\n"
          ],
          "name": "stdout"
        },
        {
          "output_type": "display_data",
          "data": {
            "text/html": [
              "<span style=\"color:#4527A0\"><h1 style=\"font-size:18px\">Trial complete</h1></span>"
            ],
            "text/plain": [
              "<IPython.core.display.HTML object>"
            ]
          },
          "metadata": {
            "tags": []
          }
        },
        {
          "output_type": "display_data",
          "data": {
            "text/html": [
              "<span style=\"color:#4527A0\"><h1 style=\"font-size:18px\">Trial summary</h1></span>"
            ],
            "text/plain": [
              "<IPython.core.display.HTML object>"
            ]
          },
          "metadata": {
            "tags": []
          }
        },
        {
          "output_type": "display_data",
          "data": {
            "text/html": [
              "<span style=\"color:cyan\"> |-Trial ID: 6852c5c7feb781b8067820a3dbec2576</span>"
            ],
            "text/plain": [
              "<IPython.core.display.HTML object>"
            ]
          },
          "metadata": {
            "tags": []
          }
        },
        {
          "output_type": "display_data",
          "data": {
            "text/html": [
              "<span style=\"color:cyan\"> |-Score: 0.8792166709899902</span>"
            ],
            "text/plain": [
              "<IPython.core.display.HTML object>"
            ]
          },
          "metadata": {
            "tags": []
          }
        },
        {
          "output_type": "display_data",
          "data": {
            "text/html": [
              "<span style=\"color:cyan\"> |-Best step: 0</span>"
            ],
            "text/plain": [
              "<IPython.core.display.HTML object>"
            ]
          },
          "metadata": {
            "tags": []
          }
        },
        {
          "output_type": "display_data",
          "data": {
            "text/html": [
              "<span style=\"color:#7E57C2\"><h2 style=\"font-size:16px\">Hyperparameters:</h2></span>"
            ],
            "text/plain": [
              "<IPython.core.display.HTML object>"
            ]
          },
          "metadata": {
            "tags": []
          }
        },
        {
          "output_type": "display_data",
          "data": {
            "text/html": [
              "<span style=\"color:cyan\"> |-learning_rate: 0.001</span>"
            ],
            "text/plain": [
              "<IPython.core.display.HTML object>"
            ]
          },
          "metadata": {
            "tags": []
          }
        },
        {
          "output_type": "display_data",
          "data": {
            "text/html": [
              "<span style=\"color:blue\"> |-units: 480</span>"
            ],
            "text/plain": [
              "<IPython.core.display.HTML object>"
            ]
          },
          "metadata": {
            "tags": []
          }
        },
        {
          "output_type": "stream",
          "text": [
            "INFO:tensorflow:Oracle triggered exit\n"
          ],
          "name": "stdout"
        }
      ]
    },
    {
      "cell_type": "code",
      "metadata": {
        "id": "U4qS4g20gxZK",
        "outputId": "d7652e1e-d54a-47ff-c9a1-2b94295cc267",
        "colab": {
          "base_uri": "https://localhost:8080/",
          "height": 919
        }
      },
      "source": [
        "tuner.results_summary()"
      ],
      "execution_count": null,
      "outputs": [
        {
          "output_type": "display_data",
          "data": {
            "text/html": [
              "<span style=\"color:#4527A0\"><h1 style=\"font-size:18px\">Results summary</h1></span>"
            ],
            "text/plain": [
              "<IPython.core.display.HTML object>"
            ]
          },
          "metadata": {
            "tags": []
          }
        },
        {
          "output_type": "display_data",
          "data": {
            "text/html": [
              "<span style=\"color:cyan\"> |-Results in ./keras-tuner-trial/helloworld</span>"
            ],
            "text/plain": [
              "<IPython.core.display.HTML object>"
            ]
          },
          "metadata": {
            "tags": []
          }
        },
        {
          "output_type": "display_data",
          "data": {
            "text/html": [
              "<span style=\"color:cyan\"> |-Showing 10 best trials</span>"
            ],
            "text/plain": [
              "<IPython.core.display.HTML object>"
            ]
          },
          "metadata": {
            "tags": []
          }
        },
        {
          "output_type": "display_data",
          "data": {
            "text/html": [
              "<span style=\"color:cyan\"> |-Objective(name='val_accuracy', direction='max')</span>"
            ],
            "text/plain": [
              "<IPython.core.display.HTML object>"
            ]
          },
          "metadata": {
            "tags": []
          }
        },
        {
          "output_type": "display_data",
          "data": {
            "text/html": [
              "<span style=\"color:#4527A0\"><h1 style=\"font-size:18px\">Trial summary</h1></span>"
            ],
            "text/plain": [
              "<IPython.core.display.HTML object>"
            ]
          },
          "metadata": {
            "tags": []
          }
        },
        {
          "output_type": "display_data",
          "data": {
            "text/html": [
              "<span style=\"color:cyan\"> |-Trial ID: 6852c5c7feb781b8067820a3dbec2576</span>"
            ],
            "text/plain": [
              "<IPython.core.display.HTML object>"
            ]
          },
          "metadata": {
            "tags": []
          }
        },
        {
          "output_type": "display_data",
          "data": {
            "text/html": [
              "<span style=\"color:cyan\"> |-Score: 0.8792166709899902</span>"
            ],
            "text/plain": [
              "<IPython.core.display.HTML object>"
            ]
          },
          "metadata": {
            "tags": []
          }
        },
        {
          "output_type": "display_data",
          "data": {
            "text/html": [
              "<span style=\"color:cyan\"> |-Best step: 0</span>"
            ],
            "text/plain": [
              "<IPython.core.display.HTML object>"
            ]
          },
          "metadata": {
            "tags": []
          }
        },
        {
          "output_type": "display_data",
          "data": {
            "text/html": [
              "<span style=\"color:#7E57C2\"><h2 style=\"font-size:16px\">Hyperparameters:</h2></span>"
            ],
            "text/plain": [
              "<IPython.core.display.HTML object>"
            ]
          },
          "metadata": {
            "tags": []
          }
        },
        {
          "output_type": "display_data",
          "data": {
            "text/html": [
              "<span style=\"color:cyan\"> |-learning_rate: 0.001</span>"
            ],
            "text/plain": [
              "<IPython.core.display.HTML object>"
            ]
          },
          "metadata": {
            "tags": []
          }
        },
        {
          "output_type": "display_data",
          "data": {
            "text/html": [
              "<span style=\"color:blue\"> |-units: 480</span>"
            ],
            "text/plain": [
              "<IPython.core.display.HTML object>"
            ]
          },
          "metadata": {
            "tags": []
          }
        },
        {
          "output_type": "display_data",
          "data": {
            "text/html": [
              "<span style=\"color:#4527A0\"><h1 style=\"font-size:18px\">Trial summary</h1></span>"
            ],
            "text/plain": [
              "<IPython.core.display.HTML object>"
            ]
          },
          "metadata": {
            "tags": []
          }
        },
        {
          "output_type": "display_data",
          "data": {
            "text/html": [
              "<span style=\"color:cyan\"> |-Trial ID: 32c829dd7f81df951b43bb1b414d47eb</span>"
            ],
            "text/plain": [
              "<IPython.core.display.HTML object>"
            ]
          },
          "metadata": {
            "tags": []
          }
        },
        {
          "output_type": "display_data",
          "data": {
            "text/html": [
              "<span style=\"color:cyan\"> |-Score: 0.8734333316485087</span>"
            ],
            "text/plain": [
              "<IPython.core.display.HTML object>"
            ]
          },
          "metadata": {
            "tags": []
          }
        },
        {
          "output_type": "display_data",
          "data": {
            "text/html": [
              "<span style=\"color:cyan\"> |-Best step: 0</span>"
            ],
            "text/plain": [
              "<IPython.core.display.HTML object>"
            ]
          },
          "metadata": {
            "tags": []
          }
        },
        {
          "output_type": "display_data",
          "data": {
            "text/html": [
              "<span style=\"color:#7E57C2\"><h2 style=\"font-size:16px\">Hyperparameters:</h2></span>"
            ],
            "text/plain": [
              "<IPython.core.display.HTML object>"
            ]
          },
          "metadata": {
            "tags": []
          }
        },
        {
          "output_type": "display_data",
          "data": {
            "text/html": [
              "<span style=\"color:cyan\"> |-learning_rate: 0.001</span>"
            ],
            "text/plain": [
              "<IPython.core.display.HTML object>"
            ]
          },
          "metadata": {
            "tags": []
          }
        },
        {
          "output_type": "display_data",
          "data": {
            "text/html": [
              "<span style=\"color:blue\"> |-units: 192</span>"
            ],
            "text/plain": [
              "<IPython.core.display.HTML object>"
            ]
          },
          "metadata": {
            "tags": []
          }
        },
        {
          "output_type": "display_data",
          "data": {
            "text/html": [
              "<span style=\"color:#4527A0\"><h1 style=\"font-size:18px\">Trial summary</h1></span>"
            ],
            "text/plain": [
              "<IPython.core.display.HTML object>"
            ]
          },
          "metadata": {
            "tags": []
          }
        },
        {
          "output_type": "display_data",
          "data": {
            "text/html": [
              "<span style=\"color:cyan\"> |-Trial ID: cc98f8fa47a5b55d783517397736229b</span>"
            ],
            "text/plain": [
              "<IPython.core.display.HTML object>"
            ]
          },
          "metadata": {
            "tags": []
          }
        },
        {
          "output_type": "display_data",
          "data": {
            "text/html": [
              "<span style=\"color:cyan\"> |-Score: 0.8634666601816813</span>"
            ],
            "text/plain": [
              "<IPython.core.display.HTML object>"
            ]
          },
          "metadata": {
            "tags": []
          }
        },
        {
          "output_type": "display_data",
          "data": {
            "text/html": [
              "<span style=\"color:cyan\"> |-Best step: 0</span>"
            ],
            "text/plain": [
              "<IPython.core.display.HTML object>"
            ]
          },
          "metadata": {
            "tags": []
          }
        },
        {
          "output_type": "display_data",
          "data": {
            "text/html": [
              "<span style=\"color:#7E57C2\"><h2 style=\"font-size:16px\">Hyperparameters:</h2></span>"
            ],
            "text/plain": [
              "<IPython.core.display.HTML object>"
            ]
          },
          "metadata": {
            "tags": []
          }
        },
        {
          "output_type": "display_data",
          "data": {
            "text/html": [
              "<span style=\"color:cyan\"> |-learning_rate: 0.001</span>"
            ],
            "text/plain": [
              "<IPython.core.display.HTML object>"
            ]
          },
          "metadata": {
            "tags": []
          }
        },
        {
          "output_type": "display_data",
          "data": {
            "text/html": [
              "<span style=\"color:blue\"> |-units: 96</span>"
            ],
            "text/plain": [
              "<IPython.core.display.HTML object>"
            ]
          },
          "metadata": {
            "tags": []
          }
        },
        {
          "output_type": "display_data",
          "data": {
            "text/html": [
              "<span style=\"color:#4527A0\"><h1 style=\"font-size:18px\">Trial summary</h1></span>"
            ],
            "text/plain": [
              "<IPython.core.display.HTML object>"
            ]
          },
          "metadata": {
            "tags": []
          }
        },
        {
          "output_type": "display_data",
          "data": {
            "text/html": [
              "<span style=\"color:cyan\"> |-Trial ID: 4310a4162eb92553197a185298b8c9a3</span>"
            ],
            "text/plain": [
              "<IPython.core.display.HTML object>"
            ]
          },
          "metadata": {
            "tags": []
          }
        },
        {
          "output_type": "display_data",
          "data": {
            "text/html": [
              "<span style=\"color:cyan\"> |-Score: 0.8252166708310446</span>"
            ],
            "text/plain": [
              "<IPython.core.display.HTML object>"
            ]
          },
          "metadata": {
            "tags": []
          }
        },
        {
          "output_type": "display_data",
          "data": {
            "text/html": [
              "<span style=\"color:cyan\"> |-Best step: 0</span>"
            ],
            "text/plain": [
              "<IPython.core.display.HTML object>"
            ]
          },
          "metadata": {
            "tags": []
          }
        },
        {
          "output_type": "display_data",
          "data": {
            "text/html": [
              "<span style=\"color:#7E57C2\"><h2 style=\"font-size:16px\">Hyperparameters:</h2></span>"
            ],
            "text/plain": [
              "<IPython.core.display.HTML object>"
            ]
          },
          "metadata": {
            "tags": []
          }
        },
        {
          "output_type": "display_data",
          "data": {
            "text/html": [
              "<span style=\"color:cyan\"> |-learning_rate: 0.01</span>"
            ],
            "text/plain": [
              "<IPython.core.display.HTML object>"
            ]
          },
          "metadata": {
            "tags": []
          }
        },
        {
          "output_type": "display_data",
          "data": {
            "text/html": [
              "<span style=\"color:blue\"> |-units: 288</span>"
            ],
            "text/plain": [
              "<IPython.core.display.HTML object>"
            ]
          },
          "metadata": {
            "tags": []
          }
        },
        {
          "output_type": "display_data",
          "data": {
            "text/html": [
              "<span style=\"color:#4527A0\"><h1 style=\"font-size:18px\">Trial summary</h1></span>"
            ],
            "text/plain": [
              "<IPython.core.display.HTML object>"
            ]
          },
          "metadata": {
            "tags": []
          }
        },
        {
          "output_type": "display_data",
          "data": {
            "text/html": [
              "<span style=\"color:cyan\"> |-Trial ID: 772a6cb1d0ec59f09adf494b937c8387</span>"
            ],
            "text/plain": [
              "<IPython.core.display.HTML object>"
            ]
          },
          "metadata": {
            "tags": []
          }
        },
        {
          "output_type": "display_data",
          "data": {
            "text/html": [
              "<span style=\"color:cyan\"> |-Score: 0.8249499996503195</span>"
            ],
            "text/plain": [
              "<IPython.core.display.HTML object>"
            ]
          },
          "metadata": {
            "tags": []
          }
        },
        {
          "output_type": "display_data",
          "data": {
            "text/html": [
              "<span style=\"color:cyan\"> |-Best step: 0</span>"
            ],
            "text/plain": [
              "<IPython.core.display.HTML object>"
            ]
          },
          "metadata": {
            "tags": []
          }
        },
        {
          "output_type": "display_data",
          "data": {
            "text/html": [
              "<span style=\"color:#7E57C2\"><h2 style=\"font-size:16px\">Hyperparameters:</h2></span>"
            ],
            "text/plain": [
              "<IPython.core.display.HTML object>"
            ]
          },
          "metadata": {
            "tags": []
          }
        },
        {
          "output_type": "display_data",
          "data": {
            "text/html": [
              "<span style=\"color:cyan\"> |-learning_rate: 0.01</span>"
            ],
            "text/plain": [
              "<IPython.core.display.HTML object>"
            ]
          },
          "metadata": {
            "tags": []
          }
        },
        {
          "output_type": "display_data",
          "data": {
            "text/html": [
              "<span style=\"color:blue\"> |-units: 352</span>"
            ],
            "text/plain": [
              "<IPython.core.display.HTML object>"
            ]
          },
          "metadata": {
            "tags": []
          }
        }
      ]
    },
    {
      "cell_type": "markdown",
      "metadata": {
        "id": "LKbr1gRg9BXs"
      },
      "source": [
        "### Stretch Goals\n",
        "- Implement Bayesian Hyper-parameter Optimization\n",
        "- Select a new dataset and apply a neural network to it.\n",
        "- Use a cloud base experiment tracking framework such as weights and biases\n",
        "- Research potential architecture ideas for this problem. Try Lenet-10 for example. "
      ]
    }
  ]
}