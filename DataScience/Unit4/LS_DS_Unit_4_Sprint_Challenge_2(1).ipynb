{
  "nbformat": 4,
  "nbformat_minor": 0,
  "metadata": {
    "kernelspec": {
      "display_name": "U4-S2-NNF-DS10",
      "language": "python",
      "name": "u4-s2-nnf-ds10"
    },
    "language_info": {
      "codemirror_mode": {
        "name": "ipython",
        "version": 3
      },
      "file_extension": ".py",
      "mimetype": "text/x-python",
      "name": "python",
      "nbconvert_exporter": "python",
      "pygments_lexer": "ipython3",
      "version": "3.7.6"
    },
    "nteract": {
      "version": "0.23.3"
    },
    "colab": {
      "name": "LS_DS_Unit_4_Sprint_Challenge_2.ipynb",
      "provenance": [],
      "collapsed_sections": []
    }
  },
  "cells": [
    {
      "cell_type": "markdown",
      "metadata": {
        "id": "m2vRhgueyCo1"
      },
      "source": [
        "<img align=\"left\" src=\"https://lever-client-logos.s3.amazonaws.com/864372b1-534c-480e-acd5-9711f850815c-1524247202159.png\" width=200>\n",
        "<br></br>\n",
        "<br></br>\n",
        "\n",
        "## *Data Science Unit 4 Sprint 2*\n",
        "\n",
        "# Sprint Challenge - Neural Network Foundations\n",
        "\n",
        "Table of Problems\n",
        "\n",
        "1. [Defining Neural Networks](#Q1)\n",
        "2. [Simple Perceptron](#Q2)\n",
        "    - Perceptron\n",
        "    - Multilayer Perceptron\n",
        "    - Analyze and Compare\n",
        "4. [Keras MMP](#Q3)"
      ]
    },
    {
      "cell_type": "markdown",
      "metadata": {
        "id": "dLQAqQQHyCo2"
      },
      "source": [
        "<a id=\"Q1\"></a>\n",
        "## 1. Defining Neural Networks \n",
        "\n",
        "Write *your own* definitions for the following terms:\n",
        "\n",
        "- **Neuron:** A node that computes and transmitts information.\n",
        "- **Input Layer:** Randomized bits of known knowledge to teach a machine patterns to recognize.\n",
        "- **Hidden Layer:** Hidden layers are the workers of the network, performing computations to tell the model what is right and what is wrong.\n",
        "- **Output Layer:** The layer containing the learned patterns from the network.\n",
        "- **Activation Function:** Tells a neuron when to fire."
      ]
    },
    {
      "cell_type": "markdown",
      "metadata": {
        "id": "0Df8CpgvyCo2"
      },
      "source": [
        "Explain how back propagation works as if you were explaining it to a five year-old. Use your own words, but feel free to reference external materials for this question. "
      ]
    },
    {
      "cell_type": "markdown",
      "metadata": {
        "id": "RzSHqzmoyCo4"
      },
      "source": [
        "- **Answer:** My way of explaining back propagation is, Imagine you have a ball and you want to through is at a mrked spot on the ground, so that it hits the mark, hits the wall then lands in a bucket. After your first throw you know that the ball landed short of the bucket, so you move the marker forward a bit, then try again, moveing the marker forward until you find the spot that lands the ball in the bucket."
      ]
    },
    {
      "cell_type": "markdown",
      "metadata": {
        "id": "07Yk_X9JyCo5"
      },
      "source": [
        "Remember our Simple Perceptron Class from Monday. In a simple prediction describe the process of making a prediction. How do you go from inputs to predicted output."
      ]
    },
    {
      "cell_type": "markdown",
      "metadata": {
        "id": "9qVmwfFZyCo6"
      },
      "source": [
        "First, you need some inputs of data. Second, those inputs need to be passed through some neurons with an activation function, which is called forward propagation. Third and final the neurons output learned data ready to be applied."
      ]
    },
    {
      "cell_type": "markdown",
      "metadata": {
        "id": "HNEDMuBDyCo6"
      },
      "source": [
        "<a id=\"Q2\"></a>\n",
        "## 2. Simple Perceptron\n",
        "\n",
        "In this question, you will build two neural networks using Tensorflow Keras. After you build these two models, compare the results of the model."
      ]
    },
    {
      "cell_type": "code",
      "metadata": {
        "id": "k1ymeH48yCo7"
      },
      "source": [
        "\"\"\"\n",
        "Our Dataset\n",
        "\"\"\"\n",
        "import numpy as np\n",
        "\n",
        "xx, yy = np.meshgrid(np.linspace(-3, 3, 50),\n",
        "                     np.linspace(-3, 3, 50))\n",
        "rng = np.random.RandomState(0)\n",
        "\n",
        "\"Use this X & y in the following 2 models\"\n",
        "X = rng.randn(300, 2)\n",
        "y = np.array(np.logical_xor(X[:, 0] > 0, X[:, 1] > 0), \n",
        "             dtype=int)"
      ],
      "execution_count": 1,
      "outputs": []
    },
    {
      "cell_type": "code",
      "metadata": {
        "colab": {
          "base_uri": "https://localhost:8080/"
        },
        "id": "wTKXzRLq4JID",
        "outputId": "32642262-1109-41fa-faf1-00e2f65663d3"
      },
      "source": [
        "y.shape"
      ],
      "execution_count": 2,
      "outputs": [
        {
          "output_type": "execute_result",
          "data": {
            "text/plain": [
              "(300,)"
            ]
          },
          "metadata": {
            "tags": []
          },
          "execution_count": 2
        }
      ]
    },
    {
      "cell_type": "markdown",
      "metadata": {
        "id": "cBUNExXtyCo7"
      },
      "source": [
        "### Simple Perceptron\n",
        "Construct a simple perceptron using Keras. You model should have 1 dense layer with a single neuron and a sigmoid activation function. Your model should be called `model1` and make sure to save the results of your fit statement to a variable called `h1`. "
      ]
    },
    {
      "cell_type": "code",
      "metadata": {
        "colab": {
          "base_uri": "https://localhost:8080/"
        },
        "id": "V5Y0ow3wyCo8",
        "outputId": "bf43bc69-96c0-43f6-8a4e-b6a814474fd0"
      },
      "source": [
        "import tensorflow as tf\n",
        "\n",
        "model1 = tf.keras.models.Sequential([\n",
        "    tf.keras.layers.Dense(2, activation='sigmoid', input_dim=2)])\n",
        "\n",
        "model1.compile(optimizer='Adam', loss='sparse_categorical_crossentropy', metrics=['accuracy'])\n",
        "\n",
        "h1 = model1.fit(X, y, epochs=10,\n",
        "          validation_split=0.2)"
      ],
      "execution_count": 3,
      "outputs": [
        {
          "output_type": "stream",
          "text": [
            "Epoch 1/10\n",
            "8/8 [==============================] - 0s 19ms/step - loss: 0.7497 - accuracy: 0.4333 - val_loss: 0.7046 - val_accuracy: 0.6000\n",
            "Epoch 2/10\n",
            "8/8 [==============================] - 0s 3ms/step - loss: 0.7478 - accuracy: 0.4333 - val_loss: 0.7035 - val_accuracy: 0.6000\n",
            "Epoch 3/10\n",
            "8/8 [==============================] - 0s 3ms/step - loss: 0.7461 - accuracy: 0.4333 - val_loss: 0.7024 - val_accuracy: 0.6000\n",
            "Epoch 4/10\n",
            "8/8 [==============================] - 0s 3ms/step - loss: 0.7444 - accuracy: 0.4333 - val_loss: 0.7014 - val_accuracy: 0.6000\n",
            "Epoch 5/10\n",
            "8/8 [==============================] - 0s 3ms/step - loss: 0.7429 - accuracy: 0.4333 - val_loss: 0.7003 - val_accuracy: 0.6000\n",
            "Epoch 6/10\n",
            "8/8 [==============================] - 0s 4ms/step - loss: 0.7412 - accuracy: 0.4333 - val_loss: 0.6994 - val_accuracy: 0.6000\n",
            "Epoch 7/10\n",
            "8/8 [==============================] - 0s 3ms/step - loss: 0.7397 - accuracy: 0.4333 - val_loss: 0.6985 - val_accuracy: 0.6000\n",
            "Epoch 8/10\n",
            "8/8 [==============================] - 0s 3ms/step - loss: 0.7381 - accuracy: 0.4333 - val_loss: 0.6976 - val_accuracy: 0.6000\n",
            "Epoch 9/10\n",
            "8/8 [==============================] - 0s 3ms/step - loss: 0.7367 - accuracy: 0.4333 - val_loss: 0.6967 - val_accuracy: 0.6167\n",
            "Epoch 10/10\n",
            "8/8 [==============================] - 0s 3ms/step - loss: 0.7351 - accuracy: 0.4333 - val_loss: 0.6960 - val_accuracy: 0.6167\n"
          ],
          "name": "stdout"
        }
      ]
    },
    {
      "cell_type": "markdown",
      "metadata": {
        "id": "IPsF9xiCyCo8"
      },
      "source": [
        "### Multi-Layer Perceptron\n",
        "Now construct a multi-layer perceptron using. Here are some architecture suggestions: \n",
        "- 2 Hidden Layers\n",
        "- 5-32 Neurons in the Hidden Layers\n",
        "- Your pick of activation function and optimizer\n",
        "- Incorporate the Callback function below into your model\n",
        "\n",
        "Your model should be called `model2` and make sure to save the results of your fit statement to a variable called `h2`. "
      ]
    },
    {
      "cell_type": "code",
      "metadata": {
        "id": "kINBj7PgyCo8"
      },
      "source": [
        "import tensorflow as tf\n",
        "\n",
        "class myCallback(tf.keras.callbacks.Callback): \n",
        "    def on_epoch_end(self, epoch, logs={}): \n",
        "        if(logs.get('accuracy') > .99999):   \n",
        "            self.model.stop_training = True"
      ],
      "execution_count": 4,
      "outputs": []
    },
    {
      "cell_type": "code",
      "metadata": {
        "colab": {
          "base_uri": "https://localhost:8080/"
        },
        "id": "bFMfQo8dyCo8",
        "outputId": "48fead53-784d-4fc0-9e76-2b9add0a8c16"
      },
      "source": [
        "model2 = tf.keras.models.Sequential([\n",
        "    tf.keras.layers.Dense(2, activation='relu', input_dim=2),\n",
        "    tf.keras.layers.Dense(16, activation='relu'),\n",
        "    tf.keras.layers.Dense(16, activation='relu'),\n",
        "    tf.keras.layers.Dense(2, activation='softmax')\n",
        "    ])\n",
        "\n",
        "model2.compile(optimizer='Adam', loss='sparse_categorical_crossentropy', metrics=['accuracy'], )\n",
        "\n",
        "h2 = model2.fit(X, y, epochs=10,\n",
        "          validation_split=0.2,\n",
        "          callbacks=[myCallback()])"
      ],
      "execution_count": 5,
      "outputs": [
        {
          "output_type": "stream",
          "text": [
            "Epoch 1/10\n",
            "8/8 [==============================] - 0s 16ms/step - loss: 0.6874 - accuracy: 0.5125 - val_loss: 0.6807 - val_accuracy: 0.5833\n",
            "Epoch 2/10\n",
            "8/8 [==============================] - 0s 3ms/step - loss: 0.6835 - accuracy: 0.5333 - val_loss: 0.6779 - val_accuracy: 0.6333\n",
            "Epoch 3/10\n",
            "8/8 [==============================] - 0s 3ms/step - loss: 0.6797 - accuracy: 0.5625 - val_loss: 0.6755 - val_accuracy: 0.6333\n",
            "Epoch 4/10\n",
            "8/8 [==============================] - 0s 3ms/step - loss: 0.6763 - accuracy: 0.5958 - val_loss: 0.6732 - val_accuracy: 0.6500\n",
            "Epoch 5/10\n",
            "8/8 [==============================] - 0s 3ms/step - loss: 0.6729 - accuracy: 0.6292 - val_loss: 0.6713 - val_accuracy: 0.6500\n",
            "Epoch 6/10\n",
            "8/8 [==============================] - 0s 3ms/step - loss: 0.6688 - accuracy: 0.6583 - val_loss: 0.6701 - val_accuracy: 0.6000\n",
            "Epoch 7/10\n",
            "8/8 [==============================] - 0s 3ms/step - loss: 0.6646 - accuracy: 0.6792 - val_loss: 0.6683 - val_accuracy: 0.6333\n",
            "Epoch 8/10\n",
            "8/8 [==============================] - 0s 3ms/step - loss: 0.6596 - accuracy: 0.6917 - val_loss: 0.6654 - val_accuracy: 0.6500\n",
            "Epoch 9/10\n",
            "8/8 [==============================] - 0s 3ms/step - loss: 0.6549 - accuracy: 0.6917 - val_loss: 0.6639 - val_accuracy: 0.7000\n",
            "Epoch 10/10\n",
            "8/8 [==============================] - 0s 3ms/step - loss: 0.6490 - accuracy: 0.7125 - val_loss: 0.6619 - val_accuracy: 0.6833\n"
          ],
          "name": "stdout"
        }
      ]
    },
    {
      "cell_type": "markdown",
      "metadata": {
        "id": "YNju_ctuyCo9"
      },
      "source": [
        "### Analyze and Compare\n",
        "\n",
        "**Before you Start**: You will need to install an additional library for this next segment. Install the package `mlxtend` into the environment you are using for the sprint challenge.\n",
        "\n",
        "\n",
        "The cells below generate decision boundary plots of your models (`model1` & `model2`). Review the plots."
      ]
    },
    {
      "cell_type": "code",
      "metadata": {
        "colab": {
          "base_uri": "https://localhost:8080/"
        },
        "id": "cSZiIrKv9BEI",
        "outputId": "0caa1705-3ac8-4995-a944-e1bbfae368d9"
      },
      "source": [
        "!pip install mlxtend"
      ],
      "execution_count": 6,
      "outputs": [
        {
          "output_type": "stream",
          "text": [
            "Requirement already satisfied: mlxtend in /usr/local/lib/python3.6/dist-packages (0.14.0)\n",
            "Requirement already satisfied: pandas>=0.17.1 in /usr/local/lib/python3.6/dist-packages (from mlxtend) (1.1.4)\n",
            "Requirement already satisfied: numpy>=1.10.4 in /usr/local/lib/python3.6/dist-packages (from mlxtend) (1.18.5)\n",
            "Requirement already satisfied: scipy>=0.17 in /usr/local/lib/python3.6/dist-packages (from mlxtend) (1.4.1)\n",
            "Requirement already satisfied: setuptools in /usr/local/lib/python3.6/dist-packages (from mlxtend) (50.3.2)\n",
            "Requirement already satisfied: matplotlib>=1.5.1 in /usr/local/lib/python3.6/dist-packages (from mlxtend) (3.2.2)\n",
            "Requirement already satisfied: scikit-learn>=0.18 in /usr/local/lib/python3.6/dist-packages (from mlxtend) (0.22.2.post1)\n",
            "Requirement already satisfied: python-dateutil>=2.7.3 in /usr/local/lib/python3.6/dist-packages (from pandas>=0.17.1->mlxtend) (2.8.1)\n",
            "Requirement already satisfied: pytz>=2017.2 in /usr/local/lib/python3.6/dist-packages (from pandas>=0.17.1->mlxtend) (2018.9)\n",
            "Requirement already satisfied: kiwisolver>=1.0.1 in /usr/local/lib/python3.6/dist-packages (from matplotlib>=1.5.1->mlxtend) (1.3.1)\n",
            "Requirement already satisfied: cycler>=0.10 in /usr/local/lib/python3.6/dist-packages (from matplotlib>=1.5.1->mlxtend) (0.10.0)\n",
            "Requirement already satisfied: pyparsing!=2.0.4,!=2.1.2,!=2.1.6,>=2.0.1 in /usr/local/lib/python3.6/dist-packages (from matplotlib>=1.5.1->mlxtend) (2.4.7)\n",
            "Requirement already satisfied: joblib>=0.11 in /usr/local/lib/python3.6/dist-packages (from scikit-learn>=0.18->mlxtend) (0.17.0)\n",
            "Requirement already satisfied: six>=1.5 in /usr/local/lib/python3.6/dist-packages (from python-dateutil>=2.7.3->pandas>=0.17.1->mlxtend) (1.15.0)\n"
          ],
          "name": "stdout"
        }
      ]
    },
    {
      "cell_type": "code",
      "metadata": {
        "colab": {
          "base_uri": "https://localhost:8080/",
          "height": 390
        },
        "id": "ahNaHWNPyCo9",
        "outputId": "06b1910b-ca5e-46eb-84e3-d723f3be94d0"
      },
      "source": [
        "# Do Not change anything in this cell\n",
        "\n",
        "import matplotlib.pyplot as plt\n",
        "from mlxtend.plotting import plot_decision_regions\n",
        "\n",
        "h = .02  # step size in the mesh\n",
        "\n",
        "# create a mesh to plot in\n",
        "x_min, x_max = X[:, 0].min() - .2, X[:, 0].max() + .2\n",
        "y_min, y_max = X[:, 1].min() - .2, X[:, 1].max() + .2\n",
        "xx, yy = np.meshgrid(np.arange(x_min, x_max, h),\n",
        "                     np.arange(y_min, y_max, h))\n",
        "\n",
        "fig = plt.figure(figsize=(12,6))\n",
        "\n",
        "\n",
        "for clf, hist, name, grd in zip([model1,model2], [h1, h2],['Perceptron', 'Multi-Layer Perceptron'],[1,2]):\n",
        "\n",
        "    ax = plt.subplot(1,2, grd)\n",
        "    fig = plot_decision_regions(X=X, y=y, clf=clf, legend=2)\n",
        "    title = f\"{name} with {hist.history['accuracy'][-1]:,.2f} Accuracy\"\n",
        "    plt.title(title)\n",
        "\n",
        "plt.show()"
      ],
      "execution_count": 29,
      "outputs": [
        {
          "output_type": "display_data",
          "data": {
            "image/png": "[encoded data removed]",
            "text/plain": [
              "<Figure size 864x432 with 2 Axes>"
            ]
          },
          "metadata": {
            "tags": [],
            "needs_background": "light"
          }
        }
      ]
    },
    {
      "cell_type": "markdown",
      "metadata": {
        "id": "httZxRv6yCo9"
      },
      "source": [
        "Why does the Perceptron (`model1`) only achieve ~70% accuracy? What is the architectural property of the Multi-Layer Perceptron that allows it more accurately learn the relationship between X and y? \n",
        "\n",
        "Why might this property be useful in more complex data such as images?"
      ]
    },
    {
      "cell_type": "code",
      "metadata": {
        "id": "1xm9Kv81yCo9"
      },
      "source": [
        "# Your Answer Here - Change the Cell to Markdown"
      ],
      "execution_count": null,
      "outputs": []
    },
    {
      "cell_type": "markdown",
      "metadata": {
        "id": "8LDOPCmFyCo9"
      },
      "source": [
        "## 3. Keras MMP <a id=\"Q3\"></a>\n",
        "\n",
        "Implement a Multilayer Perceptron architecture of your choosing using the Keras library. Train your model and report its baseline accuracy. Then hyperparameter tune at least two parameters and report your model's accuracy.\n",
        "Use the Heart Disease Dataset (binary classification)\n",
        "Use an appropriate loss function for a binary classification task\n",
        "Use an appropriate activation function on the final layer of your network.\n",
        "Train your model using verbose output for ease of grading.\n",
        "Use GridSearchCV or RandomSearchCV to hyperparameter tune your model. (for at least two hyperparameters)\n",
        "When hyperparameter tuning, show you work by adding code cells for each new experiment.\n",
        "Report the accuracy for each combination of hyperparameters as you test them so that we can easily see which resulted in the highest accuracy.\n",
        "You must hyperparameter tune at least 3 parameters in order to get a 3 on this section."
      ]
    },
    {
      "cell_type": "code",
      "metadata": {
        "inputHidden": false,
        "jupyter": {
          "outputs_hidden": false
        },
        "outputHidden": false,
        "colab": {
          "base_uri": "https://localhost:8080/",
          "height": 223
        },
        "id": "ryYW261zyCo9",
        "outputId": "3654b548-771a-489d-b7e1-05752a68303c"
      },
      "source": [
        "import pandas as pd\n",
        "from sklearn.preprocessing import StandardScaler\n",
        "\n",
        "df = pd.read_csv('https://raw.githubusercontent.com/ryanleeallred/datasets/master/heart.csv')\n",
        "df = df.sample(frac=1)\n",
        "print(df.shape)\n",
        "df.head()"
      ],
      "execution_count": 25,
      "outputs": [
        {
          "output_type": "stream",
          "text": [
            "(303, 14)\n"
          ],
          "name": "stdout"
        },
        {
          "output_type": "execute_result",
          "data": {
            "text/html": [
              "<div>\n",
              "<style scoped>\n",
              "    .dataframe tbody tr th:only-of-type {\n",
              "        vertical-align: middle;\n",
              "    }\n",
              "\n",
              "    .dataframe tbody tr th {\n",
              "        vertical-align: top;\n",
              "    }\n",
              "\n",
              "    .dataframe thead th {\n",
              "        text-align: right;\n",
              "    }\n",
              "</style>\n",
              "<table border=\"1\" class=\"dataframe\">\n",
              "  <thead>\n",
              "    <tr style=\"text-align: right;\">\n",
              "      <th></th>\n",
              "      <th>age</th>\n",
              "      <th>sex</th>\n",
              "      <th>cp</th>\n",
              "      <th>trestbps</th>\n",
              "      <th>chol</th>\n",
              "      <th>fbs</th>\n",
              "      <th>restecg</th>\n",
              "      <th>thalach</th>\n",
              "      <th>exang</th>\n",
              "      <th>oldpeak</th>\n",
              "      <th>slope</th>\n",
              "      <th>ca</th>\n",
              "      <th>thal</th>\n",
              "      <th>target</th>\n",
              "    </tr>\n",
              "  </thead>\n",
              "  <tbody>\n",
              "    <tr>\n",
              "      <th>123</th>\n",
              "      <td>54</td>\n",
              "      <td>0</td>\n",
              "      <td>2</td>\n",
              "      <td>108</td>\n",
              "      <td>267</td>\n",
              "      <td>0</td>\n",
              "      <td>0</td>\n",
              "      <td>167</td>\n",
              "      <td>0</td>\n",
              "      <td>0.0</td>\n",
              "      <td>2</td>\n",
              "      <td>0</td>\n",
              "      <td>2</td>\n",
              "      <td>1</td>\n",
              "    </tr>\n",
              "    <tr>\n",
              "      <th>258</th>\n",
              "      <td>62</td>\n",
              "      <td>0</td>\n",
              "      <td>0</td>\n",
              "      <td>150</td>\n",
              "      <td>244</td>\n",
              "      <td>0</td>\n",
              "      <td>1</td>\n",
              "      <td>154</td>\n",
              "      <td>1</td>\n",
              "      <td>1.4</td>\n",
              "      <td>1</td>\n",
              "      <td>0</td>\n",
              "      <td>2</td>\n",
              "      <td>0</td>\n",
              "    </tr>\n",
              "    <tr>\n",
              "      <th>70</th>\n",
              "      <td>54</td>\n",
              "      <td>1</td>\n",
              "      <td>2</td>\n",
              "      <td>120</td>\n",
              "      <td>258</td>\n",
              "      <td>0</td>\n",
              "      <td>0</td>\n",
              "      <td>147</td>\n",
              "      <td>0</td>\n",
              "      <td>0.4</td>\n",
              "      <td>1</td>\n",
              "      <td>0</td>\n",
              "      <td>3</td>\n",
              "      <td>1</td>\n",
              "    </tr>\n",
              "    <tr>\n",
              "      <th>183</th>\n",
              "      <td>58</td>\n",
              "      <td>1</td>\n",
              "      <td>2</td>\n",
              "      <td>112</td>\n",
              "      <td>230</td>\n",
              "      <td>0</td>\n",
              "      <td>0</td>\n",
              "      <td>165</td>\n",
              "      <td>0</td>\n",
              "      <td>2.5</td>\n",
              "      <td>1</td>\n",
              "      <td>1</td>\n",
              "      <td>3</td>\n",
              "      <td>0</td>\n",
              "    </tr>\n",
              "    <tr>\n",
              "      <th>151</th>\n",
              "      <td>71</td>\n",
              "      <td>0</td>\n",
              "      <td>0</td>\n",
              "      <td>112</td>\n",
              "      <td>149</td>\n",
              "      <td>0</td>\n",
              "      <td>1</td>\n",
              "      <td>125</td>\n",
              "      <td>0</td>\n",
              "      <td>1.6</td>\n",
              "      <td>1</td>\n",
              "      <td>0</td>\n",
              "      <td>2</td>\n",
              "      <td>1</td>\n",
              "    </tr>\n",
              "  </tbody>\n",
              "</table>\n",
              "</div>"
            ],
            "text/plain": [
              "     age  sex  cp  trestbps  chol  fbs  ...  exang  oldpeak  slope  ca  thal  target\n",
              "123   54    0   2       108   267    0  ...      0      0.0      2   0     2       1\n",
              "258   62    0   0       150   244    0  ...      1      1.4      1   0     2       0\n",
              "70    54    1   2       120   258    0  ...      0      0.4      1   0     3       1\n",
              "183   58    1   2       112   230    0  ...      0      2.5      1   1     3       0\n",
              "151   71    0   0       112   149    0  ...      0      1.6      1   0     2       1\n",
              "\n",
              "[5 rows x 14 columns]"
            ]
          },
          "metadata": {
            "tags": []
          },
          "execution_count": 25
        }
      ]
    },
    {
      "cell_type": "code",
      "metadata": {
        "id": "wWjjD474yCpC"
      },
      "source": [
        "from tensorflow.keras.layers import Dense\n",
        "from tensorflow.keras.optimizers import Adam\n",
        "from tensorflow.keras.models import Sequential\n",
        "\n",
        "def create_model(\n",
        "    lr=0.01,\n",
        "    opt=Adam,\n",
        "    act_func='relu',\n",
        "    output_act_func='softmax',\n",
        "    input_dim=784,\n",
        "    neurons_per_layer=(32, 32, 10)):\n",
        "\n",
        "    model = Sequential([\n",
        "        Dense(neurons_per_layer[0], activation=act_func, input_dim=input_dim),\n",
        "        Dense(neurons_per_layer[1], activation=act_func),\n",
        "        Dense(neurons_per_layer[2], activation=output_act_func)\n",
        "    ])\n",
        "\n",
        "    model.compile(\n",
        "        optimizer=opt(learning_rate=lr),\n",
        "        loss='sparse_categorical_crossentropy',\n",
        "        metrics=['accuracy']\n",
        "    )\n",
        "\n",
        "    return model"
      ],
      "execution_count": 26,
      "outputs": []
    },
    {
      "cell_type": "code",
      "metadata": {
        "colab": {
          "base_uri": "https://localhost:8080/"
        },
        "id": "wN6qcLhc93Gu",
        "outputId": "3ebdfc76-abd5-4279-8035-cc665185c30e"
      },
      "source": [
        "X_train = df.iloc[:,0:13]\n",
        "y_train = df.iloc[:,13:14]\n",
        "\n",
        "scaled_X = StandardScaler().fit_transform(X_train, y_train)\n",
        "\n",
        "model3 = create_model(input_dim=13)\n",
        "\n",
        "model3.fit(scaled_X, y_train,\n",
        "          epochs=10,\n",
        "          validation_split=0.2,\n",
        "          callbacks=[myCallback()])\n"
      ],
      "execution_count": 28,
      "outputs": [
        {
          "output_type": "stream",
          "text": [
            "Epoch 1/10\n",
            "8/8 [==============================] - 0s 32ms/step - loss: 1.0750 - accuracy: 0.6942 - val_loss: 0.3952 - val_accuracy: 0.8525\n",
            "Epoch 2/10\n",
            "8/8 [==============================] - 0s 4ms/step - loss: 0.4226 - accuracy: 0.8140 - val_loss: 0.3486 - val_accuracy: 0.8525\n",
            "Epoch 3/10\n",
            "8/8 [==============================] - 0s 3ms/step - loss: 0.3646 - accuracy: 0.8430 - val_loss: 0.3904 - val_accuracy: 0.7705\n",
            "Epoch 4/10\n",
            "8/8 [==============================] - 0s 3ms/step - loss: 0.3387 - accuracy: 0.8554 - val_loss: 0.3740 - val_accuracy: 0.8525\n",
            "Epoch 5/10\n",
            "8/8 [==============================] - 0s 3ms/step - loss: 0.3223 - accuracy: 0.8430 - val_loss: 0.3358 - val_accuracy: 0.8525\n",
            "Epoch 6/10\n",
            "8/8 [==============================] - 0s 3ms/step - loss: 0.2985 - accuracy: 0.8636 - val_loss: 0.3522 - val_accuracy: 0.8361\n",
            "Epoch 7/10\n",
            "8/8 [==============================] - 0s 3ms/step - loss: 0.2688 - accuracy: 0.8843 - val_loss: 0.3438 - val_accuracy: 0.8361\n",
            "Epoch 8/10\n",
            "8/8 [==============================] - 0s 3ms/step - loss: 0.2622 - accuracy: 0.8678 - val_loss: 0.3768 - val_accuracy: 0.8361\n",
            "Epoch 9/10\n",
            "8/8 [==============================] - 0s 3ms/step - loss: 0.2290 - accuracy: 0.8926 - val_loss: 0.3498 - val_accuracy: 0.8197\n",
            "Epoch 10/10\n",
            "8/8 [==============================] - 0s 3ms/step - loss: 0.2273 - accuracy: 0.8884 - val_loss: 0.3735 - val_accuracy: 0.8197\n"
          ],
          "name": "stdout"
        },
        {
          "output_type": "execute_result",
          "data": {
            "text/plain": [
              "<tensorflow.python.keras.callbacks.History at 0x7f752fa2edd8>"
            ]
          },
          "metadata": {
            "tags": []
          },
          "execution_count": 28
        }
      ]
    },
    {
      "cell_type": "code",
      "metadata": {
        "id": "Ji1jlIyPBs9m"
      },
      "source": [
        ""
      ],
      "execution_count": null,
      "outputs": []
    }
  ]
}