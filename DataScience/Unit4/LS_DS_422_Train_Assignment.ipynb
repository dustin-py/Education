{
  "nbformat": 4,
  "nbformat_minor": 0,
  "metadata": {
    "colab": {
      "name": "LS_DS_422_Train_Assignment.ipynb",
      "provenance": [],
      "collapsed_sections": []
    },
    "kernelspec": {
      "display_name": "Python 3",
      "language": "python",
      "name": "python3"
    },
    "language_info": {
      "codemirror_mode": {
        "name": "ipython",
        "version": 3
      },
      "file_extension": ".py",
      "mimetype": "text/x-python",
      "name": "python",
      "nbconvert_exporter": "python",
      "pygments_lexer": "ipython3",
      "version": "3.7.3"
    },
    "nteract": {
      "version": "0.22.4"
    },
    "accelerator": "GPU"
  },
  "cells": [
    {
      "cell_type": "markdown",
      "metadata": {
        "id": "NGGrt9EYlCqY"
      },
      "source": [
        "<img align=\"left\" src=\"https://lever-client-logos.s3.amazonaws.com/864372b1-534c-480e-acd5-9711f850815c-1524247202159.png\" width=200>\n",
        "<br></br>\n",
        "<br></br>\n",
        "\n",
        "# Train Practice\n",
        "\n",
        "## *Data Science Unit 4 Sprint 2 Assignment 2*\n",
        "\n",
        "Continue to use TensorFlow Keras & a sample of the [Quickdraw dataset](https://github.com/googlecreativelab/quickdraw-dataset) to build a sketch classification model. The dataset has been sampled to only 10 classes and 10000 observations per class. Please build a baseline classification model then run a few experiments with different optimizers and learning rates. \n",
        "\n",
        "*Don't forgot to switch to GPU on Colab!*"
      ]
    },
    {
      "cell_type": "markdown",
      "metadata": {
        "id": "ptJ2b3wk62Ud"
      },
      "source": [
        "### Write a function to load your data\n",
        "\n",
        "Wrap yesterday's preprocessing steps into a function that returns four items:\n",
        "* X_train\n",
        "* y_train\n",
        "* X_test\n",
        "* y_test\n",
        "\n",
        "Your function should accept a `path` to the data as a argument."
      ]
    },
    {
      "cell_type": "code",
      "metadata": {
        "id": "O4MkpnJfYLs5"
      },
      "source": [
        "import numpy as np\n",
        "import seaborn as sns\n",
        "import pandas as pd\n",
        "\n",
        "from sklearn.model_selection import train_test_split\n",
        "\n",
        "from tensorflow.keras.models import Sequential\n",
        "from tensorflow.keras.layers import Dense, Flatten, Input\n",
        "from tensorflow.keras import Sequential\n",
        "from tensorflow.keras.layers import Dense\n",
        "from tensorflow.keras import optimizers"
      ],
      "execution_count": 10,
      "outputs": []
    },
    {
      "cell_type": "code",
      "metadata": {
        "id": "6wfZ6cThV0bb"
      },
      "source": [
        "data_path = r'./quickdraw10.npz'"
      ],
      "execution_count": 11,
      "outputs": []
    },
    {
      "cell_type": "code",
      "metadata": {
        "id": "nJsIsrvp7O3e"
      },
      "source": [
        "def load_quickdraw10(path):\n",
        "    data = np.load(path)\n",
        "    X = data['arr_0']\n",
        "    y = data['arr_1']\n",
        "    X_norm = X.astype('float32')/255\n",
        "    y_norm = y.astype('float32')/255\n",
        "    X_train, X_test, y_train, y_test = train_test_split(\n",
        "        X_norm,\n",
        "        y,\n",
        "        test_size=0.20,\n",
        "        shuffle=True,\n",
        "        random_state=42)\n",
        "    \n",
        "    return X_train, y_train, X_test, y_test"
      ],
      "execution_count": 12,
      "outputs": []
    },
    {
      "cell_type": "code",
      "metadata": {
        "id": "t5RQJTS5YEzg"
      },
      "source": [
        "X_train, y_train, X_test, y_test = load_quickdraw10(data_path)"
      ],
      "execution_count": 15,
      "outputs": []
    },
    {
      "cell_type": "markdown",
      "metadata": {
        "id": "l-6PxI6H5__2"
      },
      "source": [
        "### Write a Model Function\n",
        "Using your model from yesterday, write a function called `create_model` which returns a compiled TensorFlow Keras Sequential Model suitable for classifying the QuickDraw-10 dataset. Include parameters for the following: \n",
        "* Learning Rate\n",
        "* Optimizer"
      ]
    },
    {
      "cell_type": "code",
      "metadata": {
        "id": "nEREYT-3wI1f"
      },
      "source": [
        "def create_model(\n",
        "    lr=0.01,\n",
        "    opt=optimizers.SGD,\n",
        "    act_func='relu',\n",
        "    output_act_func='softmax',\n",
        "    input_dim=784,\n",
        "    neurons_per_layer=(32, 32, 10)):\n",
        "\n",
        "    model = Sequential([\n",
        "        Dense(neurons_per_layer[0], activation=act_func, input_dim=input_dim),\n",
        "        Dense(neurons_per_layer[1], activation=act_func),\n",
        "        Dense(neurons_per_layer[2], activation=output_act_func)\n",
        "    ])\n",
        "\n",
        "    model.compile(\n",
        "        optimizer=opt(learning_rate=lr),\n",
        "        loss='sparse_categorical_crossentropy',\n",
        "        metrics=['accuracy']\n",
        "    )\n",
        "\n",
        "    return model"
      ],
      "execution_count": 16,
      "outputs": []
    },
    {
      "cell_type": "markdown",
      "metadata": {
        "id": "f0pCkh8C7eGL"
      },
      "source": [
        "### Experiment with Batch Size\n",
        "* Run 5 experiments with various batch sizes of your choice. \n",
        "* Visualize the results\n",
        "* Write up an analysis of the experiments and select the \"best\" performing model among your experiments. Make sure to compare against your model's performance yesterday. "
      ]
    },
    {
      "cell_type": "code",
      "metadata": {
        "id": "USXjs7Hk71Hy",
        "outputId": "2d847382-4c4e-486e-c043-b13bbc049151",
        "colab": {
          "base_uri": "https://localhost:8080/"
        }
      },
      "source": [
        "model = create_model()\n",
        "\n",
        "bt_default = model.fit(\n",
        "    X_train, y_train,\n",
        "    epochs=30,\n",
        "    batch_size=32,\n",
        "    validation_data=(X_test, y_test)\n",
        ")"
      ],
      "execution_count": 48,
      "outputs": [
        {
          "output_type": "stream",
          "text": [
            "Epoch 1/30\n",
            "2500/2500 [==============================] - 5s 2ms/step - loss: 1.1577 - accuracy: 0.6440 - val_loss: 0.8698 - val_accuracy: 0.7432\n",
            "Epoch 2/30\n",
            "2500/2500 [==============================] - 5s 2ms/step - loss: 0.8228 - accuracy: 0.7597 - val_loss: 0.7815 - val_accuracy: 0.7683\n",
            "Epoch 3/30\n",
            "2500/2500 [==============================] - 5s 2ms/step - loss: 0.7484 - accuracy: 0.7821 - val_loss: 0.7208 - val_accuracy: 0.7865\n",
            "Epoch 4/30\n",
            "2500/2500 [==============================] - 5s 2ms/step - loss: 0.6912 - accuracy: 0.7986 - val_loss: 0.6721 - val_accuracy: 0.8022\n",
            "Epoch 5/30\n",
            "2500/2500 [==============================] - 5s 2ms/step - loss: 0.6463 - accuracy: 0.8110 - val_loss: 0.6374 - val_accuracy: 0.8134\n",
            "Epoch 6/30\n",
            "2500/2500 [==============================] - 5s 2ms/step - loss: 0.6125 - accuracy: 0.8208 - val_loss: 0.6135 - val_accuracy: 0.8184\n",
            "Epoch 7/30\n",
            "2500/2500 [==============================] - 5s 2ms/step - loss: 0.5879 - accuracy: 0.8277 - val_loss: 0.5938 - val_accuracy: 0.8250\n",
            "Epoch 8/30\n",
            "2500/2500 [==============================] - 5s 2ms/step - loss: 0.5678 - accuracy: 0.8340 - val_loss: 0.5814 - val_accuracy: 0.8297\n",
            "Epoch 9/30\n",
            "2500/2500 [==============================] - 5s 2ms/step - loss: 0.5517 - accuracy: 0.8382 - val_loss: 0.5673 - val_accuracy: 0.8332\n",
            "Epoch 10/30\n",
            "2500/2500 [==============================] - 5s 2ms/step - loss: 0.5378 - accuracy: 0.8421 - val_loss: 0.5603 - val_accuracy: 0.8349\n",
            "Epoch 11/30\n",
            "2500/2500 [==============================] - 5s 2ms/step - loss: 0.5261 - accuracy: 0.8469 - val_loss: 0.5522 - val_accuracy: 0.8370\n",
            "Epoch 12/30\n",
            "2500/2500 [==============================] - 5s 2ms/step - loss: 0.5149 - accuracy: 0.8494 - val_loss: 0.5601 - val_accuracy: 0.8355\n",
            "Epoch 13/30\n",
            "2500/2500 [==============================] - 5s 2ms/step - loss: 0.5059 - accuracy: 0.8520 - val_loss: 0.5453 - val_accuracy: 0.8397\n",
            "Epoch 14/30\n",
            "2500/2500 [==============================] - 5s 2ms/step - loss: 0.4975 - accuracy: 0.8544 - val_loss: 0.5466 - val_accuracy: 0.8397\n",
            "Epoch 15/30\n",
            "2500/2500 [==============================] - 5s 2ms/step - loss: 0.4904 - accuracy: 0.8569 - val_loss: 0.5544 - val_accuracy: 0.8357\n",
            "Epoch 16/30\n",
            "2500/2500 [==============================] - 5s 2ms/step - loss: 0.4840 - accuracy: 0.8585 - val_loss: 0.5382 - val_accuracy: 0.8403\n",
            "Epoch 17/30\n",
            "2500/2500 [==============================] - 5s 2ms/step - loss: 0.4773 - accuracy: 0.8606 - val_loss: 0.5307 - val_accuracy: 0.8431\n",
            "Epoch 18/30\n",
            "2500/2500 [==============================] - 5s 2ms/step - loss: 0.4717 - accuracy: 0.8621 - val_loss: 0.5271 - val_accuracy: 0.8442\n",
            "Epoch 19/30\n",
            "2500/2500 [==============================] - 5s 2ms/step - loss: 0.4659 - accuracy: 0.8635 - val_loss: 0.5281 - val_accuracy: 0.8432\n",
            "Epoch 20/30\n",
            "2500/2500 [==============================] - 5s 2ms/step - loss: 0.4613 - accuracy: 0.8657 - val_loss: 0.5225 - val_accuracy: 0.8443\n",
            "Epoch 21/30\n",
            "2500/2500 [==============================] - 5s 2ms/step - loss: 0.4566 - accuracy: 0.8658 - val_loss: 0.5227 - val_accuracy: 0.8451\n",
            "Epoch 22/30\n",
            "2500/2500 [==============================] - 5s 2ms/step - loss: 0.4521 - accuracy: 0.8673 - val_loss: 0.5209 - val_accuracy: 0.8455\n",
            "Epoch 23/30\n",
            "2500/2500 [==============================] - 5s 2ms/step - loss: 0.4477 - accuracy: 0.8684 - val_loss: 0.5288 - val_accuracy: 0.8454\n",
            "Epoch 24/30\n",
            "2500/2500 [==============================] - 5s 2ms/step - loss: 0.4442 - accuracy: 0.8691 - val_loss: 0.5161 - val_accuracy: 0.8475\n",
            "Epoch 25/30\n",
            "2500/2500 [==============================] - 5s 2ms/step - loss: 0.4398 - accuracy: 0.8696 - val_loss: 0.5171 - val_accuracy: 0.8461\n",
            "Epoch 26/30\n",
            "2500/2500 [==============================] - 5s 2ms/step - loss: 0.4367 - accuracy: 0.8704 - val_loss: 0.5182 - val_accuracy: 0.8471\n",
            "Epoch 27/30\n",
            "2500/2500 [==============================] - 5s 2ms/step - loss: 0.4334 - accuracy: 0.8721 - val_loss: 0.5194 - val_accuracy: 0.8472\n",
            "Epoch 28/30\n",
            "2500/2500 [==============================] - 5s 2ms/step - loss: 0.4296 - accuracy: 0.8731 - val_loss: 0.5133 - val_accuracy: 0.8473\n",
            "Epoch 29/30\n",
            "2500/2500 [==============================] - 5s 2ms/step - loss: 0.4263 - accuracy: 0.8741 - val_loss: 0.5184 - val_accuracy: 0.8465\n",
            "Epoch 30/30\n",
            "2500/2500 [==============================] - 5s 2ms/step - loss: 0.4244 - accuracy: 0.8759 - val_loss: 0.5192 - val_accuracy: 0.8468\n"
          ],
          "name": "stdout"
        }
      ]
    },
    {
      "cell_type": "code",
      "metadata": {
        "id": "nnlV6IATfOil",
        "outputId": "9bc3868a-bc19-438e-d2a8-5903693dfe04",
        "colab": {
          "base_uri": "https://localhost:8080/"
        }
      },
      "source": [
        "model = create_model()\n",
        "\n",
        "bt_sm = model.fit(\n",
        "    X_train, y_train,\n",
        "    epochs=30,\n",
        "    batch_size=8,\n",
        "    validation_data=(X_test, y_test)\n",
        ")"
      ],
      "execution_count": 52,
      "outputs": [
        {
          "output_type": "stream",
          "text": [
            "Epoch 1/30\n",
            "10000/10000 [==============================] - 19s 2ms/step - loss: 0.8585 - accuracy: 0.7402 - val_loss: 0.6553 - val_accuracy: 0.8042\n",
            "Epoch 2/30\n",
            "10000/10000 [==============================] - 18s 2ms/step - loss: 0.6224 - accuracy: 0.8148 - val_loss: 0.5916 - val_accuracy: 0.8203\n",
            "Epoch 3/30\n",
            "10000/10000 [==============================] - 18s 2ms/step - loss: 0.5620 - accuracy: 0.8316 - val_loss: 0.5742 - val_accuracy: 0.8256\n",
            "Epoch 4/30\n",
            "10000/10000 [==============================] - 18s 2ms/step - loss: 0.5298 - accuracy: 0.8411 - val_loss: 0.5420 - val_accuracy: 0.8345\n",
            "Epoch 5/30\n",
            "10000/10000 [==============================] - 18s 2ms/step - loss: 0.5060 - accuracy: 0.8479 - val_loss: 0.5514 - val_accuracy: 0.8310\n",
            "Epoch 6/30\n",
            "10000/10000 [==============================] - 19s 2ms/step - loss: 0.4892 - accuracy: 0.8518 - val_loss: 0.5315 - val_accuracy: 0.8396\n",
            "Epoch 7/30\n",
            "10000/10000 [==============================] - 19s 2ms/step - loss: 0.4748 - accuracy: 0.8570 - val_loss: 0.5154 - val_accuracy: 0.8472\n",
            "Epoch 8/30\n",
            "10000/10000 [==============================] - 18s 2ms/step - loss: 0.4631 - accuracy: 0.8613 - val_loss: 0.5179 - val_accuracy: 0.8420\n",
            "Epoch 9/30\n",
            "10000/10000 [==============================] - 19s 2ms/step - loss: 0.4530 - accuracy: 0.8637 - val_loss: 0.5093 - val_accuracy: 0.8454\n",
            "Epoch 10/30\n",
            "10000/10000 [==============================] - 19s 2ms/step - loss: 0.4442 - accuracy: 0.8662 - val_loss: 0.5168 - val_accuracy: 0.8449\n",
            "Epoch 11/30\n",
            "10000/10000 [==============================] - 20s 2ms/step - loss: 0.4369 - accuracy: 0.8670 - val_loss: 0.5063 - val_accuracy: 0.8478\n",
            "Epoch 12/30\n",
            "10000/10000 [==============================] - 18s 2ms/step - loss: 0.4304 - accuracy: 0.8697 - val_loss: 0.5051 - val_accuracy: 0.8484\n",
            "Epoch 13/30\n",
            "10000/10000 [==============================] - 18s 2ms/step - loss: 0.4239 - accuracy: 0.8716 - val_loss: 0.5052 - val_accuracy: 0.8487\n",
            "Epoch 14/30\n",
            "10000/10000 [==============================] - 19s 2ms/step - loss: 0.4185 - accuracy: 0.8736 - val_loss: 0.5142 - val_accuracy: 0.8464\n",
            "Epoch 15/30\n",
            "10000/10000 [==============================] - 18s 2ms/step - loss: 0.4129 - accuracy: 0.8740 - val_loss: 0.5033 - val_accuracy: 0.8504\n",
            "Epoch 16/30\n",
            "10000/10000 [==============================] - 18s 2ms/step - loss: 0.4099 - accuracy: 0.8763 - val_loss: 0.5030 - val_accuracy: 0.8504\n",
            "Epoch 17/30\n",
            "10000/10000 [==============================] - 19s 2ms/step - loss: 0.4042 - accuracy: 0.8777 - val_loss: 0.5028 - val_accuracy: 0.8506\n",
            "Epoch 18/30\n",
            "10000/10000 [==============================] - 19s 2ms/step - loss: 0.4003 - accuracy: 0.8787 - val_loss: 0.4993 - val_accuracy: 0.8500\n",
            "Epoch 19/30\n",
            "10000/10000 [==============================] - 19s 2ms/step - loss: 0.3968 - accuracy: 0.8789 - val_loss: 0.5026 - val_accuracy: 0.8486\n",
            "Epoch 20/30\n",
            "10000/10000 [==============================] - 18s 2ms/step - loss: 0.3937 - accuracy: 0.8805 - val_loss: 0.5082 - val_accuracy: 0.8475\n",
            "Epoch 21/30\n",
            "10000/10000 [==============================] - 19s 2ms/step - loss: 0.3909 - accuracy: 0.8816 - val_loss: 0.4999 - val_accuracy: 0.8518\n",
            "Epoch 22/30\n",
            "10000/10000 [==============================] - 19s 2ms/step - loss: 0.3882 - accuracy: 0.8815 - val_loss: 0.5003 - val_accuracy: 0.8516\n",
            "Epoch 23/30\n",
            "10000/10000 [==============================] - 19s 2ms/step - loss: 0.3845 - accuracy: 0.8829 - val_loss: 0.5186 - val_accuracy: 0.8458\n",
            "Epoch 24/30\n",
            "10000/10000 [==============================] - 19s 2ms/step - loss: 0.3809 - accuracy: 0.8842 - val_loss: 0.5076 - val_accuracy: 0.8502\n",
            "Epoch 25/30\n",
            "10000/10000 [==============================] - 19s 2ms/step - loss: 0.3785 - accuracy: 0.8848 - val_loss: 0.5078 - val_accuracy: 0.8503\n",
            "Epoch 26/30\n",
            "10000/10000 [==============================] - 19s 2ms/step - loss: 0.3768 - accuracy: 0.8859 - val_loss: 0.5018 - val_accuracy: 0.8496\n",
            "Epoch 27/30\n",
            "10000/10000 [==============================] - 19s 2ms/step - loss: 0.3739 - accuracy: 0.8854 - val_loss: 0.5158 - val_accuracy: 0.8490\n",
            "Epoch 28/30\n",
            "10000/10000 [==============================] - 20s 2ms/step - loss: 0.3719 - accuracy: 0.8857 - val_loss: 0.5136 - val_accuracy: 0.8520\n",
            "Epoch 29/30\n",
            "10000/10000 [==============================] - 19s 2ms/step - loss: 0.3688 - accuracy: 0.8870 - val_loss: 0.5215 - val_accuracy: 0.8478\n",
            "Epoch 30/30\n",
            "10000/10000 [==============================] - 19s 2ms/step - loss: 0.3670 - accuracy: 0.8877 - val_loss: 0.5167 - val_accuracy: 0.8517\n"
          ],
          "name": "stdout"
        }
      ]
    },
    {
      "cell_type": "code",
      "metadata": {
        "id": "EslKdzUkfPTy",
        "outputId": "8d65dcf4-2634-4b34-f446-6057eaf5a2e8",
        "colab": {
          "base_uri": "https://localhost:8080/"
        }
      },
      "source": [
        "model = create_model()\n",
        "\n",
        "bt_med = model.fit(\n",
        "    X_train, y_train,\n",
        "    epochs=30,\n",
        "    batch_size=15,\n",
        "    validation_data=(X_test, y_test)\n",
        ")"
      ],
      "execution_count": 51,
      "outputs": [
        {
          "output_type": "stream",
          "text": [
            "Epoch 1/30\n",
            "5334/5334 [==============================] - 12s 2ms/step - loss: 0.9573 - accuracy: 0.7082 - val_loss: 0.7591 - val_accuracy: 0.7768\n",
            "Epoch 2/30\n",
            "5334/5334 [==============================] - 11s 2ms/step - loss: 0.7013 - accuracy: 0.7925 - val_loss: 0.6622 - val_accuracy: 0.8033\n",
            "Epoch 3/30\n",
            "5334/5334 [==============================] - 11s 2ms/step - loss: 0.6283 - accuracy: 0.8135 - val_loss: 0.6235 - val_accuracy: 0.8133\n",
            "Epoch 4/30\n",
            "5334/5334 [==============================] - 11s 2ms/step - loss: 0.5810 - accuracy: 0.8262 - val_loss: 0.5851 - val_accuracy: 0.8244\n",
            "Epoch 5/30\n",
            "5334/5334 [==============================] - 11s 2ms/step - loss: 0.5521 - accuracy: 0.8346 - val_loss: 0.5724 - val_accuracy: 0.8306\n",
            "Epoch 6/30\n",
            "5334/5334 [==============================] - 11s 2ms/step - loss: 0.5314 - accuracy: 0.8409 - val_loss: 0.5663 - val_accuracy: 0.8286\n",
            "Epoch 7/30\n",
            "5334/5334 [==============================] - 11s 2ms/step - loss: 0.5154 - accuracy: 0.8465 - val_loss: 0.5557 - val_accuracy: 0.8343\n",
            "Epoch 8/30\n",
            "5334/5334 [==============================] - 11s 2ms/step - loss: 0.5017 - accuracy: 0.8496 - val_loss: 0.5370 - val_accuracy: 0.8368\n",
            "Epoch 9/30\n",
            "5334/5334 [==============================] - 11s 2ms/step - loss: 0.4904 - accuracy: 0.8528 - val_loss: 0.5247 - val_accuracy: 0.8428\n",
            "Epoch 10/30\n",
            "5334/5334 [==============================] - 11s 2ms/step - loss: 0.4806 - accuracy: 0.8571 - val_loss: 0.5632 - val_accuracy: 0.8308\n",
            "Epoch 11/30\n",
            "5334/5334 [==============================] - 11s 2ms/step - loss: 0.4721 - accuracy: 0.8587 - val_loss: 0.5226 - val_accuracy: 0.8442\n",
            "Epoch 12/30\n",
            "5334/5334 [==============================] - 12s 2ms/step - loss: 0.4648 - accuracy: 0.8605 - val_loss: 0.5257 - val_accuracy: 0.8433\n",
            "Epoch 13/30\n",
            "5334/5334 [==============================] - 11s 2ms/step - loss: 0.4584 - accuracy: 0.8624 - val_loss: 0.5282 - val_accuracy: 0.8418\n",
            "Epoch 14/30\n",
            "5334/5334 [==============================] - 11s 2ms/step - loss: 0.4512 - accuracy: 0.8645 - val_loss: 0.5198 - val_accuracy: 0.8435\n",
            "Epoch 15/30\n",
            "5334/5334 [==============================] - 11s 2ms/step - loss: 0.4458 - accuracy: 0.8651 - val_loss: 0.5312 - val_accuracy: 0.8406\n",
            "Epoch 16/30\n",
            "5334/5334 [==============================] - 11s 2ms/step - loss: 0.4408 - accuracy: 0.8674 - val_loss: 0.5330 - val_accuracy: 0.8398\n",
            "Epoch 17/30\n",
            "5334/5334 [==============================] - 11s 2ms/step - loss: 0.4366 - accuracy: 0.8690 - val_loss: 0.5267 - val_accuracy: 0.8433\n",
            "Epoch 18/30\n",
            "5334/5334 [==============================] - 12s 2ms/step - loss: 0.4326 - accuracy: 0.8705 - val_loss: 0.5216 - val_accuracy: 0.8433\n",
            "Epoch 19/30\n",
            "5334/5334 [==============================] - 11s 2ms/step - loss: 0.4276 - accuracy: 0.8711 - val_loss: 0.5240 - val_accuracy: 0.8444\n",
            "Epoch 20/30\n",
            "5334/5334 [==============================] - 11s 2ms/step - loss: 0.4245 - accuracy: 0.8719 - val_loss: 0.5193 - val_accuracy: 0.8432\n",
            "Epoch 21/30\n",
            "5334/5334 [==============================] - 11s 2ms/step - loss: 0.4205 - accuracy: 0.8723 - val_loss: 0.5241 - val_accuracy: 0.8420\n",
            "Epoch 22/30\n",
            "5334/5334 [==============================] - 13s 2ms/step - loss: 0.4174 - accuracy: 0.8753 - val_loss: 0.5231 - val_accuracy: 0.8451\n",
            "Epoch 23/30\n",
            "5334/5334 [==============================] - 11s 2ms/step - loss: 0.4141 - accuracy: 0.8748 - val_loss: 0.5189 - val_accuracy: 0.8451\n",
            "Epoch 24/30\n",
            "5334/5334 [==============================] - 11s 2ms/step - loss: 0.4108 - accuracy: 0.8762 - val_loss: 0.5290 - val_accuracy: 0.8422\n",
            "Epoch 25/30\n",
            "5334/5334 [==============================] - 11s 2ms/step - loss: 0.4071 - accuracy: 0.8780 - val_loss: 0.5193 - val_accuracy: 0.8467\n",
            "Epoch 26/30\n",
            "5334/5334 [==============================] - 12s 2ms/step - loss: 0.4049 - accuracy: 0.8775 - val_loss: 0.5226 - val_accuracy: 0.8440\n",
            "Epoch 27/30\n",
            "5334/5334 [==============================] - 11s 2ms/step - loss: 0.4017 - accuracy: 0.8792 - val_loss: 0.5241 - val_accuracy: 0.8441\n",
            "Epoch 28/30\n",
            "5334/5334 [==============================] - 11s 2ms/step - loss: 0.3992 - accuracy: 0.8792 - val_loss: 0.5289 - val_accuracy: 0.8446\n",
            "Epoch 29/30\n",
            "5334/5334 [==============================] - 11s 2ms/step - loss: 0.3972 - accuracy: 0.8805 - val_loss: 0.5218 - val_accuracy: 0.8461\n",
            "Epoch 30/30\n",
            "5334/5334 [==============================] - 11s 2ms/step - loss: 0.3943 - accuracy: 0.8799 - val_loss: 0.5318 - val_accuracy: 0.8425\n"
          ],
          "name": "stdout"
        }
      ]
    },
    {
      "cell_type": "code",
      "metadata": {
        "id": "7QIuArHyfPgj",
        "outputId": "6681d62d-0d64-4a75-a31b-441c3ce6f9f0",
        "colab": {
          "base_uri": "https://localhost:8080/"
        }
      },
      "source": [
        "model = create_model()\n",
        "\n",
        "bt_lrg = model.fit(\n",
        "    X_train, y_train,\n",
        "    epochs=30,\n",
        "    batch_size=250,\n",
        "    validation_data=(X_test, y_test)\n",
        ")"
      ],
      "execution_count": 50,
      "outputs": [
        {
          "output_type": "stream",
          "text": [
            "Epoch 1/30\n",
            "320/320 [==============================] - 1s 3ms/step - loss: 1.9292 - accuracy: 0.3347 - val_loss: 1.5463 - val_accuracy: 0.5356\n",
            "Epoch 2/30\n",
            "320/320 [==============================] - 1s 2ms/step - loss: 1.3363 - accuracy: 0.5909 - val_loss: 1.2054 - val_accuracy: 0.6276\n",
            "Epoch 3/30\n",
            "320/320 [==============================] - 1s 2ms/step - loss: 1.1343 - accuracy: 0.6515 - val_loss: 1.0772 - val_accuracy: 0.6675\n",
            "Epoch 4/30\n",
            "320/320 [==============================] - 1s 2ms/step - loss: 1.0358 - accuracy: 0.6864 - val_loss: 0.9975 - val_accuracy: 0.6999\n",
            "Epoch 5/30\n",
            "320/320 [==============================] - 1s 2ms/step - loss: 0.9692 - accuracy: 0.7117 - val_loss: 0.9407 - val_accuracy: 0.7231\n",
            "Epoch 6/30\n",
            "320/320 [==============================] - 1s 2ms/step - loss: 0.9210 - accuracy: 0.7298 - val_loss: 0.8993 - val_accuracy: 0.7378\n",
            "Epoch 7/30\n",
            "320/320 [==============================] - 1s 2ms/step - loss: 0.8858 - accuracy: 0.7418 - val_loss: 0.8701 - val_accuracy: 0.7468\n",
            "Epoch 8/30\n",
            "320/320 [==============================] - 1s 2ms/step - loss: 0.8595 - accuracy: 0.7497 - val_loss: 0.8471 - val_accuracy: 0.7560\n",
            "Epoch 9/30\n",
            "320/320 [==============================] - 1s 2ms/step - loss: 0.8389 - accuracy: 0.7571 - val_loss: 0.8289 - val_accuracy: 0.7599\n",
            "Epoch 10/30\n",
            "320/320 [==============================] - 1s 2ms/step - loss: 0.8216 - accuracy: 0.7617 - val_loss: 0.8145 - val_accuracy: 0.7649\n",
            "Epoch 11/30\n",
            "320/320 [==============================] - 1s 2ms/step - loss: 0.8067 - accuracy: 0.7664 - val_loss: 0.8009 - val_accuracy: 0.7681\n",
            "Epoch 12/30\n",
            "320/320 [==============================] - 1s 2ms/step - loss: 0.7935 - accuracy: 0.7707 - val_loss: 0.7888 - val_accuracy: 0.7728\n",
            "Epoch 13/30\n",
            "320/320 [==============================] - 1s 2ms/step - loss: 0.7814 - accuracy: 0.7743 - val_loss: 0.7780 - val_accuracy: 0.7764\n",
            "Epoch 14/30\n",
            "320/320 [==============================] - 1s 2ms/step - loss: 0.7704 - accuracy: 0.7775 - val_loss: 0.7685 - val_accuracy: 0.7783\n",
            "Epoch 15/30\n",
            "320/320 [==============================] - 1s 2ms/step - loss: 0.7605 - accuracy: 0.7806 - val_loss: 0.7592 - val_accuracy: 0.7812\n",
            "Epoch 16/30\n",
            "320/320 [==============================] - 1s 2ms/step - loss: 0.7509 - accuracy: 0.7833 - val_loss: 0.7514 - val_accuracy: 0.7828\n",
            "Epoch 17/30\n",
            "320/320 [==============================] - 1s 2ms/step - loss: 0.7421 - accuracy: 0.7859 - val_loss: 0.7444 - val_accuracy: 0.7841\n",
            "Epoch 18/30\n",
            "320/320 [==============================] - 1s 2ms/step - loss: 0.7336 - accuracy: 0.7884 - val_loss: 0.7356 - val_accuracy: 0.7875\n",
            "Epoch 19/30\n",
            "320/320 [==============================] - 1s 2ms/step - loss: 0.7255 - accuracy: 0.7901 - val_loss: 0.7274 - val_accuracy: 0.7903\n",
            "Epoch 20/30\n",
            "320/320 [==============================] - 1s 2ms/step - loss: 0.7179 - accuracy: 0.7932 - val_loss: 0.7207 - val_accuracy: 0.7912\n",
            "Epoch 21/30\n",
            "320/320 [==============================] - 1s 2ms/step - loss: 0.7106 - accuracy: 0.7944 - val_loss: 0.7147 - val_accuracy: 0.7944\n",
            "Epoch 22/30\n",
            "320/320 [==============================] - 1s 2ms/step - loss: 0.7038 - accuracy: 0.7968 - val_loss: 0.7075 - val_accuracy: 0.7952\n",
            "Epoch 23/30\n",
            "320/320 [==============================] - 1s 2ms/step - loss: 0.6971 - accuracy: 0.7988 - val_loss: 0.7021 - val_accuracy: 0.7966\n",
            "Epoch 24/30\n",
            "320/320 [==============================] - 1s 2ms/step - loss: 0.6904 - accuracy: 0.8003 - val_loss: 0.6956 - val_accuracy: 0.7988\n",
            "Epoch 25/30\n",
            "320/320 [==============================] - 1s 2ms/step - loss: 0.6845 - accuracy: 0.8021 - val_loss: 0.6905 - val_accuracy: 0.7996\n",
            "Epoch 26/30\n",
            "320/320 [==============================] - 1s 2ms/step - loss: 0.6784 - accuracy: 0.8036 - val_loss: 0.6869 - val_accuracy: 0.8016\n",
            "Epoch 27/30\n",
            "320/320 [==============================] - 1s 2ms/step - loss: 0.6728 - accuracy: 0.8055 - val_loss: 0.6799 - val_accuracy: 0.8038\n",
            "Epoch 28/30\n",
            "320/320 [==============================] - 1s 2ms/step - loss: 0.6672 - accuracy: 0.8065 - val_loss: 0.6757 - val_accuracy: 0.8044\n",
            "Epoch 29/30\n",
            "320/320 [==============================] - 1s 2ms/step - loss: 0.6622 - accuracy: 0.8082 - val_loss: 0.6707 - val_accuracy: 0.8057\n",
            "Epoch 30/30\n",
            "320/320 [==============================] - 1s 2ms/step - loss: 0.6571 - accuracy: 0.8092 - val_loss: 0.6668 - val_accuracy: 0.8071\n"
          ],
          "name": "stdout"
        }
      ]
    },
    {
      "cell_type": "code",
      "metadata": {
        "id": "91Hxtz-sfPtP",
        "outputId": "cd39c7e7-f4a6-49a4-f715-8c75d363ad61",
        "colab": {
          "base_uri": "https://localhost:8080/"
        }
      },
      "source": [
        "model = create_model()\n",
        "\n",
        "bt_xl = model.fit(\n",
        "    X_train, y_train,\n",
        "    epochs=30,\n",
        "    batch_size=520,\n",
        "    validation_data=(X_test, y_test)\n",
        ")"
      ],
      "execution_count": 49,
      "outputs": [
        {
          "output_type": "stream",
          "text": [
            "Epoch 1/30\n",
            "154/154 [==============================] - 1s 4ms/step - loss: 2.1342 - accuracy: 0.2834 - val_loss: 1.9317 - val_accuracy: 0.3868\n",
            "Epoch 2/30\n",
            "154/154 [==============================] - 0s 3ms/step - loss: 1.7374 - accuracy: 0.4569 - val_loss: 1.5699 - val_accuracy: 0.5232\n",
            "Epoch 3/30\n",
            "154/154 [==============================] - 0s 3ms/step - loss: 1.4455 - accuracy: 0.5639 - val_loss: 1.3402 - val_accuracy: 0.5979\n",
            "Epoch 4/30\n",
            "154/154 [==============================] - 0s 3ms/step - loss: 1.2657 - accuracy: 0.6185 - val_loss: 1.2005 - val_accuracy: 0.6377\n",
            "Epoch 5/30\n",
            "154/154 [==============================] - 0s 3ms/step - loss: 1.1564 - accuracy: 0.6514 - val_loss: 1.1141 - val_accuracy: 0.6642\n",
            "Epoch 6/30\n",
            "154/154 [==============================] - 0s 3ms/step - loss: 1.0851 - accuracy: 0.6735 - val_loss: 1.0552 - val_accuracy: 0.6803\n",
            "Epoch 7/30\n",
            "154/154 [==============================] - 0s 3ms/step - loss: 1.0340 - accuracy: 0.6891 - val_loss: 1.0106 - val_accuracy: 0.6980\n",
            "Epoch 8/30\n",
            "154/154 [==============================] - 0s 3ms/step - loss: 0.9947 - accuracy: 0.7023 - val_loss: 0.9756 - val_accuracy: 0.7088\n",
            "Epoch 9/30\n",
            "154/154 [==============================] - 0s 3ms/step - loss: 0.9633 - accuracy: 0.7121 - val_loss: 0.9476 - val_accuracy: 0.7184\n",
            "Epoch 10/30\n",
            "154/154 [==============================] - 0s 3ms/step - loss: 0.9373 - accuracy: 0.7211 - val_loss: 0.9242 - val_accuracy: 0.7272\n",
            "Epoch 11/30\n",
            "154/154 [==============================] - 0s 3ms/step - loss: 0.9156 - accuracy: 0.7283 - val_loss: 0.9046 - val_accuracy: 0.7305\n",
            "Epoch 12/30\n",
            "154/154 [==============================] - 0s 3ms/step - loss: 0.8969 - accuracy: 0.7342 - val_loss: 0.8874 - val_accuracy: 0.7387\n",
            "Epoch 13/30\n",
            "154/154 [==============================] - 0s 3ms/step - loss: 0.8808 - accuracy: 0.7397 - val_loss: 0.8729 - val_accuracy: 0.7424\n",
            "Epoch 14/30\n",
            "154/154 [==============================] - 0s 3ms/step - loss: 0.8667 - accuracy: 0.7444 - val_loss: 0.8602 - val_accuracy: 0.7461\n",
            "Epoch 15/30\n",
            "154/154 [==============================] - 1s 3ms/step - loss: 0.8543 - accuracy: 0.7482 - val_loss: 0.8490 - val_accuracy: 0.7503\n",
            "Epoch 16/30\n",
            "154/154 [==============================] - 0s 3ms/step - loss: 0.8429 - accuracy: 0.7521 - val_loss: 0.8378 - val_accuracy: 0.7534\n",
            "Epoch 17/30\n",
            "154/154 [==============================] - 0s 3ms/step - loss: 0.8326 - accuracy: 0.7547 - val_loss: 0.8285 - val_accuracy: 0.7566\n",
            "Epoch 18/30\n",
            "154/154 [==============================] - 0s 3ms/step - loss: 0.8232 - accuracy: 0.7575 - val_loss: 0.8201 - val_accuracy: 0.7581\n",
            "Epoch 19/30\n",
            "154/154 [==============================] - 0s 3ms/step - loss: 0.8146 - accuracy: 0.7598 - val_loss: 0.8122 - val_accuracy: 0.7622\n",
            "Epoch 20/30\n",
            "154/154 [==============================] - 0s 3ms/step - loss: 0.8063 - accuracy: 0.7625 - val_loss: 0.8048 - val_accuracy: 0.7638\n",
            "Epoch 21/30\n",
            "154/154 [==============================] - 0s 3ms/step - loss: 0.7988 - accuracy: 0.7646 - val_loss: 0.7975 - val_accuracy: 0.7669\n",
            "Epoch 22/30\n",
            "154/154 [==============================] - 0s 3ms/step - loss: 0.7917 - accuracy: 0.7677 - val_loss: 0.7908 - val_accuracy: 0.7692\n",
            "Epoch 23/30\n",
            "154/154 [==============================] - 0s 3ms/step - loss: 0.7848 - accuracy: 0.7699 - val_loss: 0.7843 - val_accuracy: 0.7710\n",
            "Epoch 24/30\n",
            "154/154 [==============================] - 0s 3ms/step - loss: 0.7782 - accuracy: 0.7716 - val_loss: 0.7785 - val_accuracy: 0.7735\n",
            "Epoch 25/30\n",
            "154/154 [==============================] - 0s 3ms/step - loss: 0.7721 - accuracy: 0.7737 - val_loss: 0.7728 - val_accuracy: 0.7746\n",
            "Epoch 26/30\n",
            "154/154 [==============================] - 0s 3ms/step - loss: 0.7662 - accuracy: 0.7757 - val_loss: 0.7679 - val_accuracy: 0.7768\n",
            "Epoch 27/30\n",
            "154/154 [==============================] - 0s 3ms/step - loss: 0.7606 - accuracy: 0.7771 - val_loss: 0.7627 - val_accuracy: 0.7785\n",
            "Epoch 28/30\n",
            "154/154 [==============================] - 0s 3ms/step - loss: 0.7551 - accuracy: 0.7795 - val_loss: 0.7575 - val_accuracy: 0.7800\n",
            "Epoch 29/30\n",
            "154/154 [==============================] - 0s 3ms/step - loss: 0.7501 - accuracy: 0.7808 - val_loss: 0.7526 - val_accuracy: 0.7821\n",
            "Epoch 30/30\n",
            "154/154 [==============================] - 0s 3ms/step - loss: 0.7450 - accuracy: 0.7820 - val_loss: 0.7480 - val_accuracy: 0.7828\n"
          ],
          "name": "stdout"
        }
      ]
    },
    {
      "cell_type": "code",
      "metadata": {
        "id": "Gvko0cJWwDgi",
        "outputId": "338e695d-a998-4c87-99a4-16499eeb79f3",
        "colab": {
          "base_uri": "https://localhost:8080/"
        }
      },
      "source": [
        "model = create_model()\n",
        "\n",
        "bt_curious = model.fit(\n",
        "    X_train, y_train,\n",
        "    epochs=30,\n",
        "    batch_size=25,\n",
        "    validation_data=(X_test, y_test)\n",
        ")"
      ],
      "execution_count": 59,
      "outputs": [
        {
          "output_type": "stream",
          "text": [
            "Epoch 1/30\n",
            "3200/3200 [==============================] - 6s 2ms/step - loss: 1.0923 - accuracy: 0.6651 - val_loss: 0.8248 - val_accuracy: 0.7595\n",
            "Epoch 2/30\n",
            "3200/3200 [==============================] - 6s 2ms/step - loss: 0.7680 - accuracy: 0.7764 - val_loss: 0.7194 - val_accuracy: 0.7916\n",
            "Epoch 3/30\n",
            "3200/3200 [==============================] - 6s 2ms/step - loss: 0.6894 - accuracy: 0.7980 - val_loss: 0.6703 - val_accuracy: 0.8015\n",
            "Epoch 4/30\n",
            "3200/3200 [==============================] - 6s 2ms/step - loss: 0.6404 - accuracy: 0.8113 - val_loss: 0.6324 - val_accuracy: 0.8131\n",
            "Epoch 5/30\n",
            "3200/3200 [==============================] - 6s 2ms/step - loss: 0.6065 - accuracy: 0.8207 - val_loss: 0.6120 - val_accuracy: 0.8182\n",
            "Epoch 6/30\n",
            "3200/3200 [==============================] - 6s 2ms/step - loss: 0.5803 - accuracy: 0.8283 - val_loss: 0.5883 - val_accuracy: 0.8271\n",
            "Epoch 7/30\n",
            "3200/3200 [==============================] - 6s 2ms/step - loss: 0.5588 - accuracy: 0.8345 - val_loss: 0.5796 - val_accuracy: 0.8296\n",
            "Epoch 8/30\n",
            "3200/3200 [==============================] - 6s 2ms/step - loss: 0.5406 - accuracy: 0.8407 - val_loss: 0.5659 - val_accuracy: 0.8327\n",
            "Epoch 9/30\n",
            "3200/3200 [==============================] - 6s 2ms/step - loss: 0.5252 - accuracy: 0.8454 - val_loss: 0.5539 - val_accuracy: 0.8359\n",
            "Epoch 10/30\n",
            "3200/3200 [==============================] - 6s 2ms/step - loss: 0.5122 - accuracy: 0.8488 - val_loss: 0.5478 - val_accuracy: 0.8358\n",
            "Epoch 11/30\n",
            "3200/3200 [==============================] - 6s 2ms/step - loss: 0.5021 - accuracy: 0.8516 - val_loss: 0.5410 - val_accuracy: 0.8403\n",
            "Epoch 12/30\n",
            "3200/3200 [==============================] - 6s 2ms/step - loss: 0.4918 - accuracy: 0.8547 - val_loss: 0.5311 - val_accuracy: 0.8422\n",
            "Epoch 13/30\n",
            "3200/3200 [==============================] - 6s 2ms/step - loss: 0.4824 - accuracy: 0.8579 - val_loss: 0.5308 - val_accuracy: 0.8431\n",
            "Epoch 14/30\n",
            "3200/3200 [==============================] - 7s 2ms/step - loss: 0.4753 - accuracy: 0.8593 - val_loss: 0.5252 - val_accuracy: 0.8436\n",
            "Epoch 15/30\n",
            "3200/3200 [==============================] - 6s 2ms/step - loss: 0.4685 - accuracy: 0.8621 - val_loss: 0.5294 - val_accuracy: 0.8425\n",
            "Epoch 16/30\n",
            "3200/3200 [==============================] - 6s 2ms/step - loss: 0.4621 - accuracy: 0.8631 - val_loss: 0.5224 - val_accuracy: 0.8447\n",
            "Epoch 17/30\n",
            "3200/3200 [==============================] - 6s 2ms/step - loss: 0.4567 - accuracy: 0.8645 - val_loss: 0.5229 - val_accuracy: 0.8446\n",
            "Epoch 18/30\n",
            "3200/3200 [==============================] - 6s 2ms/step - loss: 0.4512 - accuracy: 0.8657 - val_loss: 0.5196 - val_accuracy: 0.8462\n",
            "Epoch 19/30\n",
            "3200/3200 [==============================] - 7s 2ms/step - loss: 0.4460 - accuracy: 0.8672 - val_loss: 0.5201 - val_accuracy: 0.8461\n",
            "Epoch 20/30\n",
            "3200/3200 [==============================] - 7s 2ms/step - loss: 0.4417 - accuracy: 0.8687 - val_loss: 0.5209 - val_accuracy: 0.8461\n",
            "Epoch 21/30\n",
            "3200/3200 [==============================] - 6s 2ms/step - loss: 0.4376 - accuracy: 0.8693 - val_loss: 0.5120 - val_accuracy: 0.8486\n",
            "Epoch 22/30\n",
            "3200/3200 [==============================] - 6s 2ms/step - loss: 0.4337 - accuracy: 0.8711 - val_loss: 0.5249 - val_accuracy: 0.8462\n",
            "Epoch 23/30\n",
            "3200/3200 [==============================] - 6s 2ms/step - loss: 0.4298 - accuracy: 0.8717 - val_loss: 0.5169 - val_accuracy: 0.8468\n",
            "Epoch 24/30\n",
            "3200/3200 [==============================] - 6s 2ms/step - loss: 0.4259 - accuracy: 0.8726 - val_loss: 0.5212 - val_accuracy: 0.8485\n",
            "Epoch 25/30\n",
            "3200/3200 [==============================] - 6s 2ms/step - loss: 0.4230 - accuracy: 0.8742 - val_loss: 0.5123 - val_accuracy: 0.8492\n",
            "Epoch 26/30\n",
            "3200/3200 [==============================] - 7s 2ms/step - loss: 0.4191 - accuracy: 0.8753 - val_loss: 0.5116 - val_accuracy: 0.8478\n",
            "Epoch 27/30\n",
            "3200/3200 [==============================] - 7s 2ms/step - loss: 0.4163 - accuracy: 0.8758 - val_loss: 0.5177 - val_accuracy: 0.8495\n",
            "Epoch 28/30\n",
            "3200/3200 [==============================] - 6s 2ms/step - loss: 0.4131 - accuracy: 0.8767 - val_loss: 0.5104 - val_accuracy: 0.8492\n",
            "Epoch 29/30\n",
            "3200/3200 [==============================] - 6s 2ms/step - loss: 0.4100 - accuracy: 0.8773 - val_loss: 0.5172 - val_accuracy: 0.8491\n",
            "Epoch 30/30\n",
            "3200/3200 [==============================] - 6s 2ms/step - loss: 0.4076 - accuracy: 0.8781 - val_loss: 0.5118 - val_accuracy: 0.8482\n"
          ],
          "name": "stdout"
        }
      ]
    },
    {
      "cell_type": "code",
      "metadata": {
        "id": "TO4v0pHDhbJO",
        "outputId": "76634811-1502-46f9-8b24-353cabc2a21b",
        "colab": {
          "base_uri": "https://localhost:8080/",
          "height": 519
        }
      },
      "source": [
        "batch_sizes = []\n",
        "for exp, result in zip([bt_default,\n",
        "                        bt_sm,\n",
        "                        bt_med,\n",
        "                        bt_lrg,\n",
        "                        bt_xl,\n",
        "                        bt_curious],\n",
        "                       [\"32_\", \"8_\", \"15_\", \"250_\", \"520_\", \"25_\"]):\n",
        "    df = pd.DataFrame.from_dict(exp.history)\n",
        "    df['epoch'] = df.index.values\n",
        "    df['Batch Size'] = result\n",
        "    batch_sizes.append(df)\n",
        "df = pd.concat(batch_sizes)\n",
        "df['Batch Size'] = df['Batch Size'].astype('str')\n",
        "df.head()\n",
        "\n",
        "sns.set(rc={'figure.figsize':(15,8)})\n",
        "sns.lineplot(x='epoch', y='val_accuracy', hue='Batch Size', data=df)"
      ],
      "execution_count": 61,
      "outputs": [
        {
          "output_type": "execute_result",
          "data": {
            "text/plain": [
              "<matplotlib.axes._subplots.AxesSubplot at 0x7fcd9c13b3c8>"
            ]
          },
          "metadata": {
            "tags": []
          },
          "execution_count": 61
        },
        {
          "output_type": "display_data",
          "data": {
            "image/png": "[encoded data removed]",
            "text/plain": [
              "<Figure size 1080x576 with 1 Axes>"
            ]
          },
          "metadata": {
            "tags": []
          }
        }
      ]
    },
    {
      "cell_type": "markdown",
      "metadata": {
        "id": "2N8bGJ2D0eQn"
      },
      "source": [
        "## **Batch Size Analysis:**\n",
        "\n",
        "- **The best model was the one with `bt_curious` batch size of `25`. Out of all the epochs that model seemed to be the most consitant and smoothly increase its accuracy.**"
      ]
    },
    {
      "cell_type": "markdown",
      "metadata": {
        "id": "8b-r70o8p2Dm"
      },
      "source": [
        "### Experiment with Learning Rate\n",
        "* Run 5 experiments with various learning rate magnitudes: 1, .1, .01, .001, .0001.\n",
        "* Use the \"best\" batch size from the previous experiment\n",
        "* Visualize the results\n",
        "* Write up an analysis of the experiments and select the \"best\" performing model among your experiments. Make sure to compare against the previous experiments and your model's performance yesterday. "
      ]
    },
    {
      "cell_type": "code",
      "metadata": {
        "id": "_SA144xx8Luf",
        "outputId": "1cfb095c-c7fa-4a3d-f832-0db6d0c1abed",
        "colab": {
          "base_uri": "https://localhost:8080/"
        }
      },
      "source": [
        "model = create_model()\n",
        "\n",
        "bt_default = model.fit(\n",
        "    X_train, y_train,\n",
        "    epochs=30,\n",
        "    batch_size=25,\n",
        "    validation_data=(X_test, y_test)\n",
        ")"
      ],
      "execution_count": 62,
      "outputs": [
        {
          "output_type": "stream",
          "text": [
            "Epoch 1/30\n",
            "3200/3200 [==============================] - 6s 2ms/step - loss: 1.1205 - accuracy: 0.6546 - val_loss: 0.8546 - val_accuracy: 0.7522\n",
            "Epoch 2/30\n",
            "3200/3200 [==============================] - 6s 2ms/step - loss: 0.7963 - accuracy: 0.7677 - val_loss: 0.7464 - val_accuracy: 0.7846\n",
            "Epoch 3/30\n",
            "3200/3200 [==============================] - 6s 2ms/step - loss: 0.7121 - accuracy: 0.7923 - val_loss: 0.7008 - val_accuracy: 0.7943\n",
            "Epoch 4/30\n",
            "3200/3200 [==============================] - 6s 2ms/step - loss: 0.6581 - accuracy: 0.8080 - val_loss: 0.6587 - val_accuracy: 0.8060\n",
            "Epoch 5/30\n",
            "3200/3200 [==============================] - 6s 2ms/step - loss: 0.6191 - accuracy: 0.8176 - val_loss: 0.6157 - val_accuracy: 0.8169\n",
            "Epoch 6/30\n",
            "3200/3200 [==============================] - 6s 2ms/step - loss: 0.5896 - accuracy: 0.8265 - val_loss: 0.5994 - val_accuracy: 0.8227\n",
            "Epoch 7/30\n",
            "3200/3200 [==============================] - 6s 2ms/step - loss: 0.5661 - accuracy: 0.8328 - val_loss: 0.5861 - val_accuracy: 0.8259\n",
            "Epoch 8/30\n",
            "3200/3200 [==============================] - 7s 2ms/step - loss: 0.5475 - accuracy: 0.8377 - val_loss: 0.5712 - val_accuracy: 0.8280\n",
            "Epoch 9/30\n",
            "3200/3200 [==============================] - 7s 2ms/step - loss: 0.5321 - accuracy: 0.8428 - val_loss: 0.5618 - val_accuracy: 0.8322\n",
            "Epoch 10/30\n",
            "3200/3200 [==============================] - 7s 2ms/step - loss: 0.5195 - accuracy: 0.8462 - val_loss: 0.5573 - val_accuracy: 0.8335\n",
            "Epoch 11/30\n",
            "3200/3200 [==============================] - 6s 2ms/step - loss: 0.5084 - accuracy: 0.8488 - val_loss: 0.5507 - val_accuracy: 0.8341\n",
            "Epoch 12/30\n",
            "3200/3200 [==============================] - 6s 2ms/step - loss: 0.4985 - accuracy: 0.8530 - val_loss: 0.5401 - val_accuracy: 0.8379\n",
            "Epoch 13/30\n",
            "3200/3200 [==============================] - 6s 2ms/step - loss: 0.4897 - accuracy: 0.8537 - val_loss: 0.5481 - val_accuracy: 0.8371\n",
            "Epoch 14/30\n",
            "3200/3200 [==============================] - 6s 2ms/step - loss: 0.4830 - accuracy: 0.8565 - val_loss: 0.5292 - val_accuracy: 0.8405\n",
            "Epoch 15/30\n",
            "3200/3200 [==============================] - 6s 2ms/step - loss: 0.4755 - accuracy: 0.8587 - val_loss: 0.5281 - val_accuracy: 0.8424\n",
            "Epoch 16/30\n",
            "3200/3200 [==============================] - 6s 2ms/step - loss: 0.4696 - accuracy: 0.8604 - val_loss: 0.5232 - val_accuracy: 0.8438\n",
            "Epoch 17/30\n",
            "3200/3200 [==============================] - 6s 2ms/step - loss: 0.4640 - accuracy: 0.8617 - val_loss: 0.5296 - val_accuracy: 0.8424\n",
            "Epoch 18/30\n",
            "3200/3200 [==============================] - 6s 2ms/step - loss: 0.4591 - accuracy: 0.8636 - val_loss: 0.5224 - val_accuracy: 0.8446\n",
            "Epoch 19/30\n",
            "3200/3200 [==============================] - 6s 2ms/step - loss: 0.4547 - accuracy: 0.8647 - val_loss: 0.5260 - val_accuracy: 0.8439\n",
            "Epoch 20/30\n",
            "3200/3200 [==============================] - 6s 2ms/step - loss: 0.4502 - accuracy: 0.8659 - val_loss: 0.5232 - val_accuracy: 0.8451\n",
            "Epoch 21/30\n",
            "3200/3200 [==============================] - 6s 2ms/step - loss: 0.4462 - accuracy: 0.8672 - val_loss: 0.5368 - val_accuracy: 0.8393\n",
            "Epoch 22/30\n",
            "3200/3200 [==============================] - 6s 2ms/step - loss: 0.4413 - accuracy: 0.8682 - val_loss: 0.5245 - val_accuracy: 0.8459\n",
            "Epoch 23/30\n",
            "3200/3200 [==============================] - 6s 2ms/step - loss: 0.4379 - accuracy: 0.8695 - val_loss: 0.5207 - val_accuracy: 0.8447\n",
            "Epoch 24/30\n",
            "3200/3200 [==============================] - 6s 2ms/step - loss: 0.4347 - accuracy: 0.8713 - val_loss: 0.5229 - val_accuracy: 0.8457\n",
            "Epoch 25/30\n",
            "3200/3200 [==============================] - 6s 2ms/step - loss: 0.4307 - accuracy: 0.8720 - val_loss: 0.5249 - val_accuracy: 0.8431\n",
            "Epoch 26/30\n",
            "3200/3200 [==============================] - 6s 2ms/step - loss: 0.4278 - accuracy: 0.8727 - val_loss: 0.5276 - val_accuracy: 0.8436\n",
            "Epoch 27/30\n",
            "3200/3200 [==============================] - 6s 2ms/step - loss: 0.4255 - accuracy: 0.8730 - val_loss: 0.5243 - val_accuracy: 0.8453\n",
            "Epoch 28/30\n",
            "3200/3200 [==============================] - 6s 2ms/step - loss: 0.4223 - accuracy: 0.8740 - val_loss: 0.5283 - val_accuracy: 0.8447\n",
            "Epoch 29/30\n",
            "3200/3200 [==============================] - 6s 2ms/step - loss: 0.4193 - accuracy: 0.8750 - val_loss: 0.5203 - val_accuracy: 0.8465\n",
            "Epoch 30/30\n",
            "3200/3200 [==============================] - 6s 2ms/step - loss: 0.4159 - accuracy: 0.8761 - val_loss: 0.5534 - val_accuracy: 0.8354\n"
          ],
          "name": "stdout"
        }
      ]
    },
    {
      "cell_type": "code",
      "metadata": {
        "id": "_yWgnlVL30N4",
        "outputId": "ff22f59b-8c3b-4c77-a0ea-96de772feab2",
        "colab": {
          "base_uri": "https://localhost:8080/"
        }
      },
      "source": [
        "model = create_model(lr=0.0001)\n",
        "\n",
        "lr_sm = model.fit(\n",
        "    X_train, y_train,\n",
        "    epochs=30,\n",
        "    batch_size=25,\n",
        "    validation_data=(X_test, y_test)\n",
        ")"
      ],
      "execution_count": 63,
      "outputs": [
        {
          "output_type": "stream",
          "text": [
            "Epoch 1/30\n",
            "3200/3200 [==============================] - 6s 2ms/step - loss: 2.2931 - accuracy: 0.1604 - val_loss: 2.2439 - val_accuracy: 0.1942\n",
            "Epoch 2/30\n",
            "3200/3200 [==============================] - 6s 2ms/step - loss: 2.2102 - accuracy: 0.2198 - val_loss: 2.1710 - val_accuracy: 0.2461\n",
            "Epoch 3/30\n",
            "3200/3200 [==============================] - 6s 2ms/step - loss: 2.1352 - accuracy: 0.2721 - val_loss: 2.0911 - val_accuracy: 0.3054\n",
            "Epoch 4/30\n",
            "3200/3200 [==============================] - 6s 2ms/step - loss: 2.0468 - accuracy: 0.3389 - val_loss: 1.9943 - val_accuracy: 0.3756\n",
            "Epoch 5/30\n",
            "3200/3200 [==============================] - 6s 2ms/step - loss: 1.9423 - accuracy: 0.4059 - val_loss: 1.8860 - val_accuracy: 0.4349\n",
            "Epoch 6/30\n",
            "3200/3200 [==============================] - 6s 2ms/step - loss: 1.8332 - accuracy: 0.4540 - val_loss: 1.7780 - val_accuracy: 0.4758\n",
            "Epoch 7/30\n",
            "3200/3200 [==============================] - 6s 2ms/step - loss: 1.7276 - accuracy: 0.4877 - val_loss: 1.6757 - val_accuracy: 0.5041\n",
            "Epoch 8/30\n",
            "3200/3200 [==============================] - 6s 2ms/step - loss: 1.6297 - accuracy: 0.5123 - val_loss: 1.5825 - val_accuracy: 0.5271\n",
            "Epoch 9/30\n",
            "3200/3200 [==============================] - 6s 2ms/step - loss: 1.5422 - accuracy: 0.5350 - val_loss: 1.5004 - val_accuracy: 0.5475\n",
            "Epoch 10/30\n",
            "3200/3200 [==============================] - 6s 2ms/step - loss: 1.4663 - accuracy: 0.5553 - val_loss: 1.4297 - val_accuracy: 0.5652\n",
            "Epoch 11/30\n",
            "3200/3200 [==============================] - 6s 2ms/step - loss: 1.4016 - accuracy: 0.5735 - val_loss: 1.3698 - val_accuracy: 0.5825\n",
            "Epoch 12/30\n",
            "3200/3200 [==============================] - 6s 2ms/step - loss: 1.3470 - accuracy: 0.5900 - val_loss: 1.3196 - val_accuracy: 0.5968\n",
            "Epoch 13/30\n",
            "3200/3200 [==============================] - 6s 2ms/step - loss: 1.3009 - accuracy: 0.6036 - val_loss: 1.2768 - val_accuracy: 0.6098\n",
            "Epoch 14/30\n",
            "3200/3200 [==============================] - 6s 2ms/step - loss: 1.2615 - accuracy: 0.6156 - val_loss: 1.2400 - val_accuracy: 0.6226\n",
            "Epoch 15/30\n",
            "3200/3200 [==============================] - 6s 2ms/step - loss: 1.2273 - accuracy: 0.6259 - val_loss: 1.2080 - val_accuracy: 0.6324\n",
            "Epoch 16/30\n",
            "3200/3200 [==============================] - 6s 2ms/step - loss: 1.1973 - accuracy: 0.6357 - val_loss: 1.1798 - val_accuracy: 0.6400\n",
            "Epoch 17/30\n",
            "3200/3200 [==============================] - 6s 2ms/step - loss: 1.1708 - accuracy: 0.6450 - val_loss: 1.1547 - val_accuracy: 0.6493\n",
            "Epoch 18/30\n",
            "3200/3200 [==============================] - 6s 2ms/step - loss: 1.1471 - accuracy: 0.6531 - val_loss: 1.1322 - val_accuracy: 0.6564\n",
            "Epoch 19/30\n",
            "3200/3200 [==============================] - 6s 2ms/step - loss: 1.1259 - accuracy: 0.6607 - val_loss: 1.1121 - val_accuracy: 0.6633\n",
            "Epoch 20/30\n",
            "3200/3200 [==============================] - 7s 2ms/step - loss: 1.1067 - accuracy: 0.6671 - val_loss: 1.0939 - val_accuracy: 0.6707\n",
            "Epoch 21/30\n",
            "3200/3200 [==============================] - 7s 2ms/step - loss: 1.0893 - accuracy: 0.6729 - val_loss: 1.0773 - val_accuracy: 0.6765\n",
            "Epoch 22/30\n",
            "3200/3200 [==============================] - 6s 2ms/step - loss: 1.0735 - accuracy: 0.6781 - val_loss: 1.0623 - val_accuracy: 0.6822\n",
            "Epoch 23/30\n",
            "3200/3200 [==============================] - 6s 2ms/step - loss: 1.0591 - accuracy: 0.6828 - val_loss: 1.0485 - val_accuracy: 0.6872\n",
            "Epoch 24/30\n",
            "3200/3200 [==============================] - 6s 2ms/step - loss: 1.0459 - accuracy: 0.6874 - val_loss: 1.0360 - val_accuracy: 0.6920\n",
            "Epoch 25/30\n",
            "3200/3200 [==============================] - 6s 2ms/step - loss: 1.0339 - accuracy: 0.6907 - val_loss: 1.0244 - val_accuracy: 0.6954\n",
            "Epoch 26/30\n",
            "3200/3200 [==============================] - 6s 2ms/step - loss: 1.0228 - accuracy: 0.6945 - val_loss: 1.0136 - val_accuracy: 0.6988\n",
            "Epoch 27/30\n",
            "3200/3200 [==============================] - 6s 2ms/step - loss: 1.0124 - accuracy: 0.6981 - val_loss: 1.0037 - val_accuracy: 0.7020\n",
            "Epoch 28/30\n",
            "3200/3200 [==============================] - 6s 2ms/step - loss: 1.0029 - accuracy: 0.7014 - val_loss: 0.9945 - val_accuracy: 0.7045\n",
            "Epoch 29/30\n",
            "3200/3200 [==============================] - 6s 2ms/step - loss: 0.9940 - accuracy: 0.7041 - val_loss: 0.9859 - val_accuracy: 0.7080\n",
            "Epoch 30/30\n",
            "3200/3200 [==============================] - 6s 2ms/step - loss: 0.9857 - accuracy: 0.7070 - val_loss: 0.9779 - val_accuracy: 0.7102\n"
          ],
          "name": "stdout"
        }
      ]
    },
    {
      "cell_type": "code",
      "metadata": {
        "id": "5xMlYL9f3097",
        "outputId": "f78b26e0-ddcf-4cac-9c2c-ebc142aded77",
        "colab": {
          "base_uri": "https://localhost:8080/"
        }
      },
      "source": [
        "model = create_model(lr=0.001)\n",
        "\n",
        "lr_md = model.fit(\n",
        "    X_train, y_train,\n",
        "    epochs=30,\n",
        "    batch_size=25,\n",
        "    validation_data=(X_test, y_test)\n",
        ")"
      ],
      "execution_count": 64,
      "outputs": [
        {
          "output_type": "stream",
          "text": [
            "Epoch 1/30\n",
            "3200/3200 [==============================] - 6s 2ms/step - loss: 1.9614 - accuracy: 0.3200 - val_loss: 1.6108 - val_accuracy: 0.5107\n",
            "Epoch 2/30\n",
            "3200/3200 [==============================] - 6s 2ms/step - loss: 1.3416 - accuracy: 0.5996 - val_loss: 1.1665 - val_accuracy: 0.6525\n",
            "Epoch 3/30\n",
            "3200/3200 [==============================] - 6s 2ms/step - loss: 1.0872 - accuracy: 0.6705 - val_loss: 1.0246 - val_accuracy: 0.6930\n",
            "Epoch 4/30\n",
            "3200/3200 [==============================] - 6s 2ms/step - loss: 0.9877 - accuracy: 0.7033 - val_loss: 0.9551 - val_accuracy: 0.7171\n",
            "Epoch 5/30\n",
            "3200/3200 [==============================] - 6s 2ms/step - loss: 0.9328 - accuracy: 0.7210 - val_loss: 0.9132 - val_accuracy: 0.7311\n",
            "Epoch 6/30\n",
            "3200/3200 [==============================] - 6s 2ms/step - loss: 0.8968 - accuracy: 0.7347 - val_loss: 0.8823 - val_accuracy: 0.7409\n",
            "Epoch 7/30\n",
            "3200/3200 [==============================] - 6s 2ms/step - loss: 0.8703 - accuracy: 0.7443 - val_loss: 0.8600 - val_accuracy: 0.7496\n",
            "Epoch 8/30\n",
            "3200/3200 [==============================] - 6s 2ms/step - loss: 0.8492 - accuracy: 0.7516 - val_loss: 0.8429 - val_accuracy: 0.7552\n",
            "Epoch 9/30\n",
            "3200/3200 [==============================] - 6s 2ms/step - loss: 0.8317 - accuracy: 0.7577 - val_loss: 0.8261 - val_accuracy: 0.7612\n",
            "Epoch 10/30\n",
            "3200/3200 [==============================] - 6s 2ms/step - loss: 0.8162 - accuracy: 0.7622 - val_loss: 0.8123 - val_accuracy: 0.7652\n",
            "Epoch 11/30\n",
            "3200/3200 [==============================] - 6s 2ms/step - loss: 0.8023 - accuracy: 0.7678 - val_loss: 0.7997 - val_accuracy: 0.7690\n",
            "Epoch 12/30\n",
            "3200/3200 [==============================] - 6s 2ms/step - loss: 0.7896 - accuracy: 0.7714 - val_loss: 0.7880 - val_accuracy: 0.7718\n",
            "Epoch 13/30\n",
            "3200/3200 [==============================] - 7s 2ms/step - loss: 0.7776 - accuracy: 0.7752 - val_loss: 0.7779 - val_accuracy: 0.7746\n",
            "Epoch 14/30\n",
            "3200/3200 [==============================] - 6s 2ms/step - loss: 0.7664 - accuracy: 0.7783 - val_loss: 0.7675 - val_accuracy: 0.7790\n",
            "Epoch 15/30\n",
            "3200/3200 [==============================] - 6s 2ms/step - loss: 0.7559 - accuracy: 0.7821 - val_loss: 0.7589 - val_accuracy: 0.7820\n",
            "Epoch 16/30\n",
            "3200/3200 [==============================] - 6s 2ms/step - loss: 0.7463 - accuracy: 0.7847 - val_loss: 0.7491 - val_accuracy: 0.7851\n",
            "Epoch 17/30\n",
            "3200/3200 [==============================] - 6s 2ms/step - loss: 0.7369 - accuracy: 0.7871 - val_loss: 0.7409 - val_accuracy: 0.7867\n",
            "Epoch 18/30\n",
            "3200/3200 [==============================] - 6s 2ms/step - loss: 0.7281 - accuracy: 0.7897 - val_loss: 0.7338 - val_accuracy: 0.7890\n",
            "Epoch 19/30\n",
            "3200/3200 [==============================] - 6s 2ms/step - loss: 0.7199 - accuracy: 0.7929 - val_loss: 0.7269 - val_accuracy: 0.7904\n",
            "Epoch 20/30\n",
            "3200/3200 [==============================] - 6s 2ms/step - loss: 0.7121 - accuracy: 0.7941 - val_loss: 0.7188 - val_accuracy: 0.7925\n",
            "Epoch 21/30\n",
            "3200/3200 [==============================] - 6s 2ms/step - loss: 0.7046 - accuracy: 0.7973 - val_loss: 0.7130 - val_accuracy: 0.7943\n",
            "Epoch 22/30\n",
            "3200/3200 [==============================] - 6s 2ms/step - loss: 0.6975 - accuracy: 0.7989 - val_loss: 0.7057 - val_accuracy: 0.7955\n",
            "Epoch 23/30\n",
            "3200/3200 [==============================] - 6s 2ms/step - loss: 0.6906 - accuracy: 0.8009 - val_loss: 0.7016 - val_accuracy: 0.7968\n",
            "Epoch 24/30\n",
            "3200/3200 [==============================] - 6s 2ms/step - loss: 0.6842 - accuracy: 0.8027 - val_loss: 0.6948 - val_accuracy: 0.7988\n",
            "Epoch 25/30\n",
            "3200/3200 [==============================] - 6s 2ms/step - loss: 0.6778 - accuracy: 0.8048 - val_loss: 0.6905 - val_accuracy: 0.7992\n",
            "Epoch 26/30\n",
            "3200/3200 [==============================] - 6s 2ms/step - loss: 0.6719 - accuracy: 0.8066 - val_loss: 0.6837 - val_accuracy: 0.8025\n",
            "Epoch 27/30\n",
            "3200/3200 [==============================] - 6s 2ms/step - loss: 0.6662 - accuracy: 0.8075 - val_loss: 0.6787 - val_accuracy: 0.8050\n",
            "Epoch 28/30\n",
            "3200/3200 [==============================] - 6s 2ms/step - loss: 0.6604 - accuracy: 0.8095 - val_loss: 0.6743 - val_accuracy: 0.8052\n",
            "Epoch 29/30\n",
            "3200/3200 [==============================] - 6s 2ms/step - loss: 0.6553 - accuracy: 0.8105 - val_loss: 0.6698 - val_accuracy: 0.8066\n",
            "Epoch 30/30\n",
            "3200/3200 [==============================] - 6s 2ms/step - loss: 0.6500 - accuracy: 0.8116 - val_loss: 0.6656 - val_accuracy: 0.8074\n"
          ],
          "name": "stdout"
        }
      ]
    },
    {
      "cell_type": "code",
      "metadata": {
        "id": "regfvhl031QE",
        "outputId": "4549d6c2-8839-4746-c51c-5009ad998887",
        "colab": {
          "base_uri": "https://localhost:8080/"
        }
      },
      "source": [
        "model = create_model(lr=0.1)\n",
        "\n",
        "lr_lrg = model.fit(\n",
        "    X_train, y_train,\n",
        "    epochs=30,\n",
        "    batch_size=25,\n",
        "    validation_data=(X_test, y_test)\n",
        ")"
      ],
      "execution_count": 65,
      "outputs": [
        {
          "output_type": "stream",
          "text": [
            "Epoch 1/30\n",
            "3200/3200 [==============================] - 6s 2ms/step - loss: 0.7585 - accuracy: 0.7674 - val_loss: 0.6368 - val_accuracy: 0.8030\n",
            "Epoch 2/30\n",
            "3200/3200 [==============================] - 6s 2ms/step - loss: 0.5788 - accuracy: 0.8233 - val_loss: 0.5567 - val_accuracy: 0.8286\n",
            "Epoch 3/30\n",
            "3200/3200 [==============================] - 6s 2ms/step - loss: 0.5338 - accuracy: 0.8373 - val_loss: 0.5386 - val_accuracy: 0.8363\n",
            "Epoch 4/30\n",
            "3200/3200 [==============================] - 6s 2ms/step - loss: 0.5082 - accuracy: 0.8438 - val_loss: 0.5212 - val_accuracy: 0.8389\n",
            "Epoch 5/30\n",
            "3200/3200 [==============================] - 7s 2ms/step - loss: 0.4892 - accuracy: 0.8500 - val_loss: 0.5230 - val_accuracy: 0.8393\n",
            "Epoch 6/30\n",
            "3200/3200 [==============================] - 7s 2ms/step - loss: 0.4752 - accuracy: 0.8541 - val_loss: 0.5240 - val_accuracy: 0.8377\n",
            "Epoch 7/30\n",
            "3200/3200 [==============================] - 6s 2ms/step - loss: 0.4623 - accuracy: 0.8572 - val_loss: 0.5198 - val_accuracy: 0.8414\n",
            "Epoch 8/30\n",
            "3200/3200 [==============================] - 6s 2ms/step - loss: 0.4536 - accuracy: 0.8599 - val_loss: 0.5104 - val_accuracy: 0.8414\n",
            "Epoch 9/30\n",
            "3200/3200 [==============================] - 6s 2ms/step - loss: 0.4459 - accuracy: 0.8612 - val_loss: 0.5304 - val_accuracy: 0.8396\n",
            "Epoch 10/30\n",
            "3200/3200 [==============================] - 6s 2ms/step - loss: 0.4381 - accuracy: 0.8648 - val_loss: 0.5099 - val_accuracy: 0.8420\n",
            "Epoch 11/30\n",
            "3200/3200 [==============================] - 6s 2ms/step - loss: 0.4318 - accuracy: 0.8668 - val_loss: 0.5208 - val_accuracy: 0.8435\n",
            "Epoch 12/30\n",
            "3200/3200 [==============================] - 6s 2ms/step - loss: 0.4260 - accuracy: 0.8681 - val_loss: 0.5275 - val_accuracy: 0.8451\n",
            "Epoch 13/30\n",
            "3200/3200 [==============================] - 6s 2ms/step - loss: 0.4221 - accuracy: 0.8691 - val_loss: 0.5416 - val_accuracy: 0.8357\n",
            "Epoch 14/30\n",
            "3200/3200 [==============================] - 6s 2ms/step - loss: 0.4149 - accuracy: 0.8706 - val_loss: 0.5217 - val_accuracy: 0.8441\n",
            "Epoch 15/30\n",
            "3200/3200 [==============================] - 6s 2ms/step - loss: 0.4111 - accuracy: 0.8717 - val_loss: 0.5221 - val_accuracy: 0.8432\n",
            "Epoch 16/30\n",
            "3200/3200 [==============================] - 6s 2ms/step - loss: 0.4066 - accuracy: 0.8741 - val_loss: 0.5215 - val_accuracy: 0.8438\n",
            "Epoch 17/30\n",
            "3200/3200 [==============================] - 6s 2ms/step - loss: 0.4028 - accuracy: 0.8750 - val_loss: 0.5298 - val_accuracy: 0.8408\n",
            "Epoch 18/30\n",
            "3200/3200 [==============================] - 6s 2ms/step - loss: 0.3989 - accuracy: 0.8757 - val_loss: 0.5268 - val_accuracy: 0.8442\n",
            "Epoch 19/30\n",
            "3200/3200 [==============================] - 6s 2ms/step - loss: 0.3955 - accuracy: 0.8770 - val_loss: 0.5339 - val_accuracy: 0.8418\n",
            "Epoch 20/30\n",
            "3200/3200 [==============================] - 6s 2ms/step - loss: 0.3920 - accuracy: 0.8775 - val_loss: 0.5304 - val_accuracy: 0.8459\n",
            "Epoch 21/30\n",
            "3200/3200 [==============================] - 6s 2ms/step - loss: 0.3903 - accuracy: 0.8785 - val_loss: 0.5298 - val_accuracy: 0.8453\n",
            "Epoch 22/30\n",
            "3200/3200 [==============================] - 6s 2ms/step - loss: 0.3866 - accuracy: 0.8797 - val_loss: 0.5324 - val_accuracy: 0.8435\n",
            "Epoch 23/30\n",
            "3200/3200 [==============================] - 6s 2ms/step - loss: 0.3842 - accuracy: 0.8796 - val_loss: 0.5473 - val_accuracy: 0.8421\n",
            "Epoch 24/30\n",
            "3200/3200 [==============================] - 6s 2ms/step - loss: 0.3816 - accuracy: 0.8812 - val_loss: 0.5751 - val_accuracy: 0.8361\n",
            "Epoch 25/30\n",
            "3200/3200 [==============================] - 6s 2ms/step - loss: 0.3792 - accuracy: 0.8825 - val_loss: 0.5364 - val_accuracy: 0.8448\n",
            "Epoch 26/30\n",
            "3200/3200 [==============================] - 6s 2ms/step - loss: 0.3775 - accuracy: 0.8810 - val_loss: 0.5653 - val_accuracy: 0.8403\n",
            "Epoch 27/30\n",
            "3200/3200 [==============================] - 7s 2ms/step - loss: 0.3741 - accuracy: 0.8827 - val_loss: 0.5507 - val_accuracy: 0.8426\n",
            "Epoch 28/30\n",
            "3200/3200 [==============================] - 6s 2ms/step - loss: 0.3720 - accuracy: 0.8841 - val_loss: 0.5453 - val_accuracy: 0.8436\n",
            "Epoch 29/30\n",
            "3200/3200 [==============================] - 7s 2ms/step - loss: 0.3716 - accuracy: 0.8825 - val_loss: 0.5592 - val_accuracy: 0.8435\n",
            "Epoch 30/30\n",
            "3200/3200 [==============================] - 6s 2ms/step - loss: 0.3686 - accuracy: 0.8843 - val_loss: 0.6277 - val_accuracy: 0.8227\n"
          ],
          "name": "stdout"
        }
      ]
    },
    {
      "cell_type": "code",
      "metadata": {
        "id": "NWORycOj31hB",
        "outputId": "3c1b0c08-7443-4df1-c16e-294bc3f66d92",
        "colab": {
          "base_uri": "https://localhost:8080/"
        }
      },
      "source": [
        "model = create_model(lr=1)\n",
        "\n",
        "lr_xl = model.fit(\n",
        "    X_train, y_train,\n",
        "    epochs=30,\n",
        "    batch_size=25,\n",
        "    validation_data=(X_test, y_test)\n",
        ")"
      ],
      "execution_count": 66,
      "outputs": [
        {
          "output_type": "stream",
          "text": [
            "Epoch 1/30\n",
            "3200/3200 [==============================] - 6s 2ms/step - loss: 1.8610 - accuracy: 0.2914 - val_loss: 1.6066 - val_accuracy: 0.4065\n",
            "Epoch 2/30\n",
            "3200/3200 [==============================] - 6s 2ms/step - loss: 1.9219 - accuracy: 0.2494 - val_loss: 1.9633 - val_accuracy: 0.1807\n",
            "Epoch 3/30\n",
            "3200/3200 [==============================] - 6s 2ms/step - loss: 1.9968 - accuracy: 0.1827 - val_loss: 1.9645 - val_accuracy: 0.1893\n",
            "Epoch 4/30\n",
            "3200/3200 [==============================] - 6s 2ms/step - loss: 1.9884 - accuracy: 0.1808 - val_loss: 1.9534 - val_accuracy: 0.1907\n",
            "Epoch 5/30\n",
            "3200/3200 [==============================] - 6s 2ms/step - loss: 1.9865 - accuracy: 0.1843 - val_loss: 1.9672 - val_accuracy: 0.1786\n",
            "Epoch 6/30\n",
            "3200/3200 [==============================] - 6s 2ms/step - loss: 1.9841 - accuracy: 0.1870 - val_loss: 1.9393 - val_accuracy: 0.2333\n",
            "Epoch 7/30\n",
            "3200/3200 [==============================] - 7s 2ms/step - loss: 1.9726 - accuracy: 0.1876 - val_loss: 1.9723 - val_accuracy: 0.1926\n",
            "Epoch 8/30\n",
            "3200/3200 [==============================] - 6s 2ms/step - loss: 1.9919 - accuracy: 0.1828 - val_loss: 1.9898 - val_accuracy: 0.1938\n",
            "Epoch 9/30\n",
            "3200/3200 [==============================] - 6s 2ms/step - loss: 1.9848 - accuracy: 0.1872 - val_loss: 1.9466 - val_accuracy: 0.1871\n",
            "Epoch 10/30\n",
            "3200/3200 [==============================] - 6s 2ms/step - loss: 1.9810 - accuracy: 0.1918 - val_loss: 2.0456 - val_accuracy: 0.1819\n",
            "Epoch 11/30\n",
            "3200/3200 [==============================] - 6s 2ms/step - loss: 2.0342 - accuracy: 0.1842 - val_loss: 1.9959 - val_accuracy: 0.1937\n",
            "Epoch 12/30\n",
            "3200/3200 [==============================] - 6s 2ms/step - loss: 2.2538 - accuracy: 0.1168 - val_loss: 2.3043 - val_accuracy: 0.1001\n",
            "Epoch 13/30\n",
            "3200/3200 [==============================] - 6s 2ms/step - loss: 2.3126 - accuracy: 0.0987 - val_loss: 2.3164 - val_accuracy: 0.0996\n",
            "Epoch 14/30\n",
            "3200/3200 [==============================] - 6s 2ms/step - loss: 2.3121 - accuracy: 0.0973 - val_loss: 2.3089 - val_accuracy: 0.0988\n",
            "Epoch 15/30\n",
            "3200/3200 [==============================] - 6s 2ms/step - loss: 2.3121 - accuracy: 0.0994 - val_loss: 2.3109 - val_accuracy: 0.0993\n",
            "Epoch 16/30\n",
            "3200/3200 [==============================] - 7s 2ms/step - loss: 2.3121 - accuracy: 0.0996 - val_loss: 2.3083 - val_accuracy: 0.0996\n",
            "Epoch 17/30\n",
            "3200/3200 [==============================] - 6s 2ms/step - loss: 2.3123 - accuracy: 0.0979 - val_loss: 2.3220 - val_accuracy: 0.1001\n",
            "Epoch 18/30\n",
            "3200/3200 [==============================] - 7s 2ms/step - loss: 2.3122 - accuracy: 0.0998 - val_loss: 2.3113 - val_accuracy: 0.1000\n",
            "Epoch 19/30\n",
            "3200/3200 [==============================] - 7s 2ms/step - loss: 2.3122 - accuracy: 0.0994 - val_loss: 2.3180 - val_accuracy: 0.1019\n",
            "Epoch 20/30\n",
            "3200/3200 [==============================] - 7s 2ms/step - loss: 2.3120 - accuracy: 0.1000 - val_loss: 2.3138 - val_accuracy: 0.0993\n",
            "Epoch 21/30\n",
            "3200/3200 [==============================] - 7s 2ms/step - loss: 2.3125 - accuracy: 0.0988 - val_loss: 2.3093 - val_accuracy: 0.0988\n",
            "Epoch 22/30\n",
            "3200/3200 [==============================] - 6s 2ms/step - loss: 2.3119 - accuracy: 0.1011 - val_loss: 2.3142 - val_accuracy: 0.0993\n",
            "Epoch 23/30\n",
            "3200/3200 [==============================] - 6s 2ms/step - loss: 2.3119 - accuracy: 0.1015 - val_loss: 2.3139 - val_accuracy: 0.0993\n",
            "Epoch 24/30\n",
            "3200/3200 [==============================] - 7s 2ms/step - loss: 2.3121 - accuracy: 0.0989 - val_loss: 2.3125 - val_accuracy: 0.1002\n",
            "Epoch 25/30\n",
            "3200/3200 [==============================] - 7s 2ms/step - loss: 2.3124 - accuracy: 0.0994 - val_loss: 2.3081 - val_accuracy: 0.1001\n",
            "Epoch 26/30\n",
            "3200/3200 [==============================] - 7s 2ms/step - loss: 2.3121 - accuracy: 0.0992 - val_loss: 2.3080 - val_accuracy: 0.1006\n",
            "Epoch 27/30\n",
            "3200/3200 [==============================] - 7s 2ms/step - loss: 2.3122 - accuracy: 0.1003 - val_loss: 2.3262 - val_accuracy: 0.1001\n",
            "Epoch 28/30\n",
            "3200/3200 [==============================] - 7s 2ms/step - loss: 2.3119 - accuracy: 0.1015 - val_loss: 2.3105 - val_accuracy: 0.0996\n",
            "Epoch 29/30\n",
            "3200/3200 [==============================] - 7s 2ms/step - loss: 2.3121 - accuracy: 0.1005 - val_loss: 2.3098 - val_accuracy: 0.0988\n",
            "Epoch 30/30\n",
            "3200/3200 [==============================] - 7s 2ms/step - loss: 2.3125 - accuracy: 0.0998 - val_loss: 2.3053 - val_accuracy: 0.0993\n"
          ],
          "name": "stdout"
        }
      ]
    },
    {
      "cell_type": "code",
      "metadata": {
        "id": "gKqutKrB5Qzj",
        "outputId": "2115df6b-d4d6-4cbe-ec7a-b0850d3bd90a",
        "colab": {
          "base_uri": "https://localhost:8080/",
          "height": 519
        }
      },
      "source": [
        "batch_sizes = []\n",
        "for exp, result in zip([bt_default,\n",
        "                        lr_sm,\n",
        "                        lr_md,\n",
        "                        lr_lrg,\n",
        "                        lr_xl,],\n",
        "                       [\"0.01_\", \"0.0001_\",\n",
        "                        \"0.001_\", \"0.1_\", \"1_\"]):\n",
        "    df = pd.DataFrame.from_dict(exp.history)\n",
        "    df['epoch'] = df.index.values\n",
        "    df['Learning Rate'] = result\n",
        "    batch_sizes.append(df)\n",
        "df = pd.concat(batch_sizes)\n",
        "df['Learning Rate'] = df['Learning Rate'].astype('str')\n",
        "df.head()\n",
        "\n",
        "sns.set(rc={'figure.figsize':(15,8)})\n",
        "sns.lineplot(x='epoch', y='val_accuracy', hue='Learning Rate', data=df)"
      ],
      "execution_count": 69,
      "outputs": [
        {
          "output_type": "execute_result",
          "data": {
            "text/plain": [
              "<matplotlib.axes._subplots.AxesSubplot at 0x7fcd7f0d4748>"
            ]
          },
          "metadata": {
            "tags": []
          },
          "execution_count": 69
        },
        {
          "output_type": "display_data",
          "data": {
            "image/png": "[encoded data removed]",
            "text/plain": [
              "<Figure size 1080x576 with 1 Axes>"
            ]
          },
          "metadata": {
            "tags": []
          }
        }
      ]
    },
    {
      "cell_type": "code",
      "metadata": {
        "id": "AtuGDFnhXphD"
      },
      "source": [
        ""
      ],
      "execution_count": null,
      "outputs": []
    },
    {
      "cell_type": "markdown",
      "metadata": {
        "id": "gxMtSRhV9Q7I"
      },
      "source": [
        "\n",
        "### Experiment with different Optimizers\n",
        "* Run 5 experiments with various optimizers available in TensorFlow. See list [here](https://www.tensorflow.org/api_docs/python/tf/keras/optimizers)\n",
        "* Visualize the results\n",
        "* Write up an analysis of the experiments and select the \"best\" performing model among your experiments. Make sure to compare against the previous experiments and your model's performance yesterday.\n",
        "* Repeat the experiment combining Learning Rate and different optimizers. Does the best performing model change? "
      ]
    },
    {
      "cell_type": "code",
      "metadata": {
        "id": "ujLuzdNA91ip",
        "outputId": "5e5b2b91-364a-4961-d419-874efb5d2be9",
        "colab": {
          "base_uri": "https://localhost:8080/"
        }
      },
      "source": [
        "model = create_model()\n",
        "\n",
        "op_default = model.fit(\n",
        "    X_train, y_train,\n",
        "    epochs=27,\n",
        "    batch_size=25,\n",
        "    validation_data=(X_test, y_test)\n",
        ")"
      ],
      "execution_count": 24,
      "outputs": [
        {
          "output_type": "stream",
          "text": [
            "Epoch 1/27\n",
            "3200/3200 [==============================] - 7s 2ms/step - loss: 1.1158 - accuracy: 0.6574 - val_loss: 0.8189 - val_accuracy: 0.7577\n",
            "Epoch 2/27\n",
            "3200/3200 [==============================] - 6s 2ms/step - loss: 0.7720 - accuracy: 0.7732 - val_loss: 0.7323 - val_accuracy: 0.7879\n",
            "Epoch 3/27\n",
            "3200/3200 [==============================] - 6s 2ms/step - loss: 0.6968 - accuracy: 0.7964 - val_loss: 0.6779 - val_accuracy: 0.8009\n",
            "Epoch 4/27\n",
            "3200/3200 [==============================] - 7s 2ms/step - loss: 0.6480 - accuracy: 0.8097 - val_loss: 0.6375 - val_accuracy: 0.8113\n",
            "Epoch 5/27\n",
            "3200/3200 [==============================] - 6s 2ms/step - loss: 0.6134 - accuracy: 0.8182 - val_loss: 0.6227 - val_accuracy: 0.8145\n",
            "Epoch 6/27\n",
            "3200/3200 [==============================] - 7s 2ms/step - loss: 0.5865 - accuracy: 0.8255 - val_loss: 0.6021 - val_accuracy: 0.8201\n",
            "Epoch 7/27\n",
            "3200/3200 [==============================] - 8s 2ms/step - loss: 0.5651 - accuracy: 0.8324 - val_loss: 0.5793 - val_accuracy: 0.8274\n",
            "Epoch 8/27\n",
            "3200/3200 [==============================] - 7s 2ms/step - loss: 0.5475 - accuracy: 0.8371 - val_loss: 0.5711 - val_accuracy: 0.8288\n",
            "Epoch 9/27\n",
            "3200/3200 [==============================] - 6s 2ms/step - loss: 0.5332 - accuracy: 0.8408 - val_loss: 0.5629 - val_accuracy: 0.8325\n",
            "Epoch 10/27\n",
            "3200/3200 [==============================] - 7s 2ms/step - loss: 0.5197 - accuracy: 0.8451 - val_loss: 0.5604 - val_accuracy: 0.8312\n",
            "Epoch 11/27\n",
            "3200/3200 [==============================] - 7s 2ms/step - loss: 0.5085 - accuracy: 0.8480 - val_loss: 0.5501 - val_accuracy: 0.8353\n",
            "Epoch 12/27\n",
            "3200/3200 [==============================] - 6s 2ms/step - loss: 0.4986 - accuracy: 0.8512 - val_loss: 0.5432 - val_accuracy: 0.8376\n",
            "Epoch 13/27\n",
            "3200/3200 [==============================] - 6s 2ms/step - loss: 0.4905 - accuracy: 0.8533 - val_loss: 0.5430 - val_accuracy: 0.8360\n",
            "Epoch 14/27\n",
            "3200/3200 [==============================] - 7s 2ms/step - loss: 0.4823 - accuracy: 0.8558 - val_loss: 0.5382 - val_accuracy: 0.8371\n",
            "Epoch 15/27\n",
            "3200/3200 [==============================] - 7s 2ms/step - loss: 0.4751 - accuracy: 0.8578 - val_loss: 0.5409 - val_accuracy: 0.8368\n",
            "Epoch 16/27\n",
            "3200/3200 [==============================] - 7s 2ms/step - loss: 0.4682 - accuracy: 0.8600 - val_loss: 0.5307 - val_accuracy: 0.8403\n",
            "Epoch 17/27\n",
            "3200/3200 [==============================] - 7s 2ms/step - loss: 0.4624 - accuracy: 0.8620 - val_loss: 0.5278 - val_accuracy: 0.8427\n",
            "Epoch 18/27\n",
            "3200/3200 [==============================] - 7s 2ms/step - loss: 0.4566 - accuracy: 0.8633 - val_loss: 0.5331 - val_accuracy: 0.8422\n",
            "Epoch 19/27\n",
            "3200/3200 [==============================] - 7s 2ms/step - loss: 0.4518 - accuracy: 0.8640 - val_loss: 0.5267 - val_accuracy: 0.8429\n",
            "Epoch 20/27\n",
            "3200/3200 [==============================] - 7s 2ms/step - loss: 0.4470 - accuracy: 0.8674 - val_loss: 0.5256 - val_accuracy: 0.8421\n",
            "Epoch 21/27\n",
            "3200/3200 [==============================] - 7s 2ms/step - loss: 0.4417 - accuracy: 0.8681 - val_loss: 0.5289 - val_accuracy: 0.8426\n",
            "Epoch 22/27\n",
            "3200/3200 [==============================] - 7s 2ms/step - loss: 0.4376 - accuracy: 0.8689 - val_loss: 0.5169 - val_accuracy: 0.8464\n",
            "Epoch 23/27\n",
            "3200/3200 [==============================] - 7s 2ms/step - loss: 0.4337 - accuracy: 0.8712 - val_loss: 0.5200 - val_accuracy: 0.8453\n",
            "Epoch 24/27\n",
            "3200/3200 [==============================] - 7s 2ms/step - loss: 0.4298 - accuracy: 0.8714 - val_loss: 0.5227 - val_accuracy: 0.8436\n",
            "Epoch 25/27\n",
            "3200/3200 [==============================] - 6s 2ms/step - loss: 0.4258 - accuracy: 0.8721 - val_loss: 0.5227 - val_accuracy: 0.8450\n",
            "Epoch 26/27\n",
            "3200/3200 [==============================] - 7s 2ms/step - loss: 0.4225 - accuracy: 0.8746 - val_loss: 0.5189 - val_accuracy: 0.8444\n",
            "Epoch 27/27\n",
            "3200/3200 [==============================] - 7s 2ms/step - loss: 0.4194 - accuracy: 0.8741 - val_loss: 0.5154 - val_accuracy: 0.8470\n"
          ],
          "name": "stdout"
        }
      ]
    },
    {
      "cell_type": "code",
      "metadata": {
        "id": "BkkR2LxOYOvH",
        "outputId": "efe1c011-2e49-4738-b30b-9b7db65f4097",
        "colab": {
          "base_uri": "https://localhost:8080/"
        }
      },
      "source": [
        "model = create_model(opt=optimizers.Adam)\n",
        "\n",
        "op_adam = model.fit(\n",
        "    X_train, y_train,\n",
        "    epochs=27,\n",
        "    batch_size=25,\n",
        "    validation_data=(X_test, y_test)\n",
        ")"
      ],
      "execution_count": 25,
      "outputs": [
        {
          "output_type": "stream",
          "text": [
            "Epoch 1/27\n",
            "3200/3200 [==============================] - 7s 2ms/step - loss: 0.7731 - accuracy: 0.7649 - val_loss: 0.7471 - val_accuracy: 0.7818\n",
            "Epoch 2/27\n",
            "3200/3200 [==============================] - 7s 2ms/step - loss: 0.6670 - accuracy: 0.8006 - val_loss: 0.6788 - val_accuracy: 0.8019\n",
            "Epoch 3/27\n",
            "3200/3200 [==============================] - 7s 2ms/step - loss: 0.6406 - accuracy: 0.8094 - val_loss: 0.6736 - val_accuracy: 0.7993\n",
            "Epoch 4/27\n",
            "3200/3200 [==============================] - 7s 2ms/step - loss: 0.6221 - accuracy: 0.8161 - val_loss: 0.6436 - val_accuracy: 0.8076\n",
            "Epoch 5/27\n",
            "3200/3200 [==============================] - 7s 2ms/step - loss: 0.6069 - accuracy: 0.8209 - val_loss: 0.6321 - val_accuracy: 0.8192\n",
            "Epoch 6/27\n",
            "3200/3200 [==============================] - 7s 2ms/step - loss: 0.5964 - accuracy: 0.8227 - val_loss: 0.6437 - val_accuracy: 0.8137\n",
            "Epoch 7/27\n",
            "3200/3200 [==============================] - 7s 2ms/step - loss: 0.5917 - accuracy: 0.8266 - val_loss: 0.6290 - val_accuracy: 0.8199\n",
            "Epoch 8/27\n",
            "3200/3200 [==============================] - 7s 2ms/step - loss: 0.5807 - accuracy: 0.8284 - val_loss: 0.6722 - val_accuracy: 0.8125\n",
            "Epoch 9/27\n",
            "3200/3200 [==============================] - 7s 2ms/step - loss: 0.5782 - accuracy: 0.8279 - val_loss: 0.6419 - val_accuracy: 0.8164\n",
            "Epoch 10/27\n",
            "3200/3200 [==============================] - 7s 2ms/step - loss: 0.5728 - accuracy: 0.8304 - val_loss: 0.6512 - val_accuracy: 0.8133\n",
            "Epoch 11/27\n",
            "3200/3200 [==============================] - 7s 2ms/step - loss: 0.5644 - accuracy: 0.8330 - val_loss: 0.6361 - val_accuracy: 0.8212\n",
            "Epoch 12/27\n",
            "3200/3200 [==============================] - 7s 2ms/step - loss: 0.5615 - accuracy: 0.8335 - val_loss: 0.6792 - val_accuracy: 0.8079\n",
            "Epoch 13/27\n",
            "3200/3200 [==============================] - 7s 2ms/step - loss: 0.5551 - accuracy: 0.8354 - val_loss: 0.6944 - val_accuracy: 0.8109\n",
            "Epoch 14/27\n",
            "3200/3200 [==============================] - 7s 2ms/step - loss: 0.5496 - accuracy: 0.8358 - val_loss: 0.6542 - val_accuracy: 0.8181\n",
            "Epoch 15/27\n",
            "3200/3200 [==============================] - 7s 2ms/step - loss: 0.5498 - accuracy: 0.8371 - val_loss: 0.6508 - val_accuracy: 0.8205\n",
            "Epoch 16/27\n",
            "3200/3200 [==============================] - 7s 2ms/step - loss: 0.5459 - accuracy: 0.8390 - val_loss: 0.6750 - val_accuracy: 0.8123\n",
            "Epoch 17/27\n",
            "3200/3200 [==============================] - 7s 2ms/step - loss: 0.5449 - accuracy: 0.8378 - val_loss: 0.6941 - val_accuracy: 0.8128\n",
            "Epoch 18/27\n",
            "3200/3200 [==============================] - 7s 2ms/step - loss: 0.5390 - accuracy: 0.8396 - val_loss: 0.6782 - val_accuracy: 0.8107\n",
            "Epoch 19/27\n",
            "3200/3200 [==============================] - 7s 2ms/step - loss: 0.5392 - accuracy: 0.8404 - val_loss: 0.6728 - val_accuracy: 0.8147\n",
            "Epoch 20/27\n",
            "3200/3200 [==============================] - 7s 2ms/step - loss: 0.5337 - accuracy: 0.8416 - val_loss: 0.6786 - val_accuracy: 0.8063\n",
            "Epoch 21/27\n",
            "3200/3200 [==============================] - 7s 2ms/step - loss: 0.5379 - accuracy: 0.8398 - val_loss: 0.6808 - val_accuracy: 0.8123\n",
            "Epoch 22/27\n",
            "3200/3200 [==============================] - 7s 2ms/step - loss: 0.5307 - accuracy: 0.8428 - val_loss: 0.6942 - val_accuracy: 0.8145\n",
            "Epoch 23/27\n",
            "3200/3200 [==============================] - 7s 2ms/step - loss: 0.5334 - accuracy: 0.8416 - val_loss: 0.7157 - val_accuracy: 0.8097\n",
            "Epoch 24/27\n",
            "3200/3200 [==============================] - 7s 2ms/step - loss: 0.5324 - accuracy: 0.8420 - val_loss: 0.7138 - val_accuracy: 0.8036\n",
            "Epoch 25/27\n",
            "3200/3200 [==============================] - 8s 2ms/step - loss: 0.5254 - accuracy: 0.8436 - val_loss: 0.6639 - val_accuracy: 0.8146\n",
            "Epoch 26/27\n",
            "3200/3200 [==============================] - 7s 2ms/step - loss: 0.5276 - accuracy: 0.8432 - val_loss: 0.7067 - val_accuracy: 0.8123\n",
            "Epoch 27/27\n",
            "3200/3200 [==============================] - 7s 2ms/step - loss: 0.5253 - accuracy: 0.8433 - val_loss: 0.7022 - val_accuracy: 0.8130\n"
          ],
          "name": "stdout"
        }
      ]
    },
    {
      "cell_type": "code",
      "metadata": {
        "id": "aNZw6NqLYPZ-",
        "outputId": "b68ba283-5dd3-40ec-f8f8-fbc671fafdd2",
        "colab": {
          "base_uri": "https://localhost:8080/"
        }
      },
      "source": [
        "model = create_model(opt=optimizers.Adamax)\n",
        "\n",
        "op_adamax = model.fit(\n",
        "    X_train, y_train,\n",
        "    epochs=27,\n",
        "    batch_size=25,\n",
        "    validation_data=(X_test, y_test)\n",
        ")"
      ],
      "execution_count": 26,
      "outputs": [
        {
          "output_type": "stream",
          "text": [
            "Epoch 1/27\n",
            "3200/3200 [==============================] - 7s 2ms/step - loss: 0.7177 - accuracy: 0.7823 - val_loss: 0.6084 - val_accuracy: 0.8144\n",
            "Epoch 2/27\n",
            "3200/3200 [==============================] - 7s 2ms/step - loss: 0.5660 - accuracy: 0.8295 - val_loss: 0.5453 - val_accuracy: 0.8347\n",
            "Epoch 3/27\n",
            "3200/3200 [==============================] - 7s 2ms/step - loss: 0.5293 - accuracy: 0.8400 - val_loss: 0.5297 - val_accuracy: 0.8361\n",
            "Epoch 4/27\n",
            "3200/3200 [==============================] - 7s 2ms/step - loss: 0.5033 - accuracy: 0.8483 - val_loss: 0.5396 - val_accuracy: 0.8376\n",
            "Epoch 5/27\n",
            "3200/3200 [==============================] - 7s 2ms/step - loss: 0.4873 - accuracy: 0.8515 - val_loss: 0.5155 - val_accuracy: 0.8439\n",
            "Epoch 6/27\n",
            "3200/3200 [==============================] - 7s 2ms/step - loss: 0.4727 - accuracy: 0.8564 - val_loss: 0.5151 - val_accuracy: 0.8472\n",
            "Epoch 7/27\n",
            "3200/3200 [==============================] - 7s 2ms/step - loss: 0.4622 - accuracy: 0.8603 - val_loss: 0.5153 - val_accuracy: 0.8453\n",
            "Epoch 8/27\n",
            "3200/3200 [==============================] - 7s 2ms/step - loss: 0.4516 - accuracy: 0.8632 - val_loss: 0.5353 - val_accuracy: 0.8417\n",
            "Epoch 9/27\n",
            "3200/3200 [==============================] - 7s 2ms/step - loss: 0.4438 - accuracy: 0.8642 - val_loss: 0.5238 - val_accuracy: 0.8417\n",
            "Epoch 10/27\n",
            "3200/3200 [==============================] - 7s 2ms/step - loss: 0.4372 - accuracy: 0.8672 - val_loss: 0.5129 - val_accuracy: 0.8450\n",
            "Epoch 11/27\n",
            "3200/3200 [==============================] - 7s 2ms/step - loss: 0.4298 - accuracy: 0.8699 - val_loss: 0.5112 - val_accuracy: 0.8470\n",
            "Epoch 12/27\n",
            "3200/3200 [==============================] - 7s 2ms/step - loss: 0.4253 - accuracy: 0.8710 - val_loss: 0.5290 - val_accuracy: 0.8431\n",
            "Epoch 13/27\n",
            "3200/3200 [==============================] - 7s 2ms/step - loss: 0.4192 - accuracy: 0.8717 - val_loss: 0.5120 - val_accuracy: 0.8478\n",
            "Epoch 14/27\n",
            "3200/3200 [==============================] - 7s 2ms/step - loss: 0.4140 - accuracy: 0.8729 - val_loss: 0.5227 - val_accuracy: 0.8462\n",
            "Epoch 15/27\n",
            "3200/3200 [==============================] - 7s 2ms/step - loss: 0.4104 - accuracy: 0.8744 - val_loss: 0.5290 - val_accuracy: 0.8459\n",
            "Epoch 16/27\n",
            "3200/3200 [==============================] - 7s 2ms/step - loss: 0.4060 - accuracy: 0.8769 - val_loss: 0.5452 - val_accuracy: 0.8425\n",
            "Epoch 17/27\n",
            "3200/3200 [==============================] - 7s 2ms/step - loss: 0.4028 - accuracy: 0.8770 - val_loss: 0.5456 - val_accuracy: 0.8451\n",
            "Epoch 18/27\n",
            "3200/3200 [==============================] - 7s 2ms/step - loss: 0.3982 - accuracy: 0.8779 - val_loss: 0.5379 - val_accuracy: 0.8402\n",
            "Epoch 19/27\n",
            "3200/3200 [==============================] - 7s 2ms/step - loss: 0.3953 - accuracy: 0.8783 - val_loss: 0.5330 - val_accuracy: 0.8437\n",
            "Epoch 20/27\n",
            "3200/3200 [==============================] - 7s 2ms/step - loss: 0.3904 - accuracy: 0.8810 - val_loss: 0.5546 - val_accuracy: 0.8385\n",
            "Epoch 21/27\n",
            "3200/3200 [==============================] - 7s 2ms/step - loss: 0.3886 - accuracy: 0.8807 - val_loss: 0.5399 - val_accuracy: 0.8429\n",
            "Epoch 22/27\n",
            "3200/3200 [==============================] - 7s 2ms/step - loss: 0.3853 - accuracy: 0.8807 - val_loss: 0.5373 - val_accuracy: 0.8455\n",
            "Epoch 23/27\n",
            "3200/3200 [==============================] - 7s 2ms/step - loss: 0.3816 - accuracy: 0.8823 - val_loss: 0.5392 - val_accuracy: 0.8439\n",
            "Epoch 24/27\n",
            "3200/3200 [==============================] - 7s 2ms/step - loss: 0.3805 - accuracy: 0.8835 - val_loss: 0.5422 - val_accuracy: 0.8431\n",
            "Epoch 25/27\n",
            "3200/3200 [==============================] - 7s 2ms/step - loss: 0.3786 - accuracy: 0.8834 - val_loss: 0.5488 - val_accuracy: 0.8451\n",
            "Epoch 26/27\n",
            "3200/3200 [==============================] - 7s 2ms/step - loss: 0.3753 - accuracy: 0.8846 - val_loss: 0.5510 - val_accuracy: 0.8419\n",
            "Epoch 27/27\n",
            "3200/3200 [==============================] - 7s 2ms/step - loss: 0.3723 - accuracy: 0.8848 - val_loss: 0.5525 - val_accuracy: 0.8421\n"
          ],
          "name": "stdout"
        }
      ]
    },
    {
      "cell_type": "code",
      "metadata": {
        "id": "8emtXaI2YPoA",
        "outputId": "c4a6de1a-46f4-466f-b618-2f9f1b1b4335",
        "colab": {
          "base_uri": "https://localhost:8080/"
        }
      },
      "source": [
        "model = create_model(opt=optimizers.Ftrl)\n",
        "\n",
        "op_ftrl = model.fit(\n",
        "    X_train, y_train,\n",
        "    epochs=27,\n",
        "    batch_size=25,\n",
        "    validation_data=(X_test, y_test)\n",
        ")"
      ],
      "execution_count": 23,
      "outputs": [
        {
          "output_type": "stream",
          "text": [
            "Epoch 1/27\n",
            "3200/3200 [==============================] - 7s 2ms/step - loss: 2.3027 - accuracy: 0.0984 - val_loss: 2.3026 - val_accuracy: 0.0988\n",
            "Epoch 2/27\n",
            "3200/3200 [==============================] - 7s 2ms/step - loss: 2.3026 - accuracy: 0.0983 - val_loss: 2.3026 - val_accuracy: 0.0988\n",
            "Epoch 3/27\n",
            "3200/3200 [==============================] - 7s 2ms/step - loss: 2.3026 - accuracy: 0.0983 - val_loss: 2.3024 - val_accuracy: 0.0992\n",
            "Epoch 4/27\n",
            "3200/3200 [==============================] - 7s 2ms/step - loss: 2.0187 - accuracy: 0.2199 - val_loss: 1.7124 - val_accuracy: 0.3345\n",
            "Epoch 5/27\n",
            "3200/3200 [==============================] - 6s 2ms/step - loss: 1.4533 - accuracy: 0.4409 - val_loss: 1.2669 - val_accuracy: 0.5481\n",
            "Epoch 6/27\n",
            "3200/3200 [==============================] - 7s 2ms/step - loss: 1.1559 - accuracy: 0.6062 - val_loss: 1.0602 - val_accuracy: 0.6615\n",
            "Epoch 7/27\n",
            "3200/3200 [==============================] - 7s 2ms/step - loss: 1.0019 - accuracy: 0.6995 - val_loss: 0.9426 - val_accuracy: 0.7200\n",
            "Epoch 8/27\n",
            "3200/3200 [==============================] - 7s 2ms/step - loss: 0.9092 - accuracy: 0.7312 - val_loss: 0.8616 - val_accuracy: 0.7444\n",
            "Epoch 9/27\n",
            "3200/3200 [==============================] - 7s 2ms/step - loss: 0.8418 - accuracy: 0.7529 - val_loss: 0.8194 - val_accuracy: 0.7585\n",
            "Epoch 10/27\n",
            "3200/3200 [==============================] - 6s 2ms/step - loss: 0.8067 - accuracy: 0.7630 - val_loss: 0.7905 - val_accuracy: 0.7685\n",
            "Epoch 11/27\n",
            "3200/3200 [==============================] - 7s 2ms/step - loss: 0.7792 - accuracy: 0.7704 - val_loss: 0.7682 - val_accuracy: 0.7727\n",
            "Epoch 12/27\n",
            "3200/3200 [==============================] - 7s 2ms/step - loss: 0.7561 - accuracy: 0.7769 - val_loss: 0.7462 - val_accuracy: 0.7813\n",
            "Epoch 13/27\n",
            "3200/3200 [==============================] - 7s 2ms/step - loss: 0.7338 - accuracy: 0.7844 - val_loss: 0.7270 - val_accuracy: 0.7850\n",
            "Epoch 14/27\n",
            "3200/3200 [==============================] - 7s 2ms/step - loss: 0.7141 - accuracy: 0.7901 - val_loss: 0.7111 - val_accuracy: 0.7900\n",
            "Epoch 15/27\n",
            "3200/3200 [==============================] - 7s 2ms/step - loss: 0.6966 - accuracy: 0.7958 - val_loss: 0.6969 - val_accuracy: 0.7964\n",
            "Epoch 16/27\n",
            "3200/3200 [==============================] - 7s 2ms/step - loss: 0.6819 - accuracy: 0.8004 - val_loss: 0.6864 - val_accuracy: 0.7983\n",
            "Epoch 17/27\n",
            "3200/3200 [==============================] - 6s 2ms/step - loss: 0.6704 - accuracy: 0.8038 - val_loss: 0.6778 - val_accuracy: 0.8014\n",
            "Epoch 18/27\n",
            "3200/3200 [==============================] - 6s 2ms/step - loss: 0.6608 - accuracy: 0.8068 - val_loss: 0.6713 - val_accuracy: 0.8013\n",
            "Epoch 19/27\n",
            "3200/3200 [==============================] - 7s 2ms/step - loss: 0.6529 - accuracy: 0.8095 - val_loss: 0.6660 - val_accuracy: 0.8034\n",
            "Epoch 20/27\n",
            "3200/3200 [==============================] - 7s 2ms/step - loss: 0.6463 - accuracy: 0.8111 - val_loss: 0.6599 - val_accuracy: 0.8060\n",
            "Epoch 21/27\n",
            "3200/3200 [==============================] - 7s 2ms/step - loss: 0.6406 - accuracy: 0.8128 - val_loss: 0.6554 - val_accuracy: 0.8067\n",
            "Epoch 22/27\n",
            "3200/3200 [==============================] - 7s 2ms/step - loss: 0.6353 - accuracy: 0.8145 - val_loss: 0.6524 - val_accuracy: 0.8080\n",
            "Epoch 23/27\n",
            "3200/3200 [==============================] - 6s 2ms/step - loss: 0.6308 - accuracy: 0.8159 - val_loss: 0.6484 - val_accuracy: 0.8102\n",
            "Epoch 24/27\n",
            "3200/3200 [==============================] - 6s 2ms/step - loss: 0.6265 - accuracy: 0.8172 - val_loss: 0.6459 - val_accuracy: 0.8097\n",
            "Epoch 25/27\n",
            "3200/3200 [==============================] - 7s 2ms/step - loss: 0.6226 - accuracy: 0.8187 - val_loss: 0.6438 - val_accuracy: 0.8108\n",
            "Epoch 26/27\n",
            "3200/3200 [==============================] - 7s 2ms/step - loss: 0.6190 - accuracy: 0.8193 - val_loss: 0.6415 - val_accuracy: 0.8130\n",
            "Epoch 27/27\n",
            "3200/3200 [==============================] - 7s 2ms/step - loss: 0.6157 - accuracy: 0.8203 - val_loss: 0.6397 - val_accuracy: 0.8115\n"
          ],
          "name": "stdout"
        }
      ]
    },
    {
      "cell_type": "code",
      "metadata": {
        "id": "cBycrZEVYP59",
        "outputId": "85b7b5e3-f6b9-48de-f7e1-848d8deeae5c",
        "colab": {
          "base_uri": "https://localhost:8080/"
        }
      },
      "source": [
        "model = create_model(opt=optimizers.Adagrad)\n",
        "\n",
        "op_adagrad = model.fit(\n",
        "    X_train, y_train,\n",
        "    epochs=27,\n",
        "    batch_size=25,\n",
        "    validation_data=(X_test, y_test)\n",
        ")"
      ],
      "execution_count": 22,
      "outputs": [
        {
          "output_type": "stream",
          "text": [
            "Epoch 1/27\n",
            "3200/3200 [==============================] - 7s 2ms/step - loss: 0.9143 - accuracy: 0.7288 - val_loss: 0.7401 - val_accuracy: 0.7850\n",
            "Epoch 2/27\n",
            "3200/3200 [==============================] - 6s 2ms/step - loss: 0.7074 - accuracy: 0.7956 - val_loss: 0.6827 - val_accuracy: 0.8024\n",
            "Epoch 3/27\n",
            "3200/3200 [==============================] - 7s 2ms/step - loss: 0.6585 - accuracy: 0.8088 - val_loss: 0.6552 - val_accuracy: 0.8109\n",
            "Epoch 4/27\n",
            "3200/3200 [==============================] - 7s 2ms/step - loss: 0.6303 - accuracy: 0.8168 - val_loss: 0.6336 - val_accuracy: 0.8149\n",
            "Epoch 5/27\n",
            "3200/3200 [==============================] - 6s 2ms/step - loss: 0.6093 - accuracy: 0.8217 - val_loss: 0.6190 - val_accuracy: 0.8195\n",
            "Epoch 6/27\n",
            "3200/3200 [==============================] - 6s 2ms/step - loss: 0.5928 - accuracy: 0.8264 - val_loss: 0.6089 - val_accuracy: 0.8216\n",
            "Epoch 7/27\n",
            "3200/3200 [==============================] - 6s 2ms/step - loss: 0.5795 - accuracy: 0.8305 - val_loss: 0.5986 - val_accuracy: 0.8256\n",
            "Epoch 8/27\n",
            "3200/3200 [==============================] - 7s 2ms/step - loss: 0.5682 - accuracy: 0.8336 - val_loss: 0.5909 - val_accuracy: 0.8260\n",
            "Epoch 9/27\n",
            "3200/3200 [==============================] - 7s 2ms/step - loss: 0.5586 - accuracy: 0.8358 - val_loss: 0.5854 - val_accuracy: 0.8286\n",
            "Epoch 10/27\n",
            "3200/3200 [==============================] - 6s 2ms/step - loss: 0.5501 - accuracy: 0.8394 - val_loss: 0.5796 - val_accuracy: 0.8285\n",
            "Epoch 11/27\n",
            "3200/3200 [==============================] - 6s 2ms/step - loss: 0.5426 - accuracy: 0.8408 - val_loss: 0.5754 - val_accuracy: 0.8290\n",
            "Epoch 12/27\n",
            "3200/3200 [==============================] - 6s 2ms/step - loss: 0.5357 - accuracy: 0.8433 - val_loss: 0.5708 - val_accuracy: 0.8311\n",
            "Epoch 13/27\n",
            "3200/3200 [==============================] - 6s 2ms/step - loss: 0.5297 - accuracy: 0.8448 - val_loss: 0.5675 - val_accuracy: 0.8321\n",
            "Epoch 14/27\n",
            "3200/3200 [==============================] - 7s 2ms/step - loss: 0.5243 - accuracy: 0.8463 - val_loss: 0.5637 - val_accuracy: 0.8328\n",
            "Epoch 15/27\n",
            "3200/3200 [==============================] - 7s 2ms/step - loss: 0.5194 - accuracy: 0.8479 - val_loss: 0.5619 - val_accuracy: 0.8330\n",
            "Epoch 16/27\n",
            "3200/3200 [==============================] - 7s 2ms/step - loss: 0.5147 - accuracy: 0.8494 - val_loss: 0.5567 - val_accuracy: 0.8356\n",
            "Epoch 17/27\n",
            "3200/3200 [==============================] - 7s 2ms/step - loss: 0.5103 - accuracy: 0.8501 - val_loss: 0.5551 - val_accuracy: 0.8339\n",
            "Epoch 18/27\n",
            "3200/3200 [==============================] - 7s 2ms/step - loss: 0.5063 - accuracy: 0.8516 - val_loss: 0.5546 - val_accuracy: 0.8361\n",
            "Epoch 19/27\n",
            "3200/3200 [==============================] - 7s 2ms/step - loss: 0.5029 - accuracy: 0.8528 - val_loss: 0.5505 - val_accuracy: 0.8367\n",
            "Epoch 20/27\n",
            "3200/3200 [==============================] - 6s 2ms/step - loss: 0.4993 - accuracy: 0.8534 - val_loss: 0.5492 - val_accuracy: 0.8363\n",
            "Epoch 21/27\n",
            "3200/3200 [==============================] - 7s 2ms/step - loss: 0.4959 - accuracy: 0.8544 - val_loss: 0.5476 - val_accuracy: 0.8378\n",
            "Epoch 22/27\n",
            "3200/3200 [==============================] - 6s 2ms/step - loss: 0.4930 - accuracy: 0.8551 - val_loss: 0.5454 - val_accuracy: 0.8381\n",
            "Epoch 23/27\n",
            "3200/3200 [==============================] - 7s 2ms/step - loss: 0.4900 - accuracy: 0.8560 - val_loss: 0.5449 - val_accuracy: 0.8378\n",
            "Epoch 24/27\n",
            "3200/3200 [==============================] - 7s 2ms/step - loss: 0.4873 - accuracy: 0.8570 - val_loss: 0.5425 - val_accuracy: 0.8382\n",
            "Epoch 25/27\n",
            "3200/3200 [==============================] - 8s 2ms/step - loss: 0.4846 - accuracy: 0.8574 - val_loss: 0.5415 - val_accuracy: 0.8392\n",
            "Epoch 26/27\n",
            "3200/3200 [==============================] - 7s 2ms/step - loss: 0.4824 - accuracy: 0.8580 - val_loss: 0.5402 - val_accuracy: 0.8401\n",
            "Epoch 27/27\n",
            "3200/3200 [==============================] - 7s 2ms/step - loss: 0.4799 - accuracy: 0.8587 - val_loss: 0.5392 - val_accuracy: 0.8412\n"
          ],
          "name": "stdout"
        }
      ]
    },
    {
      "cell_type": "code",
      "metadata": {
        "id": "HZ6MMRoQgAHO",
        "outputId": "6e5c5aa3-23ff-4322-c56a-3ac550f2c93b",
        "colab": {
          "base_uri": "https://localhost:8080/",
          "height": 519
        }
      },
      "source": [
        "batch_sizes = []\n",
        "for exp, result in zip([op_default,\n",
        "                        op_adam,\n",
        "                        op_adamax,\n",
        "                        op_ftrl,\n",
        "                        op_adagrad,],\n",
        "                       [\"SGD\", \"Adam\",\n",
        "                        \"Adamax\", \"Ftrl\", \"Adagrad\"]):\n",
        "    df = pd.DataFrame.from_dict(exp.history)\n",
        "    df['epoch'] = df.index.values\n",
        "    df['Optimizer'] = result\n",
        "    batch_sizes.append(df)\n",
        "df = pd.concat(batch_sizes)\n",
        "df['Optimizer'] = df['Optimizer'].astype('str')\n",
        "df.head()\n",
        "\n",
        "sns.set(rc={'figure.figsize':(15,8)})\n",
        "sns.lineplot(x='epoch', y='val_accuracy', hue='Optimizer', data=df)"
      ],
      "execution_count": 27,
      "outputs": [
        {
          "output_type": "execute_result",
          "data": {
            "text/plain": [
              "<matplotlib.axes._subplots.AxesSubplot at 0x7fe9023736d8>"
            ]
          },
          "metadata": {
            "tags": []
          },
          "execution_count": 27
        },
        {
          "output_type": "display_data",
          "data": {
            "image/png": "[encoded data removed]",
            "text/plain": [
              "<Figure size 1080x576 with 1 Axes>"
            ]
          },
          "metadata": {
            "tags": []
          }
        }
      ]
    },
    {
      "cell_type": "markdown",
      "metadata": {
        "id": "ydAqeY9S8uHA"
      },
      "source": [
        "### Additional Written Tasks\n",
        "\n",
        "1. Describe the process of backpropagation in your own words: \n",
        "```\n",
        "What you take is the result the neural network ended up with, and the result you want. From this you calculate an error. You then use that error to go adjust the weights in the neural network.\n",
        "```\n",
        "\n"
      ]
    },
    {
      "cell_type": "markdown",
      "metadata": {
        "id": "FwlRJSfBlCvy"
      },
      "source": [
        "## Stretch Goals: \n",
        "\n",
        "- Implement GridSearch on anyone of the experiments\n",
        "- On the learning rate experiments, implement [EarlyStopping](https://www.tensorflow.org/api_docs/python/tf/keras/callbacks/EarlyStopping)\n",
        "- Review material on the math behind gradient descent: \n",
        "\n",
        "  - Gradient Descent\n",
        "    - Gradient Descent, Step-by-Step  by StatQuest w/ Josh Starmer. This will help you understand the gradient descent based optimization that happens underneath the hood of neural networks. It uses a non-neural network example, which I believe is a gentler introduction. You will hear me refer to this technique as \"vanilla\" gradient descent. \n",
        "    - Stochastic Gradient Descent, Clearly Explained!!! by StatQuest w/ Josh Starmer. This builds on the techniques in the previous video.  This technique is the one that is actually implemented inside modern 'nets. \n",
        "These are great resources to help you understand tomorrow's material at a deeper level. I highly recommend watching these ahead of tomorrow.\n",
        "\n",
        "  - Background Math\n",
        "    - Dot products and duality by 3Blue1Brown. Explains the core linear algebra operation happening in today's perceptron.\n",
        "The paradox of the derivative by 3Blue1Brown. Does a great job explaining a derivative. \n",
        "    - Visualizing the chain rule and product rule by 3Blue1Brown. Explains the black magic that happens within Stochastic Gradient Descent. \n",
        "These math resources are very much optional. They can be very heady, but I encourage you to explore. Your understanding of neural networks will greatly increase if you understand this math background.\n",
        "\n",
        "\n"
      ]
    }
  ]
}