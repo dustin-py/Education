{
 "cells": [
  {
   "cell_type": "markdown",
   "metadata": {
    "colab_type": "text",
    "id": "ObyHCH8HvHSf"
   },
   "source": [
    "<img align=\"left\" src=\"https://lever-client-logos.s3.amazonaws.com/864372b1-534c-480e-acd5-9711f850815c-1524247202159.png\" width=200>\n",
    "<br></br>\n",
    "<br></br>\n",
    "\n",
    "# *Data Science Unit 4 Sprint 2 Assignment 1*\n",
    "\n",
    "Use TensorFlow Keras & a sample of the [Quickdraw dataset](https://github.com/googlecreativelab/quickdraw-dataset) to build a sketch classification model. The dataset has been sampled to only 10 classes and 10000 observations per class. Please build a baseline classification model then run a few experiments with different optimizers and learning rates. \n",
    "\n",
    "*Don't forgot to switch to GPU on Colab!*"
   ]
  },
  {
   "cell_type": "markdown",
   "metadata": {
    "colab_type": "text",
    "id": "s-Tc3ovEyQ9b"
   },
   "source": [
    "## Load Your Data"
   ]
  },
  {
   "cell_type": "code",
   "execution_count": 1,
   "metadata": {
    "colab": {},
    "colab_type": "code",
    "id": "CkU0pAYCvU8o"
   },
   "outputs": [
    {
     "name": "stdout",
     "output_type": "stream",
     "text": [
      "(100000, 784)\n",
      "(100000,)\n"
     ]
    }
   ],
   "source": [
    "import numpy as np\n",
    "import tensorflow as tf \n",
    "\n",
    "data = np.load('../quickdraw10.npz')\n",
    "X = data['arr_0']\n",
    "y = data['arr_1']\n",
    "\n",
    "print(X.shape)\n",
    "print(y.shape)"
   ]
  },
  {
   "cell_type": "code",
   "execution_count": 2,
   "metadata": {
    "colab": {},
    "colab_type": "code",
    "id": "c8qsDqdqvHDd"
   },
   "outputs": [],
   "source": [
    "class_names = ['apple',\n",
    " 'anvil',\n",
    " 'airplane',\n",
    " 'banana',\n",
    " 'The Eiffel Tower',\n",
    " 'The Mona Lisa',\n",
    " 'The Great Wall of China',\n",
    " 'alarm clock',\n",
    " 'ant',\n",
    " 'asparagus']"
   ]
  },
  {
   "cell_type": "code",
   "execution_count": 3,
   "metadata": {
    "colab": {},
    "colab_type": "code",
    "id": "Owbm1EbxvA5A"
   },
   "outputs": [
    {
     "data": {
      "image/png": "[encoded data removed]",
      "text/plain": [
       "<Figure size 720x360 with 10 Axes>"
      ]
     },
     "metadata": {},
     "output_type": "display_data"
    }
   ],
   "source": [
    "import matplotlib.pyplot as plt\n",
    "plt.figure(figsize=(10,5))\n",
    "start = 0\n",
    "\n",
    "for num, name in enumerate(class_names):\n",
    "    plt.subplot(2,5, num+1)\n",
    "    plt.xticks([])\n",
    "    plt.yticks([])\n",
    "    plt.grid(False)\n",
    "    plt.imshow(X[start].reshape(28,28), cmap=plt.cm.binary)\n",
    "    plt.xlabel(name)\n",
    "    start += 10000\n",
    "plt.show()"
   ]
  },
  {
   "cell_type": "code",
   "execution_count": 4,
   "metadata": {
    "colab": {},
    "colab_type": "code",
    "id": "c97_M1WNvTNY"
   },
   "outputs": [],
   "source": [
    "# Need this line to randomly shuffle both the X & y at the same time.\n",
    "\n",
    "from sklearn.utils import shuffle\n",
    "X, y = shuffle(X, y)"
   ]
  },
  {
   "cell_type": "code",
   "execution_count": 14,
   "metadata": {},
   "outputs": [
    {
     "data": {
      "text/plain": [
       "array([  0,   0,   0,   0,   0,   0,   0,   0,   0,   0,   0,   0,   0,\n",
       "         0,   0,   0,   0,   0,   0,   0,   0,   0,   0,   0,   0,   0,\n",
       "         0,   0,   0,   0,   0,   0,   0,   0,   0,   0,   0,   0,   0,\n",
       "         0,   0,   0,   0,   0,   0,   0,   0,   0,   0,   0,   0,   0,\n",
       "         0,   0,   0,   0,   0,   0,   0,   0,   0,   0,   0,   0,   0,\n",
       "         0,   0,   0,   0,   0,   0,   0,   0,   0,   0,   0,   0,   0,\n",
       "         0,   0,   0,   0,   0,   0,   0,   0,   0,   0,   0,   0,   0,\n",
       "         0,   0,   0,   0,   0,   0,   0,   0,   0,   0,   0,   0,   0,\n",
       "         0,   0,   0,   0,   0,   0,   0,   0,   0,   0,   0,   0,   0,\n",
       "         0,   0,   0,   0,   0,   0,   0,   0,   0,   0,   0,   0,   0,\n",
       "         0,   0,   0,   0,   0,   0,   0,   0,   0,   0,   0,   0,   0,\n",
       "         0,   0,   0,   0,   0,   0,   0,   0,   0,   0,   0,   0,   0,\n",
       "         0,   0,   0,   0,   0,   0,   0,   0,   0,   0,   0,   0,   0,\n",
       "         0,   0,   0,   0,   0,   0,   0,   0,   0,   0,   0,   0,   0,\n",
       "         0,   0,   0,   0,   0,   0,   0,   0,   0,   0,   0,   0,   0,\n",
       "         0,   0,   0,   0,   0,   0,   0,   0,   0,   0,   0,   0,   0,\n",
       "         0,   0,   0,   0,   0,   0,   0,   0,   0,   0,   0,   0,   0,\n",
       "         0,   0,   0,   0,   0,   0,   0,   0,   0,   0,   0,   0,   0,\n",
       "         0,   0,   0,   0,   0,   0,   0,  54, 122, 136, 136, 154, 206,\n",
       "       232, 242, 243,  77,   0,   0,   0,  43, 170, 170,  88,  11,   0,\n",
       "         0,   0,   0,   0,   0,   0,   0,   0, 120, 251, 255, 248, 252,\n",
       "       255, 255, 255, 254, 251,  81,   0,   0,   0, 231, 255, 253, 255,\n",
       "       251, 174,  84,   9,   0,   0,   0,   0,   0, 107, 255, 193, 238,\n",
       "       254, 255, 229, 119,   8,   0,   0,   0,   0,   0,   0, 211, 213,\n",
       "       147, 231, 255, 251, 255, 243, 170, 125,  90,  61, 146, 251, 229,\n",
       "       255, 228, 255, 157,   5,   0,   0,   0,   0,   0,   0,   0,   0,\n",
       "       233, 145,   0, 121, 252, 217, 252, 200, 219, 250, 255, 255, 252,\n",
       "       248, 244, 217, 254, 128,   0,   0,   0,   0,   0,   0,   0,   0,\n",
       "         0,   9, 254, 114,   0, 166, 216,  11, 153, 255, 252, 223, 244,\n",
       "       255, 238, 171, 219, 247,  88,   0,   0,   0,   0,   0,   0,   0,\n",
       "         0,   0,   0,  42, 255,  82,   0, 211, 171,   0,   0,  50, 130,\n",
       "       166, 160, 128, 146, 236, 231,  53,   0,   0,   0,   0,   0,   0,\n",
       "         0,   0,   0,   0,   0,  74, 255,  50,   0, 249, 130,  63, 155,\n",
       "       232, 255, 255, 255, 255, 239, 174,  30,   0,   0,   0,   0,   0,\n",
       "         0,   0,   0,   0,   0,   0,   0, 106, 255,  18,   9, 255, 192,\n",
       "       254, 234, 158, 104,  89,  75,  47,   2,   0,   0,   0,   0,   0,\n",
       "         0,   0,   0,   0,   0,   0,   0,   0,   0, 122, 255, 119,  79,\n",
       "       255, 254, 138,   5,   0,   0,   0,   0,   0,   0,   0,   0,   0,\n",
       "         0,   0,   0,   0,   0,   0,   0,   0,   0,   0,   0,  59, 207,\n",
       "       252, 255, 255, 221,   0,   0,   0,   0,   0,   0,   0,   0,   0,\n",
       "         0,   0,   0,   0,   0,   0,   0,   0,   0,   0,   0,   0,   0,\n",
       "         0,   0,  13,  79, 240, 121,   0,   0,   0,   0,   0,   0,   0,\n",
       "         0,   0,   0,   0,   0,   0,   0,   0,   0,   0,   0,   0,   0,\n",
       "         0,   0,   0,   0,   0,   0,   0,   0,   0,   0,   0,   0,   0,\n",
       "         0,   0,   0,   0,   0,   0,   0,   0,   0,   0,   0,   0,   0,\n",
       "         0,   0,   0,   0,   0,   0,   0,   0,   0,   0,   0,   0,   0,\n",
       "         0,   0,   0,   0,   0,   0,   0,   0,   0,   0,   0,   0,   0,\n",
       "         0,   0,   0,   0,   0,   0,   0,   0,   0,   0,   0,   0,   0,\n",
       "         0,   0,   0,   0,   0,   0,   0,   0,   0,   0,   0,   0,   0,\n",
       "         0,   0,   0,   0,   0,   0,   0,   0,   0,   0,   0,   0,   0,\n",
       "         0,   0,   0,   0,   0,   0,   0,   0,   0,   0,   0,   0,   0,\n",
       "         0,   0,   0,   0,   0,   0,   0,   0,   0,   0,   0,   0,   0,\n",
       "         0,   0,   0,   0,   0,   0,   0,   0,   0,   0,   0,   0,   0,\n",
       "         0,   0,   0,   0,   0,   0,   0,   0,   0,   0,   0,   0,   0,\n",
       "         0,   0,   0,   0,   0,   0,   0,   0,   0,   0,   0,   0,   0,\n",
       "         0,   0,   0,   0,   0,   0,   0,   0,   0,   0,   0,   0,   0,\n",
       "         0,   0,   0,   0,   0,   0,   0,   0,   0,   0,   0,   0,   0,\n",
       "         0,   0,   0,   0,   0,   0,   0,   0,   0,   0,   0,   0,   0,\n",
       "         0,   0,   0,   0,   0,   0,   0,   0,   0,   0,   0,   0,   0,\n",
       "         0,   0,   0,   0,   0,   0,   0,   0,   0,   0,   0,   0,   0,\n",
       "         0,   0,   0,   0], dtype=uint8)"
      ]
     },
     "execution_count": 14,
     "metadata": {},
     "output_type": "execute_result"
    }
   ],
   "source": [
    "X[0]"
   ]
  },
  {
   "cell_type": "code",
   "execution_count": 24,
   "metadata": {},
   "outputs": [],
   "source": [
    "# normalize\n",
    "X_normalized = X.astype('float32')/255"
   ]
  },
  {
   "cell_type": "code",
   "execution_count": 17,
   "metadata": {},
   "outputs": [
    {
     "data": {
      "text/plain": [
       "(784,)"
      ]
     },
     "execution_count": 17,
     "metadata": {},
     "output_type": "execute_result"
    }
   ],
   "source": [
    "X_normal[0].shape"
   ]
  },
  {
   "cell_type": "markdown",
   "metadata": {
    "colab_type": "text",
    "id": "jb70CbLVyK65"
   },
   "source": [
    "## Build Your Baseline Model\n",
    "Some Hints:\n",
    "\n",
    "\n",
    "*  Model should have 784 input values (like mnist)\n",
    "*  Use `sparse_categorical_crossentropy` as your loss function.\n",
    "* You need 10 neurons in your last layer for output\n",
    "* You can add as many hidden layers with as many neurons in them as you like. \n",
    "* Limit your model epochs to 30 each time you fit.\n",
    "* You can use the `validation_split` command to automatically create a training / validation dataset.  Specify a percentage such as .2 in your fit statement. \n",
    "\n"
   ]
  },
  {
   "cell_type": "code",
   "execution_count": 64,
   "metadata": {},
   "outputs": [],
   "source": [
    "import tensorflow as tf\n",
    "from tensorflow.keras.models import Sequential\n",
    "from tensorflow.keras.layers import Dense\n",
    "from tensorflow.keras.callbacks import History\n",
    "\n",
    "history = History()\n",
    "\n",
    "loss_function = 'sparse_categorical_crossentropy'\n",
    "num_epochs = 30\n",
    "num_output = 10\n",
    "num_input = 784\n",
    "activation = 'sigmoid'\n",
    "optimizer = 'adam'\n",
    "\n",
    "model = Sequential()\n",
    "\n",
    "model.add(Dense(units=32, activation=activation, input_dim=num_input, name='input_dense_32'))\n",
    "\n",
    "model.add(Dense(units=num_output, activation='softmax'))"
   ]
  },
  {
   "cell_type": "code",
   "execution_count": 20,
   "metadata": {},
   "outputs": [
    {
     "name": "stdout",
     "output_type": "stream",
     "text": [
      "Model: \"sequential\"\n",
      "_________________________________________________________________\n",
      "Layer (type)                 Output Shape              Param #   \n",
      "=================================================================\n",
      "input_dense_32 (Dense)       (None, 32)                25120     \n",
      "_________________________________________________________________\n",
      "dense (Dense)                (None, 10)                330       \n",
      "=================================================================\n",
      "Total params: 25,450\n",
      "Trainable params: 25,450\n",
      "Non-trainable params: 0\n",
      "_________________________________________________________________\n"
     ]
    }
   ],
   "source": [
    "model.summary()"
   ]
  },
  {
   "cell_type": "code",
   "execution_count": 65,
   "metadata": {},
   "outputs": [],
   "source": [
    "model.compile(loss=loss_function, optimizer='adam', metrics=['accuracy'])"
   ]
  },
  {
   "cell_type": "code",
   "execution_count": 66,
   "metadata": {},
   "outputs": [
    {
     "name": "stdout",
     "output_type": "stream",
     "text": [
      "Epoch 1/30\n",
      "2500/2500 [==============================] - 6s 3ms/step - loss: 0.9422 - accuracy: 0.7283 - val_loss: 0.7505 - val_accuracy: 0.7760\n",
      "Epoch 2/30\n",
      "2500/2500 [==============================] - 6s 3ms/step - loss: 0.6976 - accuracy: 0.7921 - val_loss: 0.6717 - val_accuracy: 0.8012\n",
      "Epoch 3/30\n",
      "2500/2500 [==============================] - 6s 2ms/step - loss: 0.6364 - accuracy: 0.8117 - val_loss: 0.6332 - val_accuracy: 0.8135\n",
      "Epoch 4/30\n",
      "2500/2500 [==============================] - 6s 2ms/step - loss: 0.5977 - accuracy: 0.8243 - val_loss: 0.6099 - val_accuracy: 0.8204\n",
      "Epoch 5/30\n",
      "2500/2500 [==============================] - 6s 2ms/step - loss: 0.5703 - accuracy: 0.8326 - val_loss: 0.5957 - val_accuracy: 0.8249\n",
      "Epoch 6/30\n",
      "2500/2500 [==============================] - 8s 3ms/step - loss: 0.5501 - accuracy: 0.8390 - val_loss: 0.5844 - val_accuracy: 0.8272\n",
      "Epoch 7/30\n",
      "2500/2500 [==============================] - 6s 3ms/step - loss: 0.5342 - accuracy: 0.8426 - val_loss: 0.5782 - val_accuracy: 0.8289\n",
      "Epoch 8/30\n",
      "2500/2500 [==============================] - 9s 3ms/step - loss: 0.5224 - accuracy: 0.8458 - val_loss: 0.5789 - val_accuracy: 0.8309\n",
      "Epoch 9/30\n",
      "2500/2500 [==============================] - 7s 3ms/step - loss: 0.5116 - accuracy: 0.8490 - val_loss: 0.5721 - val_accuracy: 0.8314\n",
      "Epoch 10/30\n",
      "2500/2500 [==============================] - 6s 2ms/step - loss: 0.5029 - accuracy: 0.8509 - val_loss: 0.5713 - val_accuracy: 0.8324\n",
      "Epoch 11/30\n",
      "2500/2500 [==============================] - 6s 2ms/step - loss: 0.4947 - accuracy: 0.8534 - val_loss: 0.5740 - val_accuracy: 0.8307\n",
      "Epoch 12/30\n",
      "2500/2500 [==============================] - 6s 2ms/step - loss: 0.4880 - accuracy: 0.8557 - val_loss: 0.5709 - val_accuracy: 0.8314\n",
      "Epoch 13/30\n",
      "2500/2500 [==============================] - 6s 2ms/step - loss: 0.4816 - accuracy: 0.8571 - val_loss: 0.5726 - val_accuracy: 0.8318\n",
      "Epoch 14/30\n",
      "2500/2500 [==============================] - 6s 2ms/step - loss: 0.4755 - accuracy: 0.8588 - val_loss: 0.5722 - val_accuracy: 0.8321\n",
      "Epoch 15/30\n",
      "2500/2500 [==============================] - 6s 2ms/step - loss: 0.4705 - accuracy: 0.8601 - val_loss: 0.5677 - val_accuracy: 0.8351\n",
      "Epoch 16/30\n",
      "2500/2500 [==============================] - 6s 2ms/step - loss: 0.4663 - accuracy: 0.8611 - val_loss: 0.5716 - val_accuracy: 0.8334\n",
      "Epoch 17/30\n",
      "2500/2500 [==============================] - 6s 2ms/step - loss: 0.4610 - accuracy: 0.8627 - val_loss: 0.5711 - val_accuracy: 0.8346\n",
      "Epoch 18/30\n",
      "2500/2500 [==============================] - 7s 3ms/step - loss: 0.4572 - accuracy: 0.8639 - val_loss: 0.5749 - val_accuracy: 0.8342\n",
      "Epoch 19/30\n",
      "2500/2500 [==============================] - 6s 3ms/step - loss: 0.4532 - accuracy: 0.8647 - val_loss: 0.5728 - val_accuracy: 0.8348\n",
      "Epoch 20/30\n",
      "2500/2500 [==============================] - 6s 3ms/step - loss: 0.4491 - accuracy: 0.8657 - val_loss: 0.5727 - val_accuracy: 0.8360\n",
      "Epoch 21/30\n",
      "2500/2500 [==============================] - 6s 3ms/step - loss: 0.4457 - accuracy: 0.8676 - val_loss: 0.5742 - val_accuracy: 0.8349\n",
      "Epoch 22/30\n",
      "2500/2500 [==============================] - 6s 3ms/step - loss: 0.4425 - accuracy: 0.8687 - val_loss: 0.5773 - val_accuracy: 0.8337\n",
      "Epoch 23/30\n",
      "2500/2500 [==============================] - 6s 2ms/step - loss: 0.4387 - accuracy: 0.8699 - val_loss: 0.5745 - val_accuracy: 0.8361\n",
      "Epoch 24/30\n",
      "2500/2500 [==============================] - 6s 2ms/step - loss: 0.4361 - accuracy: 0.8696 - val_loss: 0.5798 - val_accuracy: 0.8335\n",
      "Epoch 25/30\n",
      "2500/2500 [==============================] - 6s 2ms/step - loss: 0.4328 - accuracy: 0.8714 - val_loss: 0.5869 - val_accuracy: 0.8327\n",
      "Epoch 26/30\n",
      "2500/2500 [==============================] - 6s 2ms/step - loss: 0.4302 - accuracy: 0.8722 - val_loss: 0.5806 - val_accuracy: 0.8356\n",
      "Epoch 27/30\n",
      "2500/2500 [==============================] - 6s 2ms/step - loss: 0.4278 - accuracy: 0.8733 - val_loss: 0.5825 - val_accuracy: 0.8346\n",
      "Epoch 28/30\n",
      "2500/2500 [==============================] - 6s 2ms/step - loss: 0.4242 - accuracy: 0.8737 - val_loss: 0.5841 - val_accuracy: 0.8348\n",
      "Epoch 29/30\n",
      "2500/2500 [==============================] - 6s 3ms/step - loss: 0.4225 - accuracy: 0.8747 - val_loss: 0.5909 - val_accuracy: 0.8322\n",
      "Epoch 30/30\n",
      "2500/2500 [==============================] - 6s 3ms/step - loss: 0.4199 - accuracy: 0.8752 - val_loss: 0.5841 - val_accuracy: 0.8352\n"
     ]
    },
    {
     "data": {
      "text/plain": [
       "<tensorflow.python.keras.callbacks.History at 0x7f8da8169898>"
      ]
     },
     "execution_count": 66,
     "metadata": {},
     "output_type": "execute_result"
    }
   ],
   "source": [
    "model.fit(X_normalized, y, epochs=num_epochs, validation_split=0.2, callbacks=[history])"
   ]
  },
  {
   "cell_type": "markdown",
   "metadata": {
    "colab_type": "text",
    "id": "b0QJURWh-9uv"
   },
   "source": [
    "### Visualize the results\n",
    "\n",
    "Create charts for both loss and accuracy by epoch. Use line graphs for both charts. Analyze the results. \n",
    "\n",
    "At what point should we have stopped training the model and why? "
   ]
  },
  {
   "cell_type": "code",
   "execution_count": 40,
   "metadata": {},
   "outputs": [],
   "source": [
    "from tensorflow.keras.callbacks import History \n",
    "history = History()"
   ]
  },
  {
   "cell_type": "code",
   "execution_count": 50,
   "metadata": {},
   "outputs": [
    {
     "data": {
      "text/plain": [
       "dict_keys(['loss', 'accuracy', 'val_loss', 'val_accuracy'])"
      ]
     },
     "execution_count": 50,
     "metadata": {},
     "output_type": "execute_result"
    }
   ],
   "source": [
    "history.history.keys()"
   ]
  },
  {
   "cell_type": "code",
   "execution_count": 51,
   "metadata": {
    "colab": {},
    "colab_type": "code",
    "id": "ijAlzfYKAFaY"
   },
   "outputs": [
    {
     "data": {
      "image/png": "[encoded data removed]",
      "text/plain": [
       "<Figure size 432x288 with 1 Axes>"
      ]
     },
     "metadata": {
      "needs_background": "light"
     },
     "output_type": "display_data"
    }
   ],
   "source": [
    "import seaborn as sns\n",
    "import pandas as pd\n",
    "\n",
    "df = pd.DataFrame.from_records(history.history)\n",
    "df['epoch'] = [i for i in range(df.shape[0])]\n",
    "\n",
    "ax = sns.lineplot(x='epoch', y='val_loss', data=df)\n",
    "ax = sns.lineplot(x='epoch', y='loss', data=df);"
   ]
  },
  {
   "cell_type": "code",
   "execution_count": 52,
   "metadata": {},
   "outputs": [],
   "source": [
    "%load_ext tensorboard\n",
    "\n",
    "import os\n",
    "import datetime\n",
    "import tensorflow as tf\n",
    "\n",
    "logdir = os.path.join(\"logs\", datetime.datetime.now().strftime(\"%Y%m%d-%H%M%S\"))\n",
    "tensorboard_callback = tf.keras.callbacks.TensorBoard(logdir, histogram_freq=1)"
   ]
  },
  {
   "cell_type": "code",
   "execution_count": 60,
   "metadata": {},
   "outputs": [
    {
     "name": "stdout",
     "output_type": "stream",
     "text": [
      "Model: \"sequential_6\"\n",
      "_________________________________________________________________\n",
      "Layer (type)                 Output Shape              Param #   \n",
      "=================================================================\n",
      "dense_20 (Dense)             (None, 32)                25120     \n",
      "_________________________________________________________________\n",
      "dense_21 (Dense)             (None, 64)                2112      \n",
      "_________________________________________________________________\n",
      "dense_22 (Dense)             (None, 32)                2080      \n",
      "_________________________________________________________________\n",
      "dense_23 (Dense)             (None, 10)                330       \n",
      "=================================================================\n",
      "Total params: 29,642\n",
      "Trainable params: 29,642\n",
      "Non-trainable params: 0\n",
      "_________________________________________________________________\n"
     ]
    }
   ],
   "source": [
    "from tensorflow.keras.layers import Flatten\n",
    "\n",
    "model_two = Sequential([\n",
    "    Dense(32, activation='relu', input_dim=num_input),\n",
    "    Dense(64, activation='relu'),\n",
    "    Dense(32, activation='relu'),\n",
    "    Dense(10, activation='softmax')\n",
    "])\n",
    "\n",
    "model_two.compile(loss='sparse_categorical_crossentropy',\n",
    "              optimizer='adam',\n",
    "              metrics=['accuracy'])\n",
    "\n",
    "model_two.summary()"
   ]
  },
  {
   "cell_type": "code",
   "execution_count": 62,
   "metadata": {},
   "outputs": [
    {
     "name": "stdout",
     "output_type": "stream",
     "text": [
      "Epoch 1/30\n",
      "   1/2500 [..............................] - ETA: 0s - loss: 2.3094 - accuracy: 0.0938WARNING:tensorflow:From /home/terrence/anaconda3/envs/unit4sprint2/lib/python3.7/site-packages/tensorflow/python/ops/summary_ops_v2.py:1277: stop (from tensorflow.python.eager.profiler) is deprecated and will be removed after 2020-07-01.\n",
      "Instructions for updating:\n",
      "use `tf.profiler.experimental.stop` instead.\n",
      "WARNING:tensorflow:Callbacks method `on_train_batch_end` is slow compared to the batch time (batch time: 0.0010s vs `on_train_batch_end` time: 0.0062s). Check your callbacks.\n",
      "2500/2500 [==============================] - 3s 1ms/step - loss: 0.7621 - accuracy: 0.7669 - val_loss: 0.6242 - val_accuracy: 0.8137\n",
      "Epoch 2/30\n",
      "2500/2500 [==============================] - 2s 894us/step - loss: 0.5653 - accuracy: 0.8286 - val_loss: 0.5774 - val_accuracy: 0.8263\n",
      "Epoch 3/30\n",
      "2500/2500 [==============================] - 2s 892us/step - loss: 0.5103 - accuracy: 0.8447 - val_loss: 0.5388 - val_accuracy: 0.8388\n",
      "Epoch 4/30\n",
      "2500/2500 [==============================] - 2s 880us/step - loss: 0.4735 - accuracy: 0.8553 - val_loss: 0.5225 - val_accuracy: 0.8464\n",
      "Epoch 5/30\n",
      "2500/2500 [==============================] - 2s 922us/step - loss: 0.4476 - accuracy: 0.8635 - val_loss: 0.5102 - val_accuracy: 0.8486\n",
      "Epoch 6/30\n",
      "2500/2500 [==============================] - 3s 1ms/step - loss: 0.4288 - accuracy: 0.8683 - val_loss: 0.5024 - val_accuracy: 0.8511\n",
      "Epoch 7/30\n",
      "2500/2500 [==============================] - 2s 863us/step - loss: 0.4127 - accuracy: 0.8725 - val_loss: 0.5191 - val_accuracy: 0.8487\n",
      "Epoch 8/30\n",
      "2500/2500 [==============================] - 3s 1ms/step - loss: 0.3989 - accuracy: 0.8781 - val_loss: 0.5098 - val_accuracy: 0.8493\n",
      "Epoch 9/30\n",
      "2500/2500 [==============================] - 2s 999us/step - loss: 0.3885 - accuracy: 0.8808 - val_loss: 0.5150 - val_accuracy: 0.8503\n",
      "Epoch 10/30\n",
      "2500/2500 [==============================] - 2s 918us/step - loss: 0.3793 - accuracy: 0.8828 - val_loss: 0.5028 - val_accuracy: 0.8501\n",
      "Epoch 11/30\n",
      "2500/2500 [==============================] - 3s 1ms/step - loss: 0.3708 - accuracy: 0.8857 - val_loss: 0.4983 - val_accuracy: 0.8548\n",
      "Epoch 12/30\n",
      "2500/2500 [==============================] - 2s 931us/step - loss: 0.3626 - accuracy: 0.8877 - val_loss: 0.5056 - val_accuracy: 0.8513\n",
      "Epoch 13/30\n",
      "2500/2500 [==============================] - 2s 922us/step - loss: 0.3567 - accuracy: 0.8898 - val_loss: 0.5131 - val_accuracy: 0.8536\n",
      "Epoch 14/30\n",
      "2500/2500 [==============================] - 2s 903us/step - loss: 0.3498 - accuracy: 0.8908 - val_loss: 0.5122 - val_accuracy: 0.8553\n",
      "Epoch 15/30\n",
      "2500/2500 [==============================] - 2s 905us/step - loss: 0.3433 - accuracy: 0.8938 - val_loss: 0.5195 - val_accuracy: 0.8514\n",
      "Epoch 16/30\n",
      "2500/2500 [==============================] - 3s 1ms/step - loss: 0.3373 - accuracy: 0.8950 - val_loss: 0.5128 - val_accuracy: 0.8561\n",
      "Epoch 17/30\n",
      "2500/2500 [==============================] - 3s 1ms/step - loss: 0.3329 - accuracy: 0.8964 - val_loss: 0.5320 - val_accuracy: 0.8526\n",
      "Epoch 18/30\n",
      "2500/2500 [==============================] - 3s 1ms/step - loss: 0.3289 - accuracy: 0.8971 - val_loss: 0.5284 - val_accuracy: 0.8512\n",
      "Epoch 19/30\n",
      "2500/2500 [==============================] - 2s 914us/step - loss: 0.3225 - accuracy: 0.8996 - val_loss: 0.5277 - val_accuracy: 0.8529\n",
      "Epoch 20/30\n",
      "2500/2500 [==============================] - 3s 1ms/step - loss: 0.3202 - accuracy: 0.9000 - val_loss: 0.5418 - val_accuracy: 0.8532\n",
      "Epoch 21/30\n",
      "2500/2500 [==============================] - 2s 903us/step - loss: 0.3161 - accuracy: 0.9011 - val_loss: 0.5579 - val_accuracy: 0.8501\n",
      "Epoch 22/30\n",
      "2500/2500 [==============================] - 2s 920us/step - loss: 0.3108 - accuracy: 0.9025 - val_loss: 0.5619 - val_accuracy: 0.8487\n",
      "Epoch 23/30\n",
      "2500/2500 [==============================] - 3s 1ms/step - loss: 0.3083 - accuracy: 0.9037 - val_loss: 0.5497 - val_accuracy: 0.8494\n",
      "Epoch 24/30\n",
      "2500/2500 [==============================] - 3s 1ms/step - loss: 0.3046 - accuracy: 0.9043 - val_loss: 0.5513 - val_accuracy: 0.8512\n",
      "Epoch 25/30\n",
      "2500/2500 [==============================] - 2s 922us/step - loss: 0.3013 - accuracy: 0.9057 - val_loss: 0.5554 - val_accuracy: 0.8526\n",
      "Epoch 26/30\n",
      "2500/2500 [==============================] - 3s 1ms/step - loss: 0.2988 - accuracy: 0.9058 - val_loss: 0.5672 - val_accuracy: 0.8482\n",
      "Epoch 27/30\n",
      "2500/2500 [==============================] - 3s 1ms/step - loss: 0.2956 - accuracy: 0.9072 - val_loss: 0.5759 - val_accuracy: 0.8504\n",
      "Epoch 28/30\n",
      "2500/2500 [==============================] - 3s 1ms/step - loss: 0.2945 - accuracy: 0.9068 - val_loss: 0.5767 - val_accuracy: 0.8498\n",
      "Epoch 29/30\n",
      "2500/2500 [==============================] - 2s 874us/step - loss: 0.2896 - accuracy: 0.9082 - val_loss: 0.5832 - val_accuracy: 0.8514\n",
      "Epoch 30/30\n",
      "2500/2500 [==============================] - 2s 872us/step - loss: 0.2870 - accuracy: 0.9089 - val_loss: 0.5879 - val_accuracy: 0.8492\n"
     ]
    },
    {
     "data": {
      "text/plain": [
       "<tensorflow.python.keras.callbacks.History at 0x7f8d5035eda0>"
      ]
     },
     "execution_count": 62,
     "metadata": {},
     "output_type": "execute_result"
    }
   ],
   "source": [
    "model_two.fit(X_normalized,\n",
    "             y,\n",
    "             epochs=num_epochs,\n",
    "             validation_split=.2,\n",
    "             callbacks=[tensorboard_callback])"
   ]
  },
  {
   "cell_type": "code",
   "execution_count": 63,
   "metadata": {},
   "outputs": [
    {
     "data": {
      "text/html": [
       "\n",
       "      <iframe id=\"tensorboard-frame-d6ca360f35530685\" width=\"100%\" height=\"800\" frameborder=\"0\">\n",
       "      </iframe>\n",
       "      <script>\n",
       "        (function() {\n",
       "          const frame = document.getElementById(\"tensorboard-frame-d6ca360f35530685\");\n",
       "          const url = new URL(\"/\", window.location);\n",
       "          const port = 6006;\n",
       "          if (port) {\n",
       "            url.port = port;\n",
       "          }\n",
       "          frame.src = url;\n",
       "        })();\n",
       "      </script>\n",
       "    "
      ],
      "text/plain": [
       "<IPython.core.display.HTML object>"
      ]
     },
     "metadata": {},
     "output_type": "display_data"
    }
   ],
   "source": [
    "%tensorboard --logdir logs"
   ]
  },
  {
   "cell_type": "markdown",
   "metadata": {
    "colab_type": "text",
    "id": "MAhBrcE4yOZe"
   },
   "source": [
    "## Change Optimizers\n",
    "Try using the keras `adam` optimizer instead of `sgd` in your model. Visualize the difference in validation loss between the models with different optimizers. "
   ]
  },
  {
   "cell_type": "code",
   "execution_count": null,
   "metadata": {
    "colab": {},
    "colab_type": "code",
    "id": "jIW_spOZ0cxy"
   },
   "outputs": [],
   "source": [
    "from tf.keras.optimizers import Adam\n",
    "\n",
    "adam = Adam()"
   ]
  },
  {
   "cell_type": "markdown",
   "metadata": {
    "colab_type": "text",
    "id": "EJrbh3qryi4w"
   },
   "source": [
    "### Additional Written Tasks:\n",
    "In this section, you will need to search for resources: \n",
    "1. Investigate the various [loss functions](https://www.tensorflow.org/api_docs/python/tf/keras/losses). Which is best suited for the task at hand (predicting 1 / 0) and why? \n",
    "2. What is the difference between a loss function and a metric? Why might we need both in Keras? \n",
    "3. Investigate the various [optimizers](https://www.tensorflow.org/api_docs/python/tf/keras/optimizers). Stochastic Gradient Descent (`sgd`) is not the learning algorithm dejour anyone. Why is that? What do newer optimizers such as `adam` have to offer? "
   ]
  },
  {
   "cell_type": "markdown",
   "metadata": {
    "colab_type": "text",
    "id": "Gzs4fd-RynDd"
   },
   "source": [
    "## Stretch Goals: \n",
    "\n",
    "- Research convolutional neural networks and try including convolution layers in your network.\n",
    "- Pick two classes and make QuickDraw a binary classification problem, how does your model architecture change?\n",
    "- Implement Cross Validation model evaluation on your Quickdraw implementation \n",
    "\n",
    "Watch some more videos on Gradient Descent:\n",
    "- [Gradient Descent, Step-by-Step](https://www.youtube.com/watch?v=sDv4f4s2SB8)  by StatQuest w/ Josh Starmer. This will help you understand the gradient descent based optimization that happens underneath the hood of neural networks. It uses a non-neural network example, which I believe is a gentler introduction. You will hear me refer to this technique as \"vanilla\" gradient descent. \n",
    "- [Stochastic Gradient Descent, Clearly Explained!!!](https://www.youtube.com/watch?v=vMh0zPT0tLI) by StatQuest w/ Josh Starmer. This builds on the techniques in the previous video.  This technique is the one that is actually implemented inside modern 'nets. \n",
    "- [Siraj Raval the evolution of gradient descent](https://www.youtube.com/watch?v=nhqo0u1a6fw)"
   ]
  }
 ],
 "metadata": {
  "accelerator": "GPU",
  "colab": {
   "collapsed_sections": [],
   "name": "LS_DS_432_TensorFlow_Assignment",
   "provenance": []
  },
  "kernelspec": {
   "display_name": "Python 3",
   "language": "python",
   "name": "python3"
  },
  "language_info": {
   "codemirror_mode": {
    "name": "ipython",
    "version": 3
   },
   "file_extension": ".py",
   "mimetype": "text/x-python",
   "name": "python",
   "nbconvert_exporter": "python",
   "pygments_lexer": "ipython3",
   "version": "3.7.0"
  }
 },
 "nbformat": 4,
 "nbformat_minor": 4
}
